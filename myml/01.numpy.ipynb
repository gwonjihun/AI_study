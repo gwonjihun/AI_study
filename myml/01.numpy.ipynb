{
 "cells": [
  {
   "cell_type": "markdown",
   "id": "ae12ad57-39b0-4f0d-8b36-09b706ac790b",
   "metadata": {},
   "source": [
    "# Numpy 및 Matlab + Pandas % 추가적으로 마크업 정리 사이트"
   ]
  },
  {
   "cell_type": "markdown",
   "id": "59e8b31a-62ab-4cbe-af83-e8e079fec220",
   "metadata": {},
   "source": [
    "### [마크업 사이트](https://gist.github.com/ihoneymon/652be052a0727ad59601)"
   ]
  },
  {
   "cell_type": "markdown",
   "id": "252e355d-57ae-4f27-af96-a16ea3e9a9b4",
   "metadata": {},
   "source": [
    "># Numpy Tutorial"
   ]
  },
  {
   "cell_type": "code",
   "execution_count": 25,
   "id": "83292e78-abaa-4352-bb9c-3289fa72deae",
   "metadata": {},
   "outputs": [],
   "source": [
    "score  = [12,24,45]"
   ]
  },
  {
   "cell_type": "code",
   "execution_count": 18,
   "id": "3f752e9c-7827-4822-aa38-4572ba5687c7",
   "metadata": {},
   "outputs": [],
   "source": [
    "for a in range(0,len(score)):\n",
    "    score[a] += 3"
   ]
  },
  {
   "cell_type": "code",
   "execution_count": 26,
   "id": "2a9defad-bc88-4145-a7e5-79872048c575",
   "metadata": {},
   "outputs": [],
   "source": [
    "for i,s in enumerate(score):\n",
    "    score[i] += 3"
   ]
  },
  {
   "cell_type": "markdown",
   "id": "39deddf3-ba90-429e-a5a7-e5160b8a443b",
   "metadata": {},
   "source": [
    "enumerate : for 반복문에서 리스트를 넣어주면 index와 list.value값을 for문으로 넣어준다"
   ]
  },
  {
   "cell_type": "code",
   "execution_count": 27,
   "id": "0b5636ef-415b-4354-8369-11f115b2efb3",
   "metadata": {},
   "outputs": [
    {
     "data": {
      "text/plain": [
       "[15, 27, 48]"
      ]
     },
     "execution_count": 27,
     "metadata": {},
     "output_type": "execute_result"
    }
   ],
   "source": [
    "score"
   ]
  },
  {
   "cell_type": "code",
   "execution_count": 28,
   "id": "fec93544-5f60-41db-aa0d-e990abbbf56b",
   "metadata": {},
   "outputs": [
    {
     "name": "stdout",
     "output_type": "stream",
     "text": [
      "Collecting numpy\n",
      "  Downloading numpy-1.23.1-cp38-cp38-win_amd64.whl (14.7 MB)\n",
      "     --------------------------------------- 14.7/14.7 MB 21.1 MB/s eta 0:00:00\n",
      "Installing collected packages: numpy\n",
      "Successfully installed numpy-1.23.1\n"
     ]
    }
   ],
   "source": [
    "!pip install numpy"
   ]
  },
  {
   "cell_type": "code",
   "execution_count": 31,
   "id": "9eae662f-b71b-419a-b1dd-1c9c5a9d087f",
   "metadata": {},
   "outputs": [
    {
     "name": "stdout",
     "output_type": "stream",
     "text": [
      "Collecting pandas\n",
      "  Downloading pandas-1.4.3-cp38-cp38-win_amd64.whl (10.6 MB)\n",
      "     --------------------------------------- 10.6/10.6 MB 16.4 MB/s eta 0:00:00\n",
      "Requirement already satisfied: python-dateutil>=2.8.1 in c:\\users\\027\\anaconda3\\envs\\myml\\lib\\site-packages (from pandas) (2.8.2)\n",
      "Requirement already satisfied: numpy>=1.18.5 in c:\\users\\027\\anaconda3\\envs\\myml\\lib\\site-packages (from pandas) (1.23.1)\n",
      "Collecting pytz>=2020.1\n",
      "  Using cached pytz-2022.1-py2.py3-none-any.whl (503 kB)\n",
      "Requirement already satisfied: six>=1.5 in c:\\users\\027\\anaconda3\\envs\\myml\\lib\\site-packages (from python-dateutil>=2.8.1->pandas) (1.16.0)\n",
      "Installing collected packages: pytz, pandas\n",
      "Successfully installed pandas-1.4.3 pytz-2022.1\n"
     ]
    }
   ],
   "source": [
    "!pip install pandas"
   ]
  },
  {
   "cell_type": "code",
   "execution_count": 32,
   "id": "d86fa9fc-3c04-4368-9759-285042f2c466",
   "metadata": {},
   "outputs": [
    {
     "data": {
      "text/plain": [
       "'1.23.1'"
      ]
     },
     "execution_count": 32,
     "metadata": {},
     "output_type": "execute_result"
    }
   ],
   "source": [
    "import numpy as np\n",
    "\n",
    "np.__version__"
   ]
  },
  {
   "cell_type": "code",
   "execution_count": null,
   "id": "a5a819e7-d2da-4384-9e32-dcdf9e307f24",
   "metadata": {},
   "outputs": [],
   "source": []
  },
  {
   "cell_type": "markdown",
   "id": "074e6391-367b-4083-a99d-13c67d39d8b2",
   "metadata": {},
   "source": [
    ">## ndarray 클래스\n",
    ">> ### ndarray\n",
    ">>> <img src = https://images.velog.io/images/mingki/post/e0cdf6b1-cfd0-4a64-82d1-0c489237f1c2/array_shape.png width = 500 heigh= 350><br>\n",
    ">>> shape(4,)-> turple임을 알려주기 위해서 \n",
    ">>> 축이 1개면 1차원, 축이 2개면 2차원, 축이 3개면 3차원 -> 축은 0부터 ...n으로 차례차례 증가한다.\n",
    ">>> * Numpy에서 제공하는 N 차원 배열 객체"
   ]
  },
  {
   "cell_type": "markdown",
   "id": "c6bb9387-0481-4329-8720-9b93a8f89477",
   "metadata": {},
   "source": [
    "   > "
   ]
  },
  {
   "cell_type": "code",
   "execution_count": 48,
   "id": "7327dcc1-531f-4d19-8c07-0a01688d2a98",
   "metadata": {},
   "outputs": [
    {
     "data": {
      "text/plain": [
       "array([23, 45, 56, 76])"
      ]
     },
     "execution_count": 48,
     "metadata": {},
     "output_type": "execute_result"
    }
   ],
   "source": [
    "xarr = np.array([23, 45, 56, 76])\n",
    "xarr"
   ]
  },
  {
   "cell_type": "code",
   "execution_count": 49,
   "id": "3a9f6c15-3878-4eee-8e53-9474c5f7eaf4",
   "metadata": {},
   "outputs": [
    {
     "data": {
      "text/plain": [
       "numpy.ndarray"
      ]
     },
     "execution_count": 49,
     "metadata": {},
     "output_type": "execute_result"
    }
   ],
   "source": [
    "type(xarr)"
   ]
  },
  {
   "cell_type": "code",
   "execution_count": 50,
   "id": "d3950b22-5727-4ce6-b46f-426526c78e28",
   "metadata": {},
   "outputs": [
    {
     "data": {
      "text/plain": [
       "(4,)"
      ]
     },
     "execution_count": 50,
     "metadata": {},
     "output_type": "execute_result"
    }
   ],
   "source": [
    "xarr.shape"
   ]
  },
  {
   "cell_type": "code",
   "execution_count": 51,
   "id": "25648a7c-84ac-41c3-9c9c-2062bc8f6573",
   "metadata": {},
   "outputs": [
    {
     "data": {
      "text/plain": [
       "tuple"
      ]
     },
     "execution_count": 51,
     "metadata": {},
     "output_type": "execute_result"
    }
   ],
   "source": [
    "type(xarr.shape)"
   ]
  },
  {
   "cell_type": "code",
   "execution_count": 52,
   "id": "ca6518bb-1c3a-4d0c-83fa-f158dea5b1c2",
   "metadata": {},
   "outputs": [
    {
     "data": {
      "text/plain": [
       "dtype('int32')"
      ]
     },
     "execution_count": 52,
     "metadata": {},
     "output_type": "execute_result"
    }
   ],
   "source": [
    "xarr.dtype"
   ]
  },
  {
   "cell_type": "code",
   "execution_count": 53,
   "id": "99cbd22c-e767-4663-9220-627be8832fe3",
   "metadata": {},
   "outputs": [
    {
     "data": {
      "text/plain": [
       "4"
      ]
     },
     "execution_count": 53,
     "metadata": {},
     "output_type": "execute_result"
    }
   ],
   "source": [
    "xarr.size"
   ]
  },
  {
   "cell_type": "code",
   "execution_count": 58,
   "id": "dc43d612-d6eb-43ed-af87-afb2e51c6b87",
   "metadata": {},
   "outputs": [
    {
     "data": {
      "text/plain": [
       "4"
      ]
     },
     "execution_count": 58,
     "metadata": {},
     "output_type": "execute_result"
    }
   ],
   "source": [
    "xarr.itemsize\n",
    "# 바이트 수"
   ]
  },
  {
   "cell_type": "code",
   "execution_count": 59,
   "id": "4244d598-10cb-4863-8f50-4261c8cb12af",
   "metadata": {},
   "outputs": [
    {
     "data": {
      "text/plain": [
       "16"
      ]
     },
     "execution_count": 59,
     "metadata": {},
     "output_type": "execute_result"
    }
   ],
   "source": [
    "xarr.size * xarr.itemsize\n",
    "# 할당된 메모리 크기"
   ]
  },
  {
   "cell_type": "code",
   "execution_count": 102,
   "id": "5128a334-079e-457e-88a5-62c26e807e62",
   "metadata": {},
   "outputs": [],
   "source": [
    "yarr = np.array([ [[10,12],[1,2]], \n",
    "                 [[12,14],[1,2]],\n",
    "                 [[15,12],[16,12]] ])"
   ]
  },
  {
   "cell_type": "code",
   "execution_count": 76,
   "id": "c06ba173-cc77-4b66-8f27-45c3a94ae13c",
   "metadata": {},
   "outputs": [
    {
     "data": {
      "text/plain": [
       "(3, 2, 2)"
      ]
     },
     "execution_count": 76,
     "metadata": {},
     "output_type": "execute_result"
    }
   ],
   "source": [
    "yarr.shape"
   ]
  },
  {
   "cell_type": "code",
   "execution_count": 79,
   "id": "b4a8c4d1-3cce-4df2-9bec-d959a075c9b1",
   "metadata": {},
   "outputs": [
    {
     "data": {
      "text/plain": [
       "dtype('int32')"
      ]
     },
     "execution_count": 79,
     "metadata": {},
     "output_type": "execute_result"
    }
   ],
   "source": [
    "yarr.dtype"
   ]
  },
  {
   "cell_type": "markdown",
   "id": "0165ec3e-533c-4bef-bda9-f1aba0e9ef8a",
   "metadata": {},
   "source": [
    "numpy에서 형변환"
   ]
  },
  {
   "cell_type": "code",
   "execution_count": 82,
   "id": "d6fdb819-ed44-4563-b8be-54140a32629e",
   "metadata": {},
   "outputs": [
    {
     "data": {
      "text/plain": [
       "array([[[10., 12.],\n",
       "        [ 1.,  2.]],\n",
       "\n",
       "       [[12., 14.],\n",
       "        [ 1.,  2.]],\n",
       "\n",
       "       [[15., 12.],\n",
       "        [16., 12.]]], dtype=float32)"
      ]
     },
     "execution_count": 82,
     "metadata": {},
     "output_type": "execute_result"
    }
   ],
   "source": [
    "yarr.astype('float32')"
   ]
  },
  {
   "cell_type": "code",
   "execution_count": 83,
   "id": "8daa4eda-ee23-4eb0-b62e-f1082a42c991",
   "metadata": {},
   "outputs": [],
   "source": [
    "yarr_float = yarr.astype('float32')"
   ]
  },
  {
   "cell_type": "code",
   "execution_count": 86,
   "id": "55a4bc62-7a8c-40aa-a6e9-6c1ca1b8f8d2",
   "metadata": {},
   "outputs": [
    {
     "data": {
      "text/plain": [
       "dtype('int32')"
      ]
     },
     "execution_count": 86,
     "metadata": {},
     "output_type": "execute_result"
    }
   ],
   "source": [
    "yarr.dtype"
   ]
  },
  {
   "cell_type": "code",
   "execution_count": 84,
   "id": "f399014b-5465-4b7b-83ff-2feeaf61ca8f",
   "metadata": {},
   "outputs": [
    {
     "data": {
      "text/plain": [
       "array([[[10., 12.],\n",
       "        [ 1.,  2.]],\n",
       "\n",
       "       [[12., 14.],\n",
       "        [ 1.,  2.]],\n",
       "\n",
       "       [[15., 12.],\n",
       "        [16., 12.]]], dtype=float32)"
      ]
     },
     "execution_count": 84,
     "metadata": {},
     "output_type": "execute_result"
    }
   ],
   "source": [
    "yarr_float"
   ]
  },
  {
   "cell_type": "code",
   "execution_count": 88,
   "id": "b21e1697-bd91-4216-a379-e4638955e518",
   "metadata": {},
   "outputs": [
    {
     "data": {
      "text/plain": [
       "dtype('float32')"
      ]
     },
     "execution_count": 88,
     "metadata": {},
     "output_type": "execute_result"
    }
   ],
   "source": [
    "xarr = np.array([32.,333.,321.,12.],dtype='float32')\n",
    "xarr.dtype"
   ]
  },
  {
   "cell_type": "markdown",
   "id": "9a34fff2-fef3-42bb-8ba9-ff4bd0b308e9",
   "metadata": {},
   "source": [
    "## 차원 변경\n",
    "reshape함수"
   ]
  },
  {
   "cell_type": "code",
   "execution_count": 89,
   "id": "a2f2c20c-3796-4889-b408-0a20f0246a65",
   "metadata": {},
   "outputs": [
    {
     "data": {
      "text/plain": [
       "array([[[[10, 12],\n",
       "         [ 1,  2]],\n",
       "\n",
       "        [[12, 14],\n",
       "         [ 1,  2]],\n",
       "\n",
       "        [[15, 12],\n",
       "         [16, 12]]]])"
      ]
     },
     "execution_count": 89,
     "metadata": {},
     "output_type": "execute_result"
    }
   ],
   "source": [
    "yarr.reshape(1,3,2,2)"
   ]
  },
  {
   "cell_type": "code",
   "execution_count": 96,
   "id": "5ad90ddc-f97e-45d4-844f-55961435fa38",
   "metadata": {},
   "outputs": [],
   "source": [
    "yarr_4d = yarr.reshape(-1,3,2,2,)\n",
    "# -1을 하게되는 경우 reshape에게 차원 수정을 맡긴다는 의미)"
   ]
  },
  {
   "cell_type": "code",
   "execution_count": 94,
   "id": "332be914-0033-4fd9-884f-ebd47222342e",
   "metadata": {},
   "outputs": [
    {
     "data": {
      "text/plain": [
       "(1, 3, 2, 2)"
      ]
     },
     "execution_count": 94,
     "metadata": {},
     "output_type": "execute_result"
    }
   ],
   "source": [
    "yarr_4d.shape"
   ]
  },
  {
   "cell_type": "code",
   "execution_count": 95,
   "id": "645255b5-37a7-4953-b181-366fb73d6212",
   "metadata": {},
   "outputs": [
    {
     "data": {
      "text/plain": [
       "array([[[[10, 12],\n",
       "         [ 1,  2]],\n",
       "\n",
       "        [[12, 14],\n",
       "         [ 1,  2]],\n",
       "\n",
       "        [[15, 12],\n",
       "         [16, 12]]]])"
      ]
     },
     "execution_count": 95,
     "metadata": {},
     "output_type": "execute_result"
    }
   ],
   "source": [
    "yarr_4d"
   ]
  },
  {
   "cell_type": "code",
   "execution_count": 101,
   "id": "cb6e6d6a-c5a1-4270-93fc-40bddcc50604",
   "metadata": {},
   "outputs": [
    {
     "ename": "AttributeError",
     "evalue": "'tuple' object has no attribute 'reshape'",
     "output_type": "error",
     "traceback": [
      "\u001b[1;31m---------------------------------------------------------------------------\u001b[0m",
      "\u001b[1;31mAttributeError\u001b[0m                            Traceback (most recent call last)",
      "Input \u001b[1;32mIn [101]\u001b[0m, in \u001b[0;36m<cell line: 1>\u001b[1;34m()\u001b[0m\n\u001b[1;32m----> 1\u001b[0m yarr\u001b[38;5;241m=\u001b[39m\u001b[43myarr\u001b[49m\u001b[38;5;241;43m.\u001b[39;49m\u001b[43mreshape\u001b[49m(\u001b[38;5;241m3\u001b[39m,\u001b[38;5;241m4\u001b[39m)\n",
      "\u001b[1;31mAttributeError\u001b[0m: 'tuple' object has no attribute 'reshape'"
     ]
    }
   ],
   "source": [
    "yarr=yarr.reshape(3,4)"
   ]
  },
  {
   "cell_type": "code",
   "execution_count": 103,
   "id": "6f21d464-5c75-40d2-862b-d8e5b14fdbff",
   "metadata": {},
   "outputs": [
    {
     "data": {
      "text/plain": [
       "array([[[10, 12],\n",
       "        [ 1,  2]],\n",
       "\n",
       "       [[12, 14],\n",
       "        [ 1,  2]],\n",
       "\n",
       "       [[15, 12],\n",
       "        [16, 12]]])"
      ]
     },
     "execution_count": 103,
     "metadata": {},
     "output_type": "execute_result"
    }
   ],
   "source": [
    "yarr.reshape(-1,2,2)"
   ]
  },
  {
   "cell_type": "code",
   "execution_count": 104,
   "id": "a6cabad9-97a8-46f8-9c10-b9d97eced0cb",
   "metadata": {},
   "outputs": [],
   "source": [
    "#축추가하기"
   ]
  },
  {
   "cell_type": "code",
   "execution_count": 111,
   "id": "88d96d46-ebaf-43a6-91a0-285e937cde8a",
   "metadata": {},
   "outputs": [
    {
     "data": {
      "text/plain": [
       "(3, 2, 2)"
      ]
     },
     "execution_count": 111,
     "metadata": {},
     "output_type": "execute_result"
    }
   ],
   "source": [
    "yarr.shape"
   ]
  },
  {
   "cell_type": "code",
   "execution_count": 112,
   "id": "6c150112-145c-4f80-97b5-4b4cc0a3acba",
   "metadata": {},
   "outputs": [
    {
     "data": {
      "text/plain": [
       "(1, 3, 2, 2)"
      ]
     },
     "execution_count": 112,
     "metadata": {},
     "output_type": "execute_result"
    }
   ],
   "source": [
    "yarr[np.newaxis,:].shape"
   ]
  },
  {
   "cell_type": "code",
   "execution_count": 113,
   "id": "3c343258-7f94-4997-b05e-e26f76b71f35",
   "metadata": {},
   "outputs": [
    {
     "data": {
      "text/plain": [
       "(3, 2, 2, 1)"
      ]
     },
     "execution_count": 113,
     "metadata": {},
     "output_type": "execute_result"
    }
   ],
   "source": [
    "yarr[:,:,:,np.newaxis].shape"
   ]
  },
  {
   "cell_type": "markdown",
   "id": "1f8290b9-b35f-4b63-a80a-e24cd1326d92",
   "metadata": {},
   "source": [
    "arange()"
   ]
  },
  {
   "cell_type": "code",
   "execution_count": 115,
   "id": "1add7cff-0a79-4a0f-bc1a-c579ee5aa1be",
   "metadata": {},
   "outputs": [
    {
     "data": {
      "text/plain": [
       "[0, 1, 2, 3, 4, 5, 6, 7, 8, 9]"
      ]
     },
     "execution_count": 115,
     "metadata": {},
     "output_type": "execute_result"
    }
   ],
   "source": [
    "list(range(10))"
   ]
  },
  {
   "cell_type": "code",
   "execution_count": 120,
   "id": "91d8d1c3-e9de-4836-b8dc-c056fb8cad65",
   "metadata": {},
   "outputs": [
    {
     "data": {
      "text/plain": [
       "array([[0, 1],\n",
       "       [2, 3],\n",
       "       [4, 5],\n",
       "       [6, 7],\n",
       "       [8, 9]])"
      ]
     },
     "execution_count": 120,
     "metadata": {},
     "output_type": "execute_result"
    }
   ],
   "source": [
    "np.arange(10).reshape(5,-1)"
   ]
  },
  {
   "cell_type": "code",
   "execution_count": 121,
   "id": "075348db-e1c5-4b70-8f6b-bef830d4d756",
   "metadata": {},
   "outputs": [
    {
     "data": {
      "text/plain": [
       "array([ 0.        ,  1.42857143,  2.85714286,  4.28571429,  5.71428571,\n",
       "        7.14285714,  8.57142857, 10.        ])"
      ]
     },
     "execution_count": 121,
     "metadata": {},
     "output_type": "execute_result"
    }
   ],
   "source": [
    "np.linspace(0,10,8)\n",
    "# np.linspace(A,B,C)\n",
    "# A~B사이를 C개로 나누어준다"
   ]
  },
  {
   "cell_type": "code",
   "execution_count": 123,
   "id": "b7da4bb0-cc1b-47cb-8075-6078aaa9d79c",
   "metadata": {},
   "outputs": [
    {
     "data": {
      "text/plain": [
       "array([[[-1, -1, -1],\n",
       "        [-1, -1, -1],\n",
       "        [-1, -1, -1]],\n",
       "\n",
       "       [[-1, -1, -1],\n",
       "        [-1, -1, -1],\n",
       "        [-1, -1, -1]]])"
      ]
     },
     "execution_count": 123,
     "metadata": {},
     "output_type": "execute_result"
    }
   ],
   "source": [
    "np.full((2,3,3),-1)"
   ]
  },
  {
   "cell_type": "code",
   "execution_count": 125,
   "id": "fa55351a-1dcc-4c77-8e0c-3f35e491a023",
   "metadata": {},
   "outputs": [
    {
     "data": {
      "text/plain": [
       "array([[0., 0., 0.],\n",
       "       [0., 0., 0.]])"
      ]
     },
     "execution_count": 125,
     "metadata": {},
     "output_type": "execute_result"
    }
   ],
   "source": [
    "np.zeros((2,3))"
   ]
  },
  {
   "cell_type": "code",
   "execution_count": 126,
   "id": "223366fe-3aac-4ef2-9fbc-727e006c35a1",
   "metadata": {},
   "outputs": [
    {
     "data": {
      "text/plain": [
       "(3, 2, 2)"
      ]
     },
     "execution_count": 126,
     "metadata": {},
     "output_type": "execute_result"
    }
   ],
   "source": [
    "yarr.shape"
   ]
  },
  {
   "cell_type": "code",
   "execution_count": 127,
   "id": "fdbe3ad6-a3a5-42bb-97ca-ca6c5fa9b752",
   "metadata": {},
   "outputs": [
    {
     "data": {
      "text/plain": [
       "array([[[0, 0],\n",
       "        [0, 0]],\n",
       "\n",
       "       [[0, 0],\n",
       "        [0, 0]],\n",
       "\n",
       "       [[0, 0],\n",
       "        [0, 0]]])"
      ]
     },
     "execution_count": 127,
     "metadata": {},
     "output_type": "execute_result"
    }
   ],
   "source": [
    "np.zeros_like(yarr)"
   ]
  },
  {
   "cell_type": "markdown",
   "id": "9481032a-a38e-4a7a-b0f4-7a88c7b13e47",
   "metadata": {},
   "source": [
    "## Random"
   ]
  },
  {
   "cell_type": "code",
   "execution_count": 128,
   "id": "0cf094a9-fbf7-456b-b1e4-3d06140cafcc",
   "metadata": {},
   "outputs": [
    {
     "data": {
      "text/plain": [
       "array([3.05530942, 2.0109791 , 1.06081523, 5.43454207, 1.97524089,\n",
       "       2.92109615, 3.13719646, 0.84831754, 1.42290852, 3.12137825])"
      ]
     },
     "execution_count": 128,
     "metadata": {},
     "output_type": "execute_result"
    }
   ],
   "source": [
    "np.random.uniform(0,10,10)"
   ]
  },
  {
   "cell_type": "code",
   "execution_count": 129,
   "id": "ac1b2fab-c5b4-4f96-8980-72e26e2cd0ec",
   "metadata": {},
   "outputs": [
    {
     "data": {
      "text/plain": [
       "array([-0.93892324, -0.28348121,  0.66369606, -0.88224565, -0.33948066,\n",
       "       -0.76113109,  0.31112529, -1.31406656,  0.12700768, -0.66972011])"
      ]
     },
     "execution_count": 129,
     "metadata": {},
     "output_type": "execute_result"
    }
   ],
   "source": [
    "np.random.normal(0,1, 10)"
   ]
  },
  {
   "cell_type": "code",
   "execution_count": 130,
   "id": "3e1843b0-f58b-4dcd-ba76-cbaaec8333bd",
   "metadata": {},
   "outputs": [
    {
     "data": {
      "text/plain": [
       "array([-0.04649418, -0.50198438,  1.93752923, -0.77621559, -0.87828557,\n",
       "        1.23687855,  0.30856228,  1.32044009,  1.19055107, -1.05663104])"
      ]
     },
     "execution_count": 130,
     "metadata": {},
     "output_type": "execute_result"
    }
   ],
   "source": [
    "np.random.randn(10)\n",
    "#표준정규분포 0~1에서 뽑는메서드"
   ]
  },
  {
   "cell_type": "code",
   "execution_count": 131,
   "id": "ed75d8ff-4787-461d-b8c2-abfe50767b7a",
   "metadata": {},
   "outputs": [],
   "source": [
    "xarr = np.arange(0,12).reshape(3,4)"
   ]
  },
  {
   "cell_type": "code",
   "execution_count": 132,
   "id": "c8488223-d0a5-4248-a088-b5d4b6c1b557",
   "metadata": {},
   "outputs": [
    {
     "data": {
      "text/plain": [
       "array([[ 0,  1,  2,  3],\n",
       "       [ 4,  5,  6,  7],\n",
       "       [ 8,  9, 10, 11]])"
      ]
     },
     "execution_count": 132,
     "metadata": {},
     "output_type": "execute_result"
    }
   ],
   "source": [
    "xarr"
   ]
  },
  {
   "cell_type": "code",
   "execution_count": 134,
   "id": "2c383e6e-c775-410a-9dbc-c12de90f2d6b",
   "metadata": {},
   "outputs": [
    {
     "data": {
      "text/plain": [
       "array([12, 15, 18, 21])"
      ]
     },
     "execution_count": 134,
     "metadata": {},
     "output_type": "execute_result"
    }
   ],
   "source": [
    "xarr.sum(axis=0)"
   ]
  },
  {
   "cell_type": "code",
   "execution_count": 139,
   "id": "6d9eb9b5-dc04-45fa-8a78-3aca82f2d48b",
   "metadata": {},
   "outputs": [
    {
     "data": {
      "text/plain": [
       "array([0, 1, 2, 3])"
      ]
     },
     "execution_count": 139,
     "metadata": {},
     "output_type": "execute_result"
    }
   ],
   "source": [
    "xarr[0]"
   ]
  },
  {
   "cell_type": "code",
   "execution_count": 141,
   "id": "86e33908-4c81-413f-b2ec-9cf318bbb354",
   "metadata": {},
   "outputs": [
    {
     "data": {
      "text/plain": [
       "array([0, 1, 2, 3])"
      ]
     },
     "execution_count": 141,
     "metadata": {},
     "output_type": "execute_result"
    }
   ],
   "source": [
    "xarr[:][0]"
   ]
  },
  {
   "cell_type": "code",
   "execution_count": 142,
   "id": "4ddbf4b9-6448-4c4c-94e0-a22ddf86f59b",
   "metadata": {},
   "outputs": [
    {
     "data": {
      "text/plain": [
       "array([3.26598632, 3.26598632, 3.26598632, 3.26598632])"
      ]
     },
     "execution_count": 142,
     "metadata": {},
     "output_type": "execute_result"
    }
   ],
   "source": [
    "xarr.std(axis=0)"
   ]
  },
  {
   "cell_type": "code",
   "execution_count": 143,
   "id": "1612e7bd-1cef-412e-ab81-54dce446eb9e",
   "metadata": {},
   "outputs": [
    {
     "data": {
      "text/plain": [
       "array([[ 3,  4,  5,  6],\n",
       "       [ 7,  8,  9, 10],\n",
       "       [11, 12, 13, 14]])"
      ]
     },
     "execution_count": 143,
     "metadata": {},
     "output_type": "execute_result"
    }
   ],
   "source": [
    "xarr+3"
   ]
  },
  {
   "cell_type": "code",
   "execution_count": 144,
   "id": "1df0bfd6-e6a3-4cae-b279-376ae6f41141",
   "metadata": {},
   "outputs": [
    {
     "data": {
      "text/plain": [
       "[1, 2, 3, 4]"
      ]
     },
     "execution_count": 144,
     "metadata": {},
     "output_type": "execute_result"
    }
   ],
   "source": [
    "[1,2,3]+[4]"
   ]
  },
  {
   "cell_type": "code",
   "execution_count": 146,
   "id": "88c9787e-5ce8-4024-b5f6-02668a276b09",
   "metadata": {},
   "outputs": [],
   "source": [
    "x = np.random.rand(3,4)"
   ]
  },
  {
   "cell_type": "code",
   "execution_count": 147,
   "id": "6ff157e9-18e6-4f49-b201-79581935fa54",
   "metadata": {},
   "outputs": [],
   "source": [
    "y= np.random.rand(4)"
   ]
  },
  {
   "cell_type": "code",
   "execution_count": 148,
   "id": "a59650d1-3e66-44bf-ab6a-6910a0c14634",
   "metadata": {},
   "outputs": [
    {
     "data": {
      "text/plain": [
       "array([[0.05255582, 0.36759376, 0.13460952, 0.03820565],\n",
       "       [0.34229323, 0.54553811, 0.66170286, 0.91295714],\n",
       "       [0.21838849, 0.77822073, 0.08039522, 0.63958327]])"
      ]
     },
     "execution_count": 148,
     "metadata": {},
     "output_type": "execute_result"
    }
   ],
   "source": [
    "x"
   ]
  },
  {
   "cell_type": "code",
   "execution_count": 153,
   "id": "46c576ad-0d5c-48a6-a955-e7d8de27dbd2",
   "metadata": {},
   "outputs": [
    {
     "data": {
      "text/plain": [
       "0.03560665274936335"
      ]
     },
     "execution_count": 153,
     "metadata": {},
     "output_type": "execute_result"
    }
   ],
   "source": [
    "x[0][0]* y[0]"
   ]
  },
  {
   "cell_type": "code",
   "execution_count": 158,
   "id": "f104fada-9cf9-42d7-adb3-3a076f501388",
   "metadata": {},
   "outputs": [
    {
     "data": {
      "text/plain": [
       "array([[0.05255582, 0.36759376, 0.13460952, 0.03820565],\n",
       "       [0.34229323, 0.54553811, 0.66170286, 0.91295714],\n",
       "       [0.21838849, 0.77822073, 0.08039522, 0.63958327]])"
      ]
     },
     "execution_count": 158,
     "metadata": {},
     "output_type": "execute_result"
    }
   ],
   "source": [
    "x"
   ]
  },
  {
   "cell_type": "code",
   "execution_count": 157,
   "id": "ff30c7ef-1e2c-4c49-99f2-8d7cbbcd0e07",
   "metadata": {},
   "outputs": [
    {
     "data": {
      "text/plain": [
       "array([0.44995677, 1.89629241, 1.45610212])"
      ]
     },
     "execution_count": 157,
     "metadata": {},
     "output_type": "execute_result"
    }
   ],
   "source": [
    "np.dot(x,y)"
   ]
  },
  {
   "cell_type": "code",
   "execution_count": 161,
   "id": "1d012735-f058-4518-9bb2-4b9312559143",
   "metadata": {},
   "outputs": [],
   "source": [
    "x= np.arange(0,3)\n",
    "y= np.arange(1,4)"
   ]
  },
  {
   "cell_type": "code",
   "execution_count": 163,
   "id": "396fd406-b6e9-4893-b42f-1474cec8050c",
   "metadata": {},
   "outputs": [
    {
     "data": {
      "text/plain": [
       "array([0, 1, 2])"
      ]
     },
     "execution_count": 163,
     "metadata": {},
     "output_type": "execute_result"
    }
   ],
   "source": [
    "x"
   ]
  },
  {
   "cell_type": "code",
   "execution_count": 164,
   "id": "d691ffc0-6592-4aa5-99ea-85d0d99ac86a",
   "metadata": {},
   "outputs": [
    {
     "data": {
      "text/plain": [
       "array([1, 2, 3])"
      ]
     },
     "execution_count": 164,
     "metadata": {},
     "output_type": "execute_result"
    }
   ],
   "source": [
    "y"
   ]
  },
  {
   "cell_type": "code",
   "execution_count": 162,
   "id": "869cb282-b14b-4f46-a79e-73978f379757",
   "metadata": {},
   "outputs": [
    {
     "data": {
      "text/plain": [
       "8"
      ]
     },
     "execution_count": 162,
     "metadata": {},
     "output_type": "execute_result"
    }
   ],
   "source": [
    "np.dot(x,y)"
   ]
  },
  {
   "cell_type": "code",
   "execution_count": 166,
   "id": "525fefb1-b8b5-47c2-8755-139d0a2f0a02",
   "metadata": {},
   "outputs": [
    {
     "data": {
      "text/plain": [
       "8"
      ]
     },
     "execution_count": 166,
     "metadata": {},
     "output_type": "execute_result"
    }
   ],
   "source": [
    "np.matmul(x,y)"
   ]
  },
  {
   "cell_type": "code",
   "execution_count": 170,
   "id": "cd334859-ec89-46ea-aa91-eceba98f77ca",
   "metadata": {},
   "outputs": [
    {
     "data": {
      "text/plain": [
       "array([False, False,  True,  True, False, False,  True, False,  True,\n",
       "        True, False, False])"
      ]
     },
     "execution_count": 170,
     "metadata": {},
     "output_type": "execute_result"
    }
   ],
   "source": [
    "x= np.array([1,2,3,5,1,2,5,2,31,5,2,1])\n",
    "x >2"
   ]
  },
  {
   "cell_type": "code",
   "execution_count": 173,
   "id": "a8d3b86b-522a-4f62-b2c0-8f33a1fa5cdd",
   "metadata": {},
   "outputs": [
    {
     "data": {
      "text/plain": [
       "array([ 3,  5,  5, 31,  5])"
      ]
     },
     "execution_count": 173,
     "metadata": {},
     "output_type": "execute_result"
    }
   ],
   "source": [
    "x[x>2]"
   ]
  },
  {
   "cell_type": "code",
   "execution_count": null,
   "id": "1bdc4244-3402-480f-86bd-e191a715a3f1",
   "metadata": {},
   "outputs": [],
   "source": []
  },
  {
   "cell_type": "code",
   "execution_count": 186,
   "id": "4f0aff88-3169-40a8-825f-2db9f1f1498a",
   "metadata": {},
   "outputs": [],
   "source": [
    "x = [1,2,3]\n",
    "y = [4,5,6]\n",
    "z = [[1,2,3],[6,7,8]]"
   ]
  },
  {
   "cell_type": "code",
   "execution_count": 190,
   "id": "502a6286-f43c-4f28-ae37-ab91c78a6623",
   "metadata": {},
   "outputs": [
    {
     "data": {
      "text/plain": [
       "array([1, 2, 3, 4, 5, 6])"
      ]
     },
     "execution_count": 190,
     "metadata": {},
     "output_type": "execute_result"
    }
   ],
   "source": [
    "np.concatenate((x,y),axis=0)"
   ]
  },
  {
   "cell_type": "markdown",
   "id": "7a22e2c2-ecbb-45ef-8042-c1e700fce437",
   "metadata": {},
   "source": [
    "vstack  -> 밑으로\n",
    "hstack - > 옆으로 합쳐준다\n"
   ]
  },
  {
   "cell_type": "code",
   "execution_count": 191,
   "id": "3a3c8c7c-0368-4078-a6e5-8712857c7a68",
   "metadata": {},
   "outputs": [],
   "source": [
    "x = np.arange(0,4).reshape(2,2)"
   ]
  },
  {
   "cell_type": "code",
   "execution_count": 192,
   "id": "9cba7b7b-3ca0-4b8b-970c-742d9d132f05",
   "metadata": {},
   "outputs": [
    {
     "data": {
      "text/plain": [
       "array([[0, 1],\n",
       "       [2, 3]])"
      ]
     },
     "execution_count": 192,
     "metadata": {},
     "output_type": "execute_result"
    }
   ],
   "source": [
    "x"
   ]
  },
  {
   "cell_type": "code",
   "execution_count": 193,
   "id": "8c8c31b2-944b-4d2d-a6e5-7163ebae384f",
   "metadata": {},
   "outputs": [
    {
     "data": {
      "text/plain": [
       "2"
      ]
     },
     "execution_count": 193,
     "metadata": {},
     "output_type": "execute_result"
    }
   ],
   "source": [
    "x[1,0]"
   ]
  },
  {
   "cell_type": "code",
   "execution_count": 194,
   "id": "30b7f2be-fdfc-4886-9e64-aa6490574879",
   "metadata": {},
   "outputs": [
    {
     "data": {
      "text/plain": [
       "2"
      ]
     },
     "execution_count": 194,
     "metadata": {},
     "output_type": "execute_result"
    }
   ],
   "source": [
    "x[1][0]"
   ]
  },
  {
   "cell_type": "markdown",
   "id": "468b7459-8b32-4794-8570-0d00e2de54a4",
   "metadata": {},
   "source": [
    "Numpy의 인덱싱 방식은\n",
    "arr[][] 가 아닌\n",
    "arr[a,b,]이다"
   ]
  },
  {
   "cell_type": "code",
   "execution_count": 195,
   "id": "5c580168-1f0d-4f80-bbd0-6868e29821e6",
   "metadata": {},
   "outputs": [],
   "source": [
    "x = np.arange(0,6)"
   ]
  },
  {
   "cell_type": "code",
   "execution_count": 196,
   "id": "8009f950-1de7-4c0a-9fca-e23668c87c97",
   "metadata": {},
   "outputs": [
    {
     "data": {
      "text/plain": [
       "array([0, 1, 2, 3, 4, 5])"
      ]
     },
     "execution_count": 196,
     "metadata": {},
     "output_type": "execute_result"
    }
   ],
   "source": [
    "x"
   ]
  },
  {
   "cell_type": "code",
   "execution_count": 197,
   "id": "10c96ed3-1103-4155-aed1-283bc65aeda6",
   "metadata": {},
   "outputs": [
    {
     "data": {
      "text/plain": [
       "(array([4, 5], dtype=int64),)"
      ]
     },
     "execution_count": 197,
     "metadata": {},
     "output_type": "execute_result"
    }
   ],
   "source": [
    "np.where(x>3)"
   ]
  },
  {
   "cell_type": "markdown",
   "id": "f3188b03-7089-4079-bcd2-a3ec98e6aa91",
   "metadata": {},
   "source": [
    "행 카운트 방법"
   ]
  },
  {
   "cell_type": "code",
   "execution_count": 198,
   "id": "c92d7cad-46ed-49eb-bcb0-def3f3bcf938",
   "metadata": {},
   "outputs": [
    {
     "data": {
      "text/plain": [
       "3"
      ]
     },
     "execution_count": 198,
     "metadata": {},
     "output_type": "execute_result"
    }
   ],
   "source": [
    "x = np.array([1,2,3,4,5,6])\n",
    "y = np.where(x>3,1,0)\n",
    "y.sum()"
   ]
  },
  {
   "cell_type": "code",
   "execution_count": 202,
   "id": "87463c0c-02b8-4aea-b1a7-cea9466f218c",
   "metadata": {},
   "outputs": [
    {
     "data": {
      "text/plain": [
       "array([[-1.00959711, -0.72442468,  0.05937016, -1.12221424],\n",
       "       [ 0.25148216, -0.9546156 , -1.06949596, -1.62917662],\n",
       "       [ 2.31161809,  0.17203263,  0.36338134,  0.47684578]])"
      ]
     },
     "execution_count": 202,
     "metadata": {},
     "output_type": "execute_result"
    }
   ],
   "source": [
    "x = np.random.randn(3,4)\n",
    "x"
   ]
  },
  {
   "cell_type": "code",
   "execution_count": 201,
   "id": "ad7c201c-abaf-458d-bf69-746e408ce6ea",
   "metadata": {},
   "outputs": [
    {
     "data": {
      "text/plain": [
       "array([0, 2, 3], dtype=int64)"
      ]
     },
     "execution_count": 201,
     "metadata": {},
     "output_type": "execute_result"
    }
   ],
   "source": [
    "np.argmax(x,axis=1)"
   ]
  },
  {
   "cell_type": "code",
   "execution_count": 203,
   "id": "15d328b9-67da-4b2d-b3f4-d683caa499b3",
   "metadata": {},
   "outputs": [],
   "source": [
    "x = np.arange(0,10)"
   ]
  },
  {
   "cell_type": "code",
   "execution_count": 204,
   "id": "c600bb41-c914-4c01-b470-6df6afd64940",
   "metadata": {},
   "outputs": [
    {
     "data": {
      "text/plain": [
       "array([0, 1, 2, 3, 4, 5, 6, 7, 8, 9])"
      ]
     },
     "execution_count": 204,
     "metadata": {},
     "output_type": "execute_result"
    }
   ],
   "source": [
    "x"
   ]
  },
  {
   "cell_type": "code",
   "execution_count": 208,
   "id": "1587eaf1-488e-46b5-8bf9-ea10a82e211c",
   "metadata": {},
   "outputs": [],
   "source": [
    "x = np.genfromtxt('./datasets/iris.csv',delimiter=',',skip_header=1)"
   ]
  },
  {
   "cell_type": "code",
   "execution_count": 212,
   "id": "a1b1b98c-19b8-4a04-8185-27c2a8c9ca8a",
   "metadata": {},
   "outputs": [
    {
     "data": {
      "text/plain": [
       "(150, 5)"
      ]
     },
     "execution_count": 212,
     "metadata": {},
     "output_type": "execute_result"
    }
   ],
   "source": [
    "x.shape"
   ]
  },
  {
   "cell_type": "code",
   "execution_count": 213,
   "id": "2ab4cdd2-f95a-48ca-b101-d38025bb95a1",
   "metadata": {},
   "outputs": [
    {
     "data": {
      "text/plain": [
       "dtype('float64')"
      ]
     },
     "execution_count": 213,
     "metadata": {},
     "output_type": "execute_result"
    }
   ],
   "source": [
    "x.dtype"
   ]
  },
  {
   "cell_type": "code",
   "execution_count": 220,
   "id": "7f13e6c1-9308-4d1c-babb-da6c2d473b62",
   "metadata": {},
   "outputs": [
    {
     "ename": "AttributeError",
     "evalue": "'numpy.ndarray' object has no attribute 'deepcopy'",
     "output_type": "error",
     "traceback": [
      "\u001b[1;31m---------------------------------------------------------------------------\u001b[0m",
      "\u001b[1;31mAttributeError\u001b[0m                            Traceback (most recent call last)",
      "Input \u001b[1;32mIn [220]\u001b[0m, in \u001b[0;36m<cell line: 1>\u001b[1;34m()\u001b[0m\n\u001b[1;32m----> 1\u001b[0m iris \u001b[38;5;241m=\u001b[39m \u001b[43mx\u001b[49m\u001b[43m[\u001b[49m\u001b[43m:\u001b[49m\u001b[43m,\u001b[49m\u001b[43m:\u001b[49m\u001b[38;5;241;43m4\u001b[39;49m\u001b[43m]\u001b[49m\u001b[38;5;241;43m.\u001b[39;49m\u001b[43mdeepcopy\u001b[49m()\n",
      "\u001b[1;31mAttributeError\u001b[0m: 'numpy.ndarray' object has no attribute 'deepcopy'"
     ]
    }
   ],
   "source": [
    "iris = x[:,:4].deepcopy()"
   ]
  },
  {
   "cell_type": "code",
   "execution_count": 219,
   "id": "cf1a9ea0-f632-44b7-8d01-c809b7444cf2",
   "metadata": {},
   "outputs": [
    {
     "data": {
      "text/plain": [
       "array([[5.1, 3.5, 1.4, 0.2],\n",
       "       [4.9, 3. , 1.4, 0.2],\n",
       "       [4.7, 3.2, 1.3, 0.2],\n",
       "       [4.6, 3.1, 1.5, 0.2],\n",
       "       [5. , 3.6, 1.4, 0.2],\n",
       "       [5.4, 3.9, 1.7, 0.4],\n",
       "       [4.6, 3.4, 1.4, 0.3],\n",
       "       [5. , 3.4, 1.5, 0.2],\n",
       "       [4.4, 2.9, 1.4, 0.2],\n",
       "       [4.9, 3.1, 1.5, 0.1],\n",
       "       [5.4, 3.7, 1.5, 0.2],\n",
       "       [4.8, 3.4, 1.6, 0.2],\n",
       "       [4.8, 3. , 1.4, 0.1],\n",
       "       [4.3, 3. , 1.1, 0.1],\n",
       "       [5.8, 4. , 1.2, 0.2],\n",
       "       [5.7, 4.4, 1.5, 0.4],\n",
       "       [5.4, 3.9, 1.3, 0.4],\n",
       "       [5.1, 3.5, 1.4, 0.3],\n",
       "       [5.7, 3.8, 1.7, 0.3],\n",
       "       [5.1, 3.8, 1.5, 0.3],\n",
       "       [5.4, 3.4, 1.7, 0.2],\n",
       "       [5.1, 3.7, 1.5, 0.4],\n",
       "       [4.6, 3.6, 1. , 0.2],\n",
       "       [5.1, 3.3, 1.7, 0.5],\n",
       "       [4.8, 3.4, 1.9, 0.2],\n",
       "       [5. , 3. , 1.6, 0.2],\n",
       "       [5. , 3.4, 1.6, 0.4],\n",
       "       [5.2, 3.5, 1.5, 0.2],\n",
       "       [5.2, 3.4, 1.4, 0.2],\n",
       "       [4.7, 3.2, 1.6, 0.2],\n",
       "       [4.8, 3.1, 1.6, 0.2],\n",
       "       [5.4, 3.4, 1.5, 0.4],\n",
       "       [5.2, 4.1, 1.5, 0.1],\n",
       "       [5.5, 4.2, 1.4, 0.2],\n",
       "       [4.9, 3.1, 1.5, 0.2],\n",
       "       [5. , 3.2, 1.2, 0.2],\n",
       "       [5.5, 3.5, 1.3, 0.2],\n",
       "       [4.9, 3.6, 1.4, 0.1],\n",
       "       [4.4, 3. , 1.3, 0.2],\n",
       "       [5.1, 3.4, 1.5, 0.2],\n",
       "       [5. , 3.5, 1.3, 0.3],\n",
       "       [4.5, 2.3, 1.3, 0.3],\n",
       "       [4.4, 3.2, 1.3, 0.2],\n",
       "       [5. , 3.5, 1.6, 0.6],\n",
       "       [5.1, 3.8, 1.9, 0.4],\n",
       "       [4.8, 3. , 1.4, 0.3],\n",
       "       [5.1, 3.8, 1.6, 0.2],\n",
       "       [4.6, 3.2, 1.4, 0.2],\n",
       "       [5.3, 3.7, 1.5, 0.2],\n",
       "       [5. , 3.3, 1.4, 0.2],\n",
       "       [7. , 3.2, 4.7, 1.4],\n",
       "       [6.4, 3.2, 4.5, 1.5],\n",
       "       [6.9, 3.1, 4.9, 1.5],\n",
       "       [5.5, 2.3, 4. , 1.3],\n",
       "       [6.5, 2.8, 4.6, 1.5],\n",
       "       [5.7, 2.8, 4.5, 1.3],\n",
       "       [6.3, 3.3, 4.7, 1.6],\n",
       "       [4.9, 2.4, 3.3, 1. ],\n",
       "       [6.6, 2.9, 4.6, 1.3],\n",
       "       [5.2, 2.7, 3.9, 1.4],\n",
       "       [5. , 2. , 3.5, 1. ],\n",
       "       [5.9, 3. , 4.2, 1.5],\n",
       "       [6. , 2.2, 4. , 1. ],\n",
       "       [6.1, 2.9, 4.7, 1.4],\n",
       "       [5.6, 2.9, 3.6, 1.3],\n",
       "       [6.7, 3.1, 4.4, 1.4],\n",
       "       [5.6, 3. , 4.5, 1.5],\n",
       "       [5.8, 2.7, 4.1, 1. ],\n",
       "       [6.2, 2.2, 4.5, 1.5],\n",
       "       [5.6, 2.5, 3.9, 1.1],\n",
       "       [5.9, 3.2, 4.8, 1.8],\n",
       "       [6.1, 2.8, 4. , 1.3],\n",
       "       [6.3, 2.5, 4.9, 1.5],\n",
       "       [6.1, 2.8, 4.7, 1.2],\n",
       "       [6.4, 2.9, 4.3, 1.3],\n",
       "       [6.6, 3. , 4.4, 1.4],\n",
       "       [6.8, 2.8, 4.8, 1.4],\n",
       "       [6.7, 3. , 5. , 1.7],\n",
       "       [6. , 2.9, 4.5, 1.5],\n",
       "       [5.7, 2.6, 3.5, 1. ],\n",
       "       [5.5, 2.4, 3.8, 1.1],\n",
       "       [5.5, 2.4, 3.7, 1. ],\n",
       "       [5.8, 2.7, 3.9, 1.2],\n",
       "       [6. , 2.7, 5.1, 1.6],\n",
       "       [5.4, 3. , 4.5, 1.5],\n",
       "       [6. , 3.4, 4.5, 1.6],\n",
       "       [6.7, 3.1, 4.7, 1.5],\n",
       "       [6.3, 2.3, 4.4, 1.3],\n",
       "       [5.6, 3. , 4.1, 1.3],\n",
       "       [5.5, 2.5, 4. , 1.3],\n",
       "       [5.5, 2.6, 4.4, 1.2],\n",
       "       [6.1, 3. , 4.6, 1.4],\n",
       "       [5.8, 2.6, 4. , 1.2],\n",
       "       [5. , 2.3, 3.3, 1. ],\n",
       "       [5.6, 2.7, 4.2, 1.3],\n",
       "       [5.7, 3. , 4.2, 1.2],\n",
       "       [5.7, 2.9, 4.2, 1.3],\n",
       "       [6.2, 2.9, 4.3, 1.3],\n",
       "       [5.1, 2.5, 3. , 1.1],\n",
       "       [5.7, 2.8, 4.1, 1.3],\n",
       "       [6.3, 3.3, 6. , 2.5],\n",
       "       [5.8, 2.7, 5.1, 1.9],\n",
       "       [7.1, 3. , 5.9, 2.1],\n",
       "       [6.3, 2.9, 5.6, 1.8],\n",
       "       [6.5, 3. , 5.8, 2.2],\n",
       "       [7.6, 3. , 6.6, 2.1],\n",
       "       [4.9, 2.5, 4.5, 1.7],\n",
       "       [7.3, 2.9, 6.3, 1.8],\n",
       "       [6.7, 2.5, 5.8, 1.8],\n",
       "       [7.2, 3.6, 6.1, 2.5],\n",
       "       [6.5, 3.2, 5.1, 2. ],\n",
       "       [6.4, 2.7, 5.3, 1.9],\n",
       "       [6.8, 3. , 5.5, 2.1],\n",
       "       [5.7, 2.5, 5. , 2. ],\n",
       "       [5.8, 2.8, 5.1, 2.4],\n",
       "       [6.4, 3.2, 5.3, 2.3],\n",
       "       [6.5, 3. , 5.5, 1.8],\n",
       "       [7.7, 3.8, 6.7, 2.2],\n",
       "       [7.7, 2.6, 6.9, 2.3],\n",
       "       [6. , 2.2, 5. , 1.5],\n",
       "       [6.9, 3.2, 5.7, 2.3],\n",
       "       [5.6, 2.8, 4.9, 2. ],\n",
       "       [7.7, 2.8, 6.7, 2. ],\n",
       "       [6.3, 2.7, 4.9, 1.8],\n",
       "       [6.7, 3.3, 5.7, 2.1],\n",
       "       [7.2, 3.2, 6. , 1.8],\n",
       "       [6.2, 2.8, 4.8, 1.8],\n",
       "       [6.1, 3. , 4.9, 1.8],\n",
       "       [6.4, 2.8, 5.6, 2.1],\n",
       "       [7.2, 3. , 5.8, 1.6],\n",
       "       [7.4, 2.8, 6.1, 1.9],\n",
       "       [7.9, 3.8, 6.4, 2. ],\n",
       "       [6.4, 2.8, 5.6, 2.2],\n",
       "       [6.3, 2.8, 5.1, 1.5],\n",
       "       [6.1, 2.6, 5.6, 1.4],\n",
       "       [7.7, 3. , 6.1, 2.3],\n",
       "       [6.3, 3.4, 5.6, 2.4],\n",
       "       [6.4, 3.1, 5.5, 1.8],\n",
       "       [6. , 3. , 4.8, 1.8],\n",
       "       [6.9, 3.1, 5.4, 2.1],\n",
       "       [6.7, 3.1, 5.6, 2.4],\n",
       "       [6.9, 3.1, 5.1, 2.3],\n",
       "       [5.8, 2.7, 5.1, 1.9],\n",
       "       [6.8, 3.2, 5.9, 2.3],\n",
       "       [6.7, 3.3, 5.7, 2.5],\n",
       "       [6.7, 3. , 5.2, 2.3],\n",
       "       [6.3, 2.5, 5. , 1.9],\n",
       "       [6.5, 3. , 5.2, 2. ],\n",
       "       [6.2, 3.4, 5.4, 2.3],\n",
       "       [5.9, 3. , 5.1, 1.8]])"
      ]
     },
     "execution_count": 219,
     "metadata": {},
     "output_type": "execute_result"
    }
   ],
   "source": [
    "iris"
   ]
  },
  {
   "cell_type": "code",
   "execution_count": 221,
   "id": "b2cfd1b3-5cc3-46e0-acea-47432b51fb8d",
   "metadata": {},
   "outputs": [
    {
     "data": {
      "text/plain": [
       "5.843333333333334"
      ]
     },
     "execution_count": 221,
     "metadata": {},
     "output_type": "execute_result"
    }
   ],
   "source": [
    "iris[:,0].mean()"
   ]
  },
  {
   "cell_type": "code",
   "execution_count": 237,
   "id": "396d5fe9-3119-4f2d-848d-883bdb8a358f",
   "metadata": {},
   "outputs": [],
   "source": [
    "iris_big = iris[iris[:,0]>iris[:,0].mean()]"
   ]
  },
  {
   "cell_type": "code",
   "execution_count": 246,
   "id": "d5f646b1-e6a3-4b74-885c-90f83f252d9c",
   "metadata": {},
   "outputs": [
    {
     "data": {
      "text/plain": [
       "5.9"
      ]
     },
     "execution_count": 246,
     "metadata": {},
     "output_type": "execute_result"
    }
   ],
   "source": [
    "iris_big[:,0].min()"
   ]
  },
  {
   "cell_type": "code",
   "execution_count": 239,
   "id": "df6a90c6-9220-4418-a52f-2b9790f101ec",
   "metadata": {},
   "outputs": [],
   "source": [
    "iris_sma = iris[iris[:,0]<=iris[:,0].mean()]"
   ]
  },
  {
   "cell_type": "code",
   "execution_count": null,
   "id": "5fbdda57-e1f9-45ae-85ae-5634ac785fa3",
   "metadata": {},
   "outputs": [],
   "source": []
  },
  {
   "cell_type": "code",
   "execution_count": 240,
   "id": "7111f20a-1e7e-4787-9b54-a2a6d476b316",
   "metadata": {},
   "outputs": [],
   "source": [
    "list_x = np.where(iris[:,0]>iris[:,0].mean(),1,0)"
   ]
  },
  {
   "cell_type": "code",
   "execution_count": 241,
   "id": "31db4b1d-6a6f-47a8-8fe1-2a44139be950",
   "metadata": {},
   "outputs": [
    {
     "data": {
      "text/plain": [
       "70"
      ]
     },
     "execution_count": 241,
     "metadata": {},
     "output_type": "execute_result"
    }
   ],
   "source": [
    "list_x.sum()"
   ]
  },
  {
   "cell_type": "code",
   "execution_count": 247,
   "id": "d4e59ea1-fa37-498f-89ce-3bba1beb401b",
   "metadata": {},
   "outputs": [],
   "source": [
    "list_x.tofile('test.csv')\n"
   ]
  },
  {
   "cell_type": "markdown",
   "id": "46123a4f-4cf1-4685-8c71-f16b933d38af",
   "metadata": {},
   "source": [
    "### numpy file 저장 방식"
   ]
  },
  {
   "cell_type": "code",
   "execution_count": 248,
   "id": "8759a642-bb66-4b06-bb2f-178ff982e45b",
   "metadata": {},
   "outputs": [],
   "source": [
    "np.savez('my_iris.npz', x=iris_big,y=iris_sma) "
   ]
  },
  {
   "cell_type": "markdown",
   "id": "553f3911-4dd7-4037-9163-a05642200a36",
   "metadata": {},
   "source": [
    "### numpy file 불러오기"
   ]
  },
  {
   "cell_type": "code",
   "execution_count": 249,
   "id": "aa0dd30d-5c45-400b-89a0-bf22eb48509f",
   "metadata": {},
   "outputs": [
    {
     "data": {
      "text/plain": [
       "numpy.lib.npyio.NpzFile"
      ]
     },
     "execution_count": 249,
     "metadata": {},
     "output_type": "execute_result"
    }
   ],
   "source": [
    "my_iris = np.load('my_iris.npz')\n",
    "type(my_iris)"
   ]
  },
  {
   "cell_type": "code",
   "execution_count": 252,
   "id": "8ed0d26d-3ecf-48a5-a356-96f704d74dc5",
   "metadata": {},
   "outputs": [],
   "source": [
    "xarr = my_iris['x']"
   ]
  },
  {
   "cell_type": "code",
   "execution_count": 254,
   "id": "936c7cbf-8abe-4a58-9a5c-3fe091594512",
   "metadata": {},
   "outputs": [
    {
     "data": {
      "text/plain": [
       "(70, 4)"
      ]
     },
     "execution_count": 254,
     "metadata": {},
     "output_type": "execute_result"
    }
   ],
   "source": [
    "xarr.shape"
   ]
  },
  {
   "cell_type": "code",
   "execution_count": 255,
   "id": "c6b30456-c584-41a6-a028-b1326df142da",
   "metadata": {},
   "outputs": [],
   "source": [
    "yarr = my_iris['y']"
   ]
  },
  {
   "cell_type": "code",
   "execution_count": 256,
   "id": "89fd4c14-44d5-418d-a657-db37525fd48c",
   "metadata": {},
   "outputs": [
    {
     "data": {
      "text/plain": [
       "(80, 4)"
      ]
     },
     "execution_count": 256,
     "metadata": {},
     "output_type": "execute_result"
    }
   ],
   "source": [
    "yarr.shape"
   ]
  },
  {
   "cell_type": "code",
   "execution_count": null,
   "id": "b92dc78a-c5d3-4b06-8025-ffdb50a5dec7",
   "metadata": {},
   "outputs": [],
   "source": []
  }
 ],
 "metadata": {
  "kernelspec": {
   "display_name": "myml",
   "language": "python",
   "name": "myml"
  },
  "language_info": {
   "codemirror_mode": {
    "name": "ipython",
    "version": 3
   },
   "file_extension": ".py",
   "mimetype": "text/x-python",
   "name": "python",
   "nbconvert_exporter": "python",
   "pygments_lexer": "ipython3",
   "version": "3.8.0"
  }
 },
 "nbformat": 4,
 "nbformat_minor": 5
}
