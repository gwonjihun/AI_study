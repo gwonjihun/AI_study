{
 "cells": [
  {
   "cell_type": "code",
   "execution_count": 1,
   "id": "0e9eb112-261a-4e1e-a5ed-51fd189583a0",
   "metadata": {},
   "outputs": [
    {
     "name": "stdout",
     "output_type": "stream",
     "text": [
      "Requirement already satisfied: sklearn in c:\\users\\027\\anaconda3\\envs\\myml\\lib\\site-packages (0.0)\n",
      "Requirement already satisfied: scikit-learn in c:\\users\\027\\anaconda3\\envs\\myml\\lib\\site-packages (from sklearn) (1.1.1)\n",
      "Requirement already satisfied: joblib>=1.0.0 in c:\\users\\027\\anaconda3\\envs\\myml\\lib\\site-packages (from scikit-learn->sklearn) (1.1.0)\n",
      "Requirement already satisfied: numpy>=1.17.3 in c:\\users\\027\\anaconda3\\envs\\myml\\lib\\site-packages (from scikit-learn->sklearn) (1.23.1)\n",
      "Requirement already satisfied: scipy>=1.3.2 in c:\\users\\027\\anaconda3\\envs\\myml\\lib\\site-packages (from scikit-learn->sklearn) (1.8.1)\n",
      "Requirement already satisfied: threadpoolctl>=2.0.0 in c:\\users\\027\\anaconda3\\envs\\myml\\lib\\site-packages (from scikit-learn->sklearn) (3.1.0)\n"
     ]
    }
   ],
   "source": [
    "!pip install sklearn"
   ]
  },
  {
   "cell_type": "code",
   "execution_count": 1,
   "id": "fed1bdbc-1604-4e3b-9f82-d8b785a40e6c",
   "metadata": {},
   "outputs": [],
   "source": [
    "import numpy as np\n",
    "import pandas as pd\n",
    "\n",
    "import sklearn\n",
    "\n",
    "import matplotlib.pyplot as plt\n",
    "import seaborn as sns"
   ]
  },
  {
   "cell_type": "code",
   "execution_count": 2,
   "id": "09d39e3f-c1de-4686-bba7-a386edd547c1",
   "metadata": {},
   "outputs": [],
   "source": [
    "titanic = pd.read_csv(\"datasets/titanic.csv\")"
   ]
  },
  {
   "cell_type": "code",
   "execution_count": 3,
   "id": "87ccd890-cefd-44aa-b697-37bee699f294",
   "metadata": {},
   "outputs": [
    {
     "data": {
      "text/html": [
       "<div>\n",
       "<style scoped>\n",
       "    .dataframe tbody tr th:only-of-type {\n",
       "        vertical-align: middle;\n",
       "    }\n",
       "\n",
       "    .dataframe tbody tr th {\n",
       "        vertical-align: top;\n",
       "    }\n",
       "\n",
       "    .dataframe thead th {\n",
       "        text-align: right;\n",
       "    }\n",
       "</style>\n",
       "<table border=\"1\" class=\"dataframe\">\n",
       "  <thead>\n",
       "    <tr style=\"text-align: right;\">\n",
       "      <th></th>\n",
       "      <th>PassengerId</th>\n",
       "      <th>Survived</th>\n",
       "      <th>Pclass</th>\n",
       "      <th>Name</th>\n",
       "      <th>Sex</th>\n",
       "      <th>Age</th>\n",
       "      <th>SibSp</th>\n",
       "      <th>Parch</th>\n",
       "      <th>Ticket</th>\n",
       "      <th>Fare</th>\n",
       "      <th>Cabin</th>\n",
       "      <th>Embarked</th>\n",
       "    </tr>\n",
       "  </thead>\n",
       "  <tbody>\n",
       "    <tr>\n",
       "      <th>0</th>\n",
       "      <td>1</td>\n",
       "      <td>lost</td>\n",
       "      <td>3rd</td>\n",
       "      <td>Braund, Mr. Owen Harris</td>\n",
       "      <td>male</td>\n",
       "      <td>22.0</td>\n",
       "      <td>1</td>\n",
       "      <td>0</td>\n",
       "      <td>A/5 21171</td>\n",
       "      <td>7.2500</td>\n",
       "      <td>NaN</td>\n",
       "      <td>S</td>\n",
       "    </tr>\n",
       "    <tr>\n",
       "      <th>1</th>\n",
       "      <td>2</td>\n",
       "      <td>saved</td>\n",
       "      <td>1st</td>\n",
       "      <td>Cumings, Mrs. John Bradley (Florence Briggs Th...</td>\n",
       "      <td>female</td>\n",
       "      <td>38.0</td>\n",
       "      <td>1</td>\n",
       "      <td>0</td>\n",
       "      <td>PC 17599</td>\n",
       "      <td>71.2833</td>\n",
       "      <td>C85</td>\n",
       "      <td>C</td>\n",
       "    </tr>\n",
       "    <tr>\n",
       "      <th>2</th>\n",
       "      <td>3</td>\n",
       "      <td>saved</td>\n",
       "      <td>3rd</td>\n",
       "      <td>Heikkinen, Miss. Laina</td>\n",
       "      <td>female</td>\n",
       "      <td>26.0</td>\n",
       "      <td>0</td>\n",
       "      <td>0</td>\n",
       "      <td>STON/O2. 3101282</td>\n",
       "      <td>7.9250</td>\n",
       "      <td>NaN</td>\n",
       "      <td>S</td>\n",
       "    </tr>\n",
       "    <tr>\n",
       "      <th>3</th>\n",
       "      <td>4</td>\n",
       "      <td>saved</td>\n",
       "      <td>1st</td>\n",
       "      <td>Futrelle, Mrs. Jacques Heath (Lily May Peel)</td>\n",
       "      <td>female</td>\n",
       "      <td>35.0</td>\n",
       "      <td>1</td>\n",
       "      <td>0</td>\n",
       "      <td>113803</td>\n",
       "      <td>53.1000</td>\n",
       "      <td>C123</td>\n",
       "      <td>S</td>\n",
       "    </tr>\n",
       "    <tr>\n",
       "      <th>4</th>\n",
       "      <td>5</td>\n",
       "      <td>lost</td>\n",
       "      <td>3rd</td>\n",
       "      <td>Allen, Mr. William Henry</td>\n",
       "      <td>male</td>\n",
       "      <td>35.0</td>\n",
       "      <td>0</td>\n",
       "      <td>0</td>\n",
       "      <td>373450</td>\n",
       "      <td>8.0500</td>\n",
       "      <td>NaN</td>\n",
       "      <td>S</td>\n",
       "    </tr>\n",
       "  </tbody>\n",
       "</table>\n",
       "</div>"
      ],
      "text/plain": [
       "   PassengerId Survived Pclass  \\\n",
       "0            1     lost    3rd   \n",
       "1            2    saved    1st   \n",
       "2            3    saved    3rd   \n",
       "3            4    saved    1st   \n",
       "4            5     lost    3rd   \n",
       "\n",
       "                                                Name     Sex   Age  SibSp  \\\n",
       "0                            Braund, Mr. Owen Harris    male  22.0      1   \n",
       "1  Cumings, Mrs. John Bradley (Florence Briggs Th...  female  38.0      1   \n",
       "2                             Heikkinen, Miss. Laina  female  26.0      0   \n",
       "3       Futrelle, Mrs. Jacques Heath (Lily May Peel)  female  35.0      1   \n",
       "4                           Allen, Mr. William Henry    male  35.0      0   \n",
       "\n",
       "   Parch            Ticket     Fare Cabin Embarked  \n",
       "0      0         A/5 21171   7.2500   NaN        S  \n",
       "1      0          PC 17599  71.2833   C85        C  \n",
       "2      0  STON/O2. 3101282   7.9250   NaN        S  \n",
       "3      0            113803  53.1000  C123        S  \n",
       "4      0            373450   8.0500   NaN        S  "
      ]
     },
     "execution_count": 3,
     "metadata": {},
     "output_type": "execute_result"
    }
   ],
   "source": [
    "titanic.head()"
   ]
  },
  {
   "cell_type": "code",
   "execution_count": 4,
   "id": "8484b828-f4b0-402e-b05f-c6d1171b4724",
   "metadata": {},
   "outputs": [
    {
     "name": "stdout",
     "output_type": "stream",
     "text": [
      "<class 'pandas.core.frame.DataFrame'>\n",
      "RangeIndex: 891 entries, 0 to 890\n",
      "Data columns (total 12 columns):\n",
      " #   Column       Non-Null Count  Dtype  \n",
      "---  ------       --------------  -----  \n",
      " 0   PassengerId  891 non-null    int64  \n",
      " 1   Survived     891 non-null    object \n",
      " 2   Pclass       891 non-null    object \n",
      " 3   Name         891 non-null    object \n",
      " 4   Sex          891 non-null    object \n",
      " 5   Age          714 non-null    float64\n",
      " 6   SibSp        891 non-null    int64  \n",
      " 7   Parch        891 non-null    int64  \n",
      " 8   Ticket       891 non-null    object \n",
      " 9   Fare         891 non-null    float64\n",
      " 10  Cabin        204 non-null    object \n",
      " 11  Embarked     889 non-null    object \n",
      "dtypes: float64(2), int64(3), object(7)\n",
      "memory usage: 83.7+ KB\n"
     ]
    }
   ],
   "source": [
    "titanic.info()"
   ]
  },
  {
   "cell_type": "code",
   "execution_count": 5,
   "id": "e090c881-131b-4da0-b9b7-87bd35619955",
   "metadata": {},
   "outputs": [
    {
     "data": {
      "text/html": [
       "<div>\n",
       "<style scoped>\n",
       "    .dataframe tbody tr th:only-of-type {\n",
       "        vertical-align: middle;\n",
       "    }\n",
       "\n",
       "    .dataframe tbody tr th {\n",
       "        vertical-align: top;\n",
       "    }\n",
       "\n",
       "    .dataframe thead th {\n",
       "        text-align: right;\n",
       "    }\n",
       "</style>\n",
       "<table border=\"1\" class=\"dataframe\">\n",
       "  <thead>\n",
       "    <tr style=\"text-align: right;\">\n",
       "      <th></th>\n",
       "      <th>PassengerId</th>\n",
       "      <th>Age</th>\n",
       "      <th>SibSp</th>\n",
       "      <th>Parch</th>\n",
       "      <th>Fare</th>\n",
       "    </tr>\n",
       "  </thead>\n",
       "  <tbody>\n",
       "    <tr>\n",
       "      <th>count</th>\n",
       "      <td>891.000000</td>\n",
       "      <td>714.000000</td>\n",
       "      <td>891.000000</td>\n",
       "      <td>891.000000</td>\n",
       "      <td>891.000000</td>\n",
       "    </tr>\n",
       "    <tr>\n",
       "      <th>mean</th>\n",
       "      <td>446.000000</td>\n",
       "      <td>29.699118</td>\n",
       "      <td>0.523008</td>\n",
       "      <td>0.381594</td>\n",
       "      <td>32.204208</td>\n",
       "    </tr>\n",
       "    <tr>\n",
       "      <th>std</th>\n",
       "      <td>257.353842</td>\n",
       "      <td>14.526497</td>\n",
       "      <td>1.102743</td>\n",
       "      <td>0.806057</td>\n",
       "      <td>49.693429</td>\n",
       "    </tr>\n",
       "    <tr>\n",
       "      <th>min</th>\n",
       "      <td>1.000000</td>\n",
       "      <td>0.420000</td>\n",
       "      <td>0.000000</td>\n",
       "      <td>0.000000</td>\n",
       "      <td>0.000000</td>\n",
       "    </tr>\n",
       "    <tr>\n",
       "      <th>25%</th>\n",
       "      <td>223.500000</td>\n",
       "      <td>20.125000</td>\n",
       "      <td>0.000000</td>\n",
       "      <td>0.000000</td>\n",
       "      <td>7.910400</td>\n",
       "    </tr>\n",
       "    <tr>\n",
       "      <th>50%</th>\n",
       "      <td>446.000000</td>\n",
       "      <td>28.000000</td>\n",
       "      <td>0.000000</td>\n",
       "      <td>0.000000</td>\n",
       "      <td>14.454200</td>\n",
       "    </tr>\n",
       "    <tr>\n",
       "      <th>75%</th>\n",
       "      <td>668.500000</td>\n",
       "      <td>38.000000</td>\n",
       "      <td>1.000000</td>\n",
       "      <td>0.000000</td>\n",
       "      <td>31.000000</td>\n",
       "    </tr>\n",
       "    <tr>\n",
       "      <th>max</th>\n",
       "      <td>891.000000</td>\n",
       "      <td>80.000000</td>\n",
       "      <td>8.000000</td>\n",
       "      <td>6.000000</td>\n",
       "      <td>512.329200</td>\n",
       "    </tr>\n",
       "  </tbody>\n",
       "</table>\n",
       "</div>"
      ],
      "text/plain": [
       "       PassengerId         Age       SibSp       Parch        Fare\n",
       "count   891.000000  714.000000  891.000000  891.000000  891.000000\n",
       "mean    446.000000   29.699118    0.523008    0.381594   32.204208\n",
       "std     257.353842   14.526497    1.102743    0.806057   49.693429\n",
       "min       1.000000    0.420000    0.000000    0.000000    0.000000\n",
       "25%     223.500000   20.125000    0.000000    0.000000    7.910400\n",
       "50%     446.000000   28.000000    0.000000    0.000000   14.454200\n",
       "75%     668.500000   38.000000    1.000000    0.000000   31.000000\n",
       "max     891.000000   80.000000    8.000000    6.000000  512.329200"
      ]
     },
     "execution_count": 5,
     "metadata": {},
     "output_type": "execute_result"
    }
   ],
   "source": [
    "titanic.describe()"
   ]
  },
  {
   "cell_type": "code",
   "execution_count": 97,
   "id": "855c0fa9-efbb-4453-b6d6-8ff162d656af",
   "metadata": {},
   "outputs": [],
   "source": [
    "df = titanic.copy()"
   ]
  },
  {
   "cell_type": "code",
   "execution_count": 98,
   "id": "ad466d09-8a52-4b67-88bf-6020b1e6c493",
   "metadata": {},
   "outputs": [
    {
     "data": {
      "text/plain": [
       "PassengerId      0\n",
       "Survived         0\n",
       "Pclass           0\n",
       "Name             0\n",
       "Sex              0\n",
       "Age            177\n",
       "SibSp            0\n",
       "Parch            0\n",
       "Ticket           0\n",
       "Fare             0\n",
       "Cabin          687\n",
       "Embarked         2\n",
       "dtype: int64"
      ]
     },
     "execution_count": 98,
     "metadata": {},
     "output_type": "execute_result"
    }
   ],
   "source": [
    "df.isna().sum(axis=0)"
   ]
  },
  {
   "cell_type": "code",
   "execution_count": 99,
   "id": "b5bebea3-5977-4c4a-a6e9-4a0551535bcf",
   "metadata": {},
   "outputs": [
    {
     "data": {
      "text/plain": [
       "0"
      ]
     },
     "execution_count": 99,
     "metadata": {},
     "output_type": "execute_result"
    }
   ],
   "source": [
    "## 중복확인해서 지우기\n",
    "df.duplicated(keep=False).sum()"
   ]
  },
  {
   "cell_type": "code",
   "execution_count": 100,
   "id": "f1a11d58-56e1-47a5-a7ef-9a673b1546c9",
   "metadata": {},
   "outputs": [
    {
     "data": {
      "text/plain": [
       "<AxesSubplot:>"
      ]
     },
     "execution_count": 100,
     "metadata": {},
     "output_type": "execute_result"
    },
    {
     "data": {
      "image/png": "[encoded data removed]",
      "text/plain": [
       "<Figure size 432x288 with 2 Axes>"
      ]
     },
     "metadata": {
      "needs_background": "light"
     },
     "output_type": "display_data"
    }
   ],
   "source": [
    "sns.heatmap(df.isna())"
   ]
  },
  {
   "cell_type": "code",
   "execution_count": 101,
   "id": "e60ccc2e-8b95-4acf-8fc5-41a26954e5fc",
   "metadata": {},
   "outputs": [
    {
     "data": {
      "text/html": [
       "<div>\n",
       "<style scoped>\n",
       "    .dataframe tbody tr th:only-of-type {\n",
       "        vertical-align: middle;\n",
       "    }\n",
       "\n",
       "    .dataframe tbody tr th {\n",
       "        vertical-align: top;\n",
       "    }\n",
       "\n",
       "    .dataframe thead th {\n",
       "        text-align: right;\n",
       "    }\n",
       "</style>\n",
       "<table border=\"1\" class=\"dataframe\">\n",
       "  <thead>\n",
       "    <tr style=\"text-align: right;\">\n",
       "      <th></th>\n",
       "      <th>PassengerId</th>\n",
       "      <th>Survived</th>\n",
       "      <th>Pclass</th>\n",
       "      <th>Name</th>\n",
       "      <th>Sex</th>\n",
       "      <th>Age</th>\n",
       "      <th>SibSp</th>\n",
       "      <th>Parch</th>\n",
       "      <th>Ticket</th>\n",
       "      <th>Fare</th>\n",
       "      <th>Cabin</th>\n",
       "      <th>Embarked</th>\n",
       "    </tr>\n",
       "  </thead>\n",
       "  <tbody>\n",
       "    <tr>\n",
       "      <th>0</th>\n",
       "      <td>1</td>\n",
       "      <td>lost</td>\n",
       "      <td>3rd</td>\n",
       "      <td>Braund, Mr. Owen Harris</td>\n",
       "      <td>male</td>\n",
       "      <td>22.0</td>\n",
       "      <td>1</td>\n",
       "      <td>0</td>\n",
       "      <td>A/5 21171</td>\n",
       "      <td>7.2500</td>\n",
       "      <td>NaN</td>\n",
       "      <td>S</td>\n",
       "    </tr>\n",
       "    <tr>\n",
       "      <th>1</th>\n",
       "      <td>2</td>\n",
       "      <td>saved</td>\n",
       "      <td>1st</td>\n",
       "      <td>Cumings, Mrs. John Bradley (Florence Briggs Th...</td>\n",
       "      <td>female</td>\n",
       "      <td>38.0</td>\n",
       "      <td>1</td>\n",
       "      <td>0</td>\n",
       "      <td>PC 17599</td>\n",
       "      <td>71.2833</td>\n",
       "      <td>C85</td>\n",
       "      <td>C</td>\n",
       "    </tr>\n",
       "    <tr>\n",
       "      <th>2</th>\n",
       "      <td>3</td>\n",
       "      <td>saved</td>\n",
       "      <td>3rd</td>\n",
       "      <td>Heikkinen, Miss. Laina</td>\n",
       "      <td>female</td>\n",
       "      <td>26.0</td>\n",
       "      <td>0</td>\n",
       "      <td>0</td>\n",
       "      <td>STON/O2. 3101282</td>\n",
       "      <td>7.9250</td>\n",
       "      <td>NaN</td>\n",
       "      <td>S</td>\n",
       "    </tr>\n",
       "    <tr>\n",
       "      <th>3</th>\n",
       "      <td>4</td>\n",
       "      <td>saved</td>\n",
       "      <td>1st</td>\n",
       "      <td>Futrelle, Mrs. Jacques Heath (Lily May Peel)</td>\n",
       "      <td>female</td>\n",
       "      <td>35.0</td>\n",
       "      <td>1</td>\n",
       "      <td>0</td>\n",
       "      <td>113803</td>\n",
       "      <td>53.1000</td>\n",
       "      <td>C123</td>\n",
       "      <td>S</td>\n",
       "    </tr>\n",
       "    <tr>\n",
       "      <th>4</th>\n",
       "      <td>5</td>\n",
       "      <td>lost</td>\n",
       "      <td>3rd</td>\n",
       "      <td>Allen, Mr. William Henry</td>\n",
       "      <td>male</td>\n",
       "      <td>35.0</td>\n",
       "      <td>0</td>\n",
       "      <td>0</td>\n",
       "      <td>373450</td>\n",
       "      <td>8.0500</td>\n",
       "      <td>NaN</td>\n",
       "      <td>S</td>\n",
       "    </tr>\n",
       "  </tbody>\n",
       "</table>\n",
       "</div>"
      ],
      "text/plain": [
       "   PassengerId Survived Pclass  \\\n",
       "0            1     lost    3rd   \n",
       "1            2    saved    1st   \n",
       "2            3    saved    3rd   \n",
       "3            4    saved    1st   \n",
       "4            5     lost    3rd   \n",
       "\n",
       "                                                Name     Sex   Age  SibSp  \\\n",
       "0                            Braund, Mr. Owen Harris    male  22.0      1   \n",
       "1  Cumings, Mrs. John Bradley (Florence Briggs Th...  female  38.0      1   \n",
       "2                             Heikkinen, Miss. Laina  female  26.0      0   \n",
       "3       Futrelle, Mrs. Jacques Heath (Lily May Peel)  female  35.0      1   \n",
       "4                           Allen, Mr. William Henry    male  35.0      0   \n",
       "\n",
       "   Parch            Ticket     Fare Cabin Embarked  \n",
       "0      0         A/5 21171   7.2500   NaN        S  \n",
       "1      0          PC 17599  71.2833   C85        C  \n",
       "2      0  STON/O2. 3101282   7.9250   NaN        S  \n",
       "3      0            113803  53.1000  C123        S  \n",
       "4      0            373450   8.0500   NaN        S  "
      ]
     },
     "execution_count": 101,
     "metadata": {},
     "output_type": "execute_result"
    }
   ],
   "source": [
    "df.head()"
   ]
  },
  {
   "cell_type": "code",
   "execution_count": null,
   "id": "15efa0be-3da7-4b9b-906d-f5cb0df1ee95",
   "metadata": {},
   "outputs": [],
   "source": []
  },
  {
   "cell_type": "code",
   "execution_count": 102,
   "id": "7592be0a-9f84-4434-a047-dbdda3ce7f63",
   "metadata": {},
   "outputs": [
    {
     "data": {
      "text/plain": [
       "<AxesSubplot:xlabel='Survived', ylabel='count'>"
      ]
     },
     "execution_count": 102,
     "metadata": {},
     "output_type": "execute_result"
    },
    {
     "data": {
      "image/png": "[encoded data removed]",
      "text/plain": [
       "<Figure size 432x288 with 1 Axes>"
      ]
     },
     "metadata": {
      "needs_background": "light"
     },
     "output_type": "display_data"
    }
   ],
   "source": [
    "sns.countplot(x='Survived',data=df)"
   ]
  },
  {
   "cell_type": "code",
   "execution_count": 103,
   "id": "004b0afd-1791-4f7e-a7b6-21ad8e087c55",
   "metadata": {},
   "outputs": [
    {
     "data": {
      "text/plain": [
       "342"
      ]
     },
     "execution_count": 103,
     "metadata": {},
     "output_type": "execute_result"
    }
   ],
   "source": [
    "df[df['Survived']=='saved'].Survived.count()"
   ]
  },
  {
   "cell_type": "code",
   "execution_count": 104,
   "id": "31409c9e-1638-44f5-998f-b438ecae209b",
   "metadata": {},
   "outputs": [
    {
     "data": {
      "text/plain": [
       "549"
      ]
     },
     "execution_count": 104,
     "metadata": {},
     "output_type": "execute_result"
    }
   ],
   "source": [
    "df[df['Survived']!='saved'].Survived.count()"
   ]
  },
  {
   "cell_type": "code",
   "execution_count": 105,
   "id": "507b3488-a2cb-4fdb-8156-e2bc46137865",
   "metadata": {},
   "outputs": [],
   "source": [
    "# 강자님이 하신거"
   ]
  },
  {
   "cell_type": "code",
   "execution_count": 106,
   "id": "20a73318-73b0-4765-93ee-af15ab0ac2cf",
   "metadata": {},
   "outputs": [
    {
     "data": {
      "text/plain": [
       "lost     549\n",
       "saved    342\n",
       "Name: Survived, dtype: int64"
      ]
     },
     "execution_count": 106,
     "metadata": {},
     "output_type": "execute_result"
    }
   ],
   "source": [
    "df[\"Survived\"].value_counts()"
   ]
  },
  {
   "cell_type": "code",
   "execution_count": 107,
   "id": "aa712b4e-d8ce-4c09-8ee8-b008ab1ab42d",
   "metadata": {},
   "outputs": [],
   "source": [
    "#사망자수 ,생존자 수\n",
    "\n",
    "a = df[\"Survived\"].value_counts()"
   ]
  },
  {
   "cell_type": "code",
   "execution_count": 108,
   "id": "1d4b7197-5197-4f61-94e0-548352df1a40",
   "metadata": {},
   "outputs": [
    {
     "data": {
      "text/plain": [
       "lost     0.616162\n",
       "saved    0.383838\n",
       "Name: Survived, dtype: float64"
      ]
     },
     "execution_count": 108,
     "metadata": {},
     "output_type": "execute_result"
    }
   ],
   "source": [
    "#생존률\n",
    "a[1]/a.sum()\n",
    "\n",
    "#강사님\n",
    "df[\"Survived\"].value_counts()/df.shape[0]"
   ]
  },
  {
   "cell_type": "code",
   "execution_count": 109,
   "id": "8515e450-1d14-4ec1-8215-04d872998a93",
   "metadata": {},
   "outputs": [
    {
     "data": {
      "text/plain": [
       "0.3838383838383838"
      ]
     },
     "execution_count": 109,
     "metadata": {},
     "output_type": "execute_result"
    }
   ],
   "source": [
    "savety"
   ]
  },
  {
   "cell_type": "markdown",
   "id": "caeb467f-1d90-4dd1-be25-2cf596156273",
   "metadata": {},
   "source": [
    "## Sex에 대해서\n",
    "\n",
    "1. countplot\n",
    "2. 숫자값\n",
    "3. 비율"
   ]
  },
  {
   "cell_type": "code",
   "execution_count": 110,
   "id": "28d1add9-2a1f-4dc5-9379-7b7ed659c94f",
   "metadata": {},
   "outputs": [
    {
     "data": {
      "text/plain": [
       "<AxesSubplot:xlabel='Sex', ylabel='count'>"
      ]
     },
     "execution_count": 110,
     "metadata": {},
     "output_type": "execute_result"
    },
    {
     "data": {
      "image/png": "[encoded data removed]",
      "text/plain": [
       "<Figure size 432x288 with 1 Axes>"
      ]
     },
     "metadata": {
      "needs_background": "light"
     },
     "output_type": "display_data"
    }
   ],
   "source": [
    "sns.countplot(x=\"Sex\",data= df)"
   ]
  },
  {
   "cell_type": "code",
   "execution_count": 111,
   "id": "4cf77d5c-c781-4b43-ad0e-e9c6cc3b8a52",
   "metadata": {},
   "outputs": [
    {
     "data": {
      "text/plain": [
       "male      577\n",
       "female    314\n",
       "Name: Sex, dtype: int64"
      ]
     },
     "execution_count": 111,
     "metadata": {},
     "output_type": "execute_result"
    }
   ],
   "source": [
    "df[\"Sex\"].value_counts()"
   ]
  },
  {
   "cell_type": "code",
   "execution_count": 112,
   "id": "75af6450-01a1-4756-a32e-cd5d88c17624",
   "metadata": {},
   "outputs": [
    {
     "data": {
      "text/plain": [
       "male      0.647587\n",
       "female    0.352413\n",
       "Name: Sex, dtype: float64"
      ]
     },
     "execution_count": 112,
     "metadata": {},
     "output_type": "execute_result"
    }
   ],
   "source": [
    "df[\"Sex\"].value_counts()/df.shape[0]"
   ]
  },
  {
   "cell_type": "code",
   "execution_count": 113,
   "id": "1b0d78a4-9725-43ea-9f66-6c0a732b6e0e",
   "metadata": {},
   "outputs": [],
   "source": [
    "## 성별에 따른 생존자 수\n",
    "# 그래프 숫자 값"
   ]
  },
  {
   "cell_type": "code",
   "execution_count": 114,
   "id": "063b616e-6dd6-4165-921d-980b94954af0",
   "metadata": {},
   "outputs": [
    {
     "data": {
      "text/plain": [
       "<AxesSubplot:xlabel='Sex', ylabel='count'>"
      ]
     },
     "execution_count": 114,
     "metadata": {},
     "output_type": "execute_result"
    },
    {
     "data": {
      "image/png": "[encoded data removed]",
      "text/plain": [
       "<Figure size 432x288 with 1 Axes>"
      ]
     },
     "metadata": {
      "needs_background": "light"
     },
     "output_type": "display_data"
    }
   ],
   "source": [
    "sns.countplot(x=\"Sex\",hue='Survived',data=df)"
   ]
  },
  {
   "cell_type": "code",
   "execution_count": null,
   "id": "b77a244f-1dc9-4ab7-87df-54c1c2b2f52a",
   "metadata": {},
   "outputs": [],
   "source": []
  },
  {
   "cell_type": "code",
   "execution_count": 115,
   "id": "d5d9def3-8f4e-42b2-bf97-2faa58c898ed",
   "metadata": {},
   "outputs": [
    {
     "data": {
      "text/plain": [
       "Sex     Survived\n",
       "female  saved       233\n",
       "        lost         81\n",
       "male    lost        468\n",
       "        saved       109\n",
       "Name: Survived, dtype: int64"
      ]
     },
     "execution_count": 115,
     "metadata": {},
     "output_type": "execute_result"
    }
   ],
   "source": [
    "df.groupby(by=df[\"Sex\"]).Survived.value_counts()"
   ]
  },
  {
   "cell_type": "code",
   "execution_count": 116,
   "id": "a22847db-a6ea-44c9-a7cf-7ccd1def1f45",
   "metadata": {},
   "outputs": [],
   "source": [
    "b =df.groupby(by=df[\"Survived\"])"
   ]
  },
  {
   "cell_type": "code",
   "execution_count": 117,
   "id": "efc34a4b-676d-47c6-8e25-87d8c20397ab",
   "metadata": {},
   "outputs": [
    {
     "name": "stdout",
     "output_type": "stream",
     "text": [
      "<pandas.core.groupby.generic.DataFrameGroupBy object at 0x000002726A369040>\n"
     ]
    }
   ],
   "source": [
    "print(b)"
   ]
  },
  {
   "cell_type": "code",
   "execution_count": 118,
   "id": "20bb6686-2f35-40a6-a229-83cfc7eaed89",
   "metadata": {},
   "outputs": [],
   "source": [
    "# 객실 등급에 따른 생존자"
   ]
  },
  {
   "cell_type": "code",
   "execution_count": 119,
   "id": "ff35ae9b-db44-4147-aac5-1dc9811ef13e",
   "metadata": {},
   "outputs": [],
   "source": [
    "a = df.groupby(by=df[\"Pclass\"]).Survived.value_counts()"
   ]
  },
  {
   "cell_type": "code",
   "execution_count": 120,
   "id": "b633e4ba-e414-4c13-b5e8-14f8be04aa3a",
   "metadata": {},
   "outputs": [
    {
     "data": {
      "text/plain": [
       "Pclass  Survived\n",
       "1st     saved       136\n",
       "        lost         80\n",
       "2nd     lost         97\n",
       "        saved        87\n",
       "3rd     lost        372\n",
       "        saved       119\n",
       "Name: Survived, dtype: int64"
      ]
     },
     "execution_count": 120,
     "metadata": {},
     "output_type": "execute_result"
    }
   ],
   "source": [
    "a"
   ]
  },
  {
   "cell_type": "code",
   "execution_count": 121,
   "id": "3a6ee715-d01a-44f5-b63f-db4faf289f3d",
   "metadata": {},
   "outputs": [],
   "source": [
    "#객실과 성별에 따른 생존자"
   ]
  },
  {
   "cell_type": "code",
   "execution_count": 122,
   "id": "1ae96de9-325a-4478-bc68-69ed709080d1",
   "metadata": {},
   "outputs": [
    {
     "data": {
      "text/plain": [
       "Sex     Pclass  Survived\n",
       "female  1st     saved        91\n",
       "                lost          3\n",
       "        2nd     saved        70\n",
       "                lost          6\n",
       "        3rd     lost         72\n",
       "                saved        72\n",
       "male    1st     lost         77\n",
       "                saved        45\n",
       "        2nd     lost         91\n",
       "                saved        17\n",
       "        3rd     lost        300\n",
       "                saved        47\n",
       "Name: Survived, dtype: int64"
      ]
     },
     "execution_count": 122,
     "metadata": {},
     "output_type": "execute_result"
    }
   ],
   "source": [
    "df.groupby([\"Sex\",\"Pclass\"]).Survived.value_counts()"
   ]
  },
  {
   "cell_type": "code",
   "execution_count": 123,
   "id": "80fd2f74-fdaf-4047-8379-b32cc3183141",
   "metadata": {},
   "outputs": [
    {
     "data": {
      "image/png": "[encoded data removed]",
      "text/plain": [
       "<Figure size 432x288 with 2 Axes>"
      ]
     },
     "metadata": {
      "needs_background": "light"
     },
     "output_type": "display_data"
    }
   ],
   "source": [
    "fig, axes = plt.subplots(1,2)\n",
    "sns.countplot(x=\"Survived\",hue=\"Pclass\",data=df,ax=axes[0])\n",
    "sns.countplot(x=\"Survived\",hue=\"Sex\",data=df,ax=axes[1])\n",
    "plt.show()"
   ]
  },
  {
   "cell_type": "code",
   "execution_count": 124,
   "id": "848d1414-15f9-472a-bbab-bcd508717c01",
   "metadata": {},
   "outputs": [],
   "source": [
    "#탑승 항구별 생존자"
   ]
  },
  {
   "cell_type": "code",
   "execution_count": 125,
   "id": "7ec06393-ee88-47f8-bffd-10f1f7faa152",
   "metadata": {},
   "outputs": [
    {
     "data": {
      "text/plain": [
       "Embarked  Survived\n",
       "C         saved        93\n",
       "          lost         75\n",
       "Q         lost         47\n",
       "          saved        30\n",
       "S         lost        427\n",
       "          saved       217\n",
       "Name: Survived, dtype: int64"
      ]
     },
     "execution_count": 125,
     "metadata": {},
     "output_type": "execute_result"
    }
   ],
   "source": [
    "df.groupby(by=df[\"Embarked\"]).Survived.value_counts()"
   ]
  },
  {
   "cell_type": "code",
   "execution_count": 126,
   "id": "1e1d0b09-287a-4be5-83b0-4826ef05c2c1",
   "metadata": {},
   "outputs": [
    {
     "data": {
      "text/html": [
       "<div>\n",
       "<style scoped>\n",
       "    .dataframe tbody tr th:only-of-type {\n",
       "        vertical-align: middle;\n",
       "    }\n",
       "\n",
       "    .dataframe tbody tr th {\n",
       "        vertical-align: top;\n",
       "    }\n",
       "\n",
       "    .dataframe thead th {\n",
       "        text-align: right;\n",
       "    }\n",
       "</style>\n",
       "<table border=\"1\" class=\"dataframe\">\n",
       "  <thead>\n",
       "    <tr style=\"text-align: right;\">\n",
       "      <th></th>\n",
       "      <th>PassengerId</th>\n",
       "      <th>Survived</th>\n",
       "      <th>Pclass</th>\n",
       "      <th>Name</th>\n",
       "      <th>Sex</th>\n",
       "      <th>Age</th>\n",
       "      <th>SibSp</th>\n",
       "      <th>Parch</th>\n",
       "      <th>Ticket</th>\n",
       "      <th>Fare</th>\n",
       "      <th>Cabin</th>\n",
       "      <th>Embarked</th>\n",
       "    </tr>\n",
       "  </thead>\n",
       "  <tbody>\n",
       "    <tr>\n",
       "      <th>0</th>\n",
       "      <td>1</td>\n",
       "      <td>lost</td>\n",
       "      <td>3rd</td>\n",
       "      <td>Braund, Mr. Owen Harris</td>\n",
       "      <td>male</td>\n",
       "      <td>22.0</td>\n",
       "      <td>1</td>\n",
       "      <td>0</td>\n",
       "      <td>A/5 21171</td>\n",
       "      <td>7.2500</td>\n",
       "      <td>NaN</td>\n",
       "      <td>S</td>\n",
       "    </tr>\n",
       "    <tr>\n",
       "      <th>1</th>\n",
       "      <td>2</td>\n",
       "      <td>saved</td>\n",
       "      <td>1st</td>\n",
       "      <td>Cumings, Mrs. John Bradley (Florence Briggs Th...</td>\n",
       "      <td>female</td>\n",
       "      <td>38.0</td>\n",
       "      <td>1</td>\n",
       "      <td>0</td>\n",
       "      <td>PC 17599</td>\n",
       "      <td>71.2833</td>\n",
       "      <td>C85</td>\n",
       "      <td>C</td>\n",
       "    </tr>\n",
       "    <tr>\n",
       "      <th>2</th>\n",
       "      <td>3</td>\n",
       "      <td>saved</td>\n",
       "      <td>3rd</td>\n",
       "      <td>Heikkinen, Miss. Laina</td>\n",
       "      <td>female</td>\n",
       "      <td>26.0</td>\n",
       "      <td>0</td>\n",
       "      <td>0</td>\n",
       "      <td>STON/O2. 3101282</td>\n",
       "      <td>7.9250</td>\n",
       "      <td>NaN</td>\n",
       "      <td>S</td>\n",
       "    </tr>\n",
       "    <tr>\n",
       "      <th>3</th>\n",
       "      <td>4</td>\n",
       "      <td>saved</td>\n",
       "      <td>1st</td>\n",
       "      <td>Futrelle, Mrs. Jacques Heath (Lily May Peel)</td>\n",
       "      <td>female</td>\n",
       "      <td>35.0</td>\n",
       "      <td>1</td>\n",
       "      <td>0</td>\n",
       "      <td>113803</td>\n",
       "      <td>53.1000</td>\n",
       "      <td>C123</td>\n",
       "      <td>S</td>\n",
       "    </tr>\n",
       "    <tr>\n",
       "      <th>4</th>\n",
       "      <td>5</td>\n",
       "      <td>lost</td>\n",
       "      <td>3rd</td>\n",
       "      <td>Allen, Mr. William Henry</td>\n",
       "      <td>male</td>\n",
       "      <td>35.0</td>\n",
       "      <td>0</td>\n",
       "      <td>0</td>\n",
       "      <td>373450</td>\n",
       "      <td>8.0500</td>\n",
       "      <td>NaN</td>\n",
       "      <td>S</td>\n",
       "    </tr>\n",
       "    <tr>\n",
       "      <th>...</th>\n",
       "      <td>...</td>\n",
       "      <td>...</td>\n",
       "      <td>...</td>\n",
       "      <td>...</td>\n",
       "      <td>...</td>\n",
       "      <td>...</td>\n",
       "      <td>...</td>\n",
       "      <td>...</td>\n",
       "      <td>...</td>\n",
       "      <td>...</td>\n",
       "      <td>...</td>\n",
       "      <td>...</td>\n",
       "    </tr>\n",
       "    <tr>\n",
       "      <th>886</th>\n",
       "      <td>887</td>\n",
       "      <td>lost</td>\n",
       "      <td>2nd</td>\n",
       "      <td>Montvila, Rev. Juozas</td>\n",
       "      <td>male</td>\n",
       "      <td>27.0</td>\n",
       "      <td>0</td>\n",
       "      <td>0</td>\n",
       "      <td>211536</td>\n",
       "      <td>13.0000</td>\n",
       "      <td>NaN</td>\n",
       "      <td>S</td>\n",
       "    </tr>\n",
       "    <tr>\n",
       "      <th>887</th>\n",
       "      <td>888</td>\n",
       "      <td>saved</td>\n",
       "      <td>1st</td>\n",
       "      <td>Graham, Miss. Margaret Edith</td>\n",
       "      <td>female</td>\n",
       "      <td>19.0</td>\n",
       "      <td>0</td>\n",
       "      <td>0</td>\n",
       "      <td>112053</td>\n",
       "      <td>30.0000</td>\n",
       "      <td>B42</td>\n",
       "      <td>S</td>\n",
       "    </tr>\n",
       "    <tr>\n",
       "      <th>888</th>\n",
       "      <td>889</td>\n",
       "      <td>lost</td>\n",
       "      <td>3rd</td>\n",
       "      <td>Johnston, Miss. Catherine Helen \"Carrie\"</td>\n",
       "      <td>female</td>\n",
       "      <td>NaN</td>\n",
       "      <td>1</td>\n",
       "      <td>2</td>\n",
       "      <td>W./C. 6607</td>\n",
       "      <td>23.4500</td>\n",
       "      <td>NaN</td>\n",
       "      <td>S</td>\n",
       "    </tr>\n",
       "    <tr>\n",
       "      <th>889</th>\n",
       "      <td>890</td>\n",
       "      <td>saved</td>\n",
       "      <td>1st</td>\n",
       "      <td>Behr, Mr. Karl Howell</td>\n",
       "      <td>male</td>\n",
       "      <td>26.0</td>\n",
       "      <td>0</td>\n",
       "      <td>0</td>\n",
       "      <td>111369</td>\n",
       "      <td>30.0000</td>\n",
       "      <td>C148</td>\n",
       "      <td>C</td>\n",
       "    </tr>\n",
       "    <tr>\n",
       "      <th>890</th>\n",
       "      <td>891</td>\n",
       "      <td>lost</td>\n",
       "      <td>3rd</td>\n",
       "      <td>Dooley, Mr. Patrick</td>\n",
       "      <td>male</td>\n",
       "      <td>32.0</td>\n",
       "      <td>0</td>\n",
       "      <td>0</td>\n",
       "      <td>370376</td>\n",
       "      <td>7.7500</td>\n",
       "      <td>NaN</td>\n",
       "      <td>Q</td>\n",
       "    </tr>\n",
       "  </tbody>\n",
       "</table>\n",
       "<p>891 rows × 12 columns</p>\n",
       "</div>"
      ],
      "text/plain": [
       "     PassengerId Survived Pclass  \\\n",
       "0              1     lost    3rd   \n",
       "1              2    saved    1st   \n",
       "2              3    saved    3rd   \n",
       "3              4    saved    1st   \n",
       "4              5     lost    3rd   \n",
       "..           ...      ...    ...   \n",
       "886          887     lost    2nd   \n",
       "887          888    saved    1st   \n",
       "888          889     lost    3rd   \n",
       "889          890    saved    1st   \n",
       "890          891     lost    3rd   \n",
       "\n",
       "                                                  Name     Sex   Age  SibSp  \\\n",
       "0                              Braund, Mr. Owen Harris    male  22.0      1   \n",
       "1    Cumings, Mrs. John Bradley (Florence Briggs Th...  female  38.0      1   \n",
       "2                               Heikkinen, Miss. Laina  female  26.0      0   \n",
       "3         Futrelle, Mrs. Jacques Heath (Lily May Peel)  female  35.0      1   \n",
       "4                             Allen, Mr. William Henry    male  35.0      0   \n",
       "..                                                 ...     ...   ...    ...   \n",
       "886                              Montvila, Rev. Juozas    male  27.0      0   \n",
       "887                       Graham, Miss. Margaret Edith  female  19.0      0   \n",
       "888           Johnston, Miss. Catherine Helen \"Carrie\"  female   NaN      1   \n",
       "889                              Behr, Mr. Karl Howell    male  26.0      0   \n",
       "890                                Dooley, Mr. Patrick    male  32.0      0   \n",
       "\n",
       "     Parch            Ticket     Fare Cabin Embarked  \n",
       "0        0         A/5 21171   7.2500   NaN        S  \n",
       "1        0          PC 17599  71.2833   C85        C  \n",
       "2        0  STON/O2. 3101282   7.9250   NaN        S  \n",
       "3        0            113803  53.1000  C123        S  \n",
       "4        0            373450   8.0500   NaN        S  \n",
       "..     ...               ...      ...   ...      ...  \n",
       "886      0            211536  13.0000   NaN        S  \n",
       "887      0            112053  30.0000   B42        S  \n",
       "888      2        W./C. 6607  23.4500   NaN        S  \n",
       "889      0            111369  30.0000  C148        C  \n",
       "890      0            370376   7.7500   NaN        Q  \n",
       "\n",
       "[891 rows x 12 columns]"
      ]
     },
     "execution_count": 126,
     "metadata": {},
     "output_type": "execute_result"
    }
   ],
   "source": [
    "df"
   ]
  },
  {
   "cell_type": "code",
   "execution_count": 127,
   "id": "8e6739ea-91b1-4b6a-a871-012887f72dae",
   "metadata": {},
   "outputs": [],
   "source": [
    "df = df.drop(axis=0,columns=[\"PassengerId\",\"Ticket\"])"
   ]
  },
  {
   "cell_type": "code",
   "execution_count": 128,
   "id": "16408461-17cb-4f3d-ba21-e10dbfe0164f",
   "metadata": {},
   "outputs": [],
   "source": [
    "df = df.drop(axis=0,columns=[\"Cabin\"])"
   ]
  },
  {
   "cell_type": "code",
   "execution_count": 134,
   "id": "b5cd47ab-e3fa-4e84-ba25-800174b92f90",
   "metadata": {},
   "outputs": [],
   "source": [
    "df = df.drop(axis=0,columns=[\"Name\",\"SurvivedSex\"])"
   ]
  },
  {
   "cell_type": "code",
   "execution_count": 129,
   "id": "a98f2dbb-4a02-40b3-9e14-22769b8be09f",
   "metadata": {},
   "outputs": [],
   "source": [
    "# Survice : 생존 1, 사망 0\n",
    "# Pclass : 1st:0, 2nd:1, 3rd:3\n",
    "# Sex : male:1, female:0\n",
    "# Embarked : 0,1,2,"
   ]
  },
  {
   "cell_type": "code",
   "execution_count": 135,
   "id": "f5d2141d-f448-4216-990d-9519c338fef2",
   "metadata": {},
   "outputs": [],
   "source": [
    "df['Sex'] = df['Sex'].astype('category').cat.codes\n",
    "df['Pclass'] = df['Pclass'].astype('category').cat.codes\n",
    "df['Embarked'] = df['Embarked'].astype('category').cat.codes\n",
    "df['Survived'] = df['Survived'].astype('category').cat.codes"
   ]
  },
  {
   "cell_type": "code",
   "execution_count": 137,
   "id": "54421bb4-e6ef-4df0-a764-d47321d2b23c",
   "metadata": {},
   "outputs": [
    {
     "name": "stdout",
     "output_type": "stream",
     "text": [
      "<class 'pandas.core.frame.DataFrame'>\n",
      "RangeIndex: 891 entries, 0 to 890\n",
      "Data columns (total 8 columns):\n",
      " #   Column    Non-Null Count  Dtype  \n",
      "---  ------    --------------  -----  \n",
      " 0   Survived  891 non-null    int8   \n",
      " 1   Pclass    891 non-null    int8   \n",
      " 2   Sex       891 non-null    int8   \n",
      " 3   Age       714 non-null    float64\n",
      " 4   SibSp     891 non-null    int64  \n",
      " 5   Parch     891 non-null    int64  \n",
      " 6   Fare      891 non-null    float64\n",
      " 7   Embarked  891 non-null    int8   \n",
      "dtypes: float64(2), int64(2), int8(4)\n",
      "memory usage: 31.4 KB\n"
     ]
    }
   ],
   "source": [
    "df.info()"
   ]
  },
  {
   "cell_type": "code",
   "execution_count": 145,
   "id": "57d39c17-5283-498b-8ad6-73fce3d5a30d",
   "metadata": {},
   "outputs": [
    {
     "data": {
      "text/plain": [
       "0    646\n",
       "1    168\n",
       "2     77\n",
       "Name: Embarked, dtype: int64"
      ]
     },
     "execution_count": 145,
     "metadata": {},
     "output_type": "execute_result"
    }
   ],
   "source": [
    "df['Embarked'].value_counts()"
   ]
  },
  {
   "cell_type": "code",
   "execution_count": 144,
   "id": "9e1ddad1-4881-4436-85aa-c09f865bceeb",
   "metadata": {},
   "outputs": [],
   "source": [
    "df[df['Embarked']==3] = 0"
   ]
  },
  {
   "cell_type": "code",
   "execution_count": 150,
   "id": "ac7c06ae-31ad-40ea-8cd7-31572e91546e",
   "metadata": {},
   "outputs": [
    {
     "data": {
      "text/html": [
       "<div>\n",
       "<style scoped>\n",
       "    .dataframe tbody tr th:only-of-type {\n",
       "        vertical-align: middle;\n",
       "    }\n",
       "\n",
       "    .dataframe tbody tr th {\n",
       "        vertical-align: top;\n",
       "    }\n",
       "\n",
       "    .dataframe thead th {\n",
       "        text-align: right;\n",
       "    }\n",
       "</style>\n",
       "<table border=\"1\" class=\"dataframe\">\n",
       "  <thead>\n",
       "    <tr style=\"text-align: right;\">\n",
       "      <th></th>\n",
       "      <th>Survived</th>\n",
       "      <th>Pclass</th>\n",
       "      <th>Sex</th>\n",
       "      <th>Age</th>\n",
       "      <th>SibSp</th>\n",
       "      <th>Parch</th>\n",
       "      <th>Fare</th>\n",
       "      <th>Embarked</th>\n",
       "    </tr>\n",
       "  </thead>\n",
       "  <tbody>\n",
       "    <tr>\n",
       "      <th>5</th>\n",
       "      <td>0</td>\n",
       "      <td>2</td>\n",
       "      <td>1</td>\n",
       "      <td>NaN</td>\n",
       "      <td>0</td>\n",
       "      <td>0</td>\n",
       "      <td>8.4583</td>\n",
       "      <td>2</td>\n",
       "    </tr>\n",
       "    <tr>\n",
       "      <th>19</th>\n",
       "      <td>1</td>\n",
       "      <td>2</td>\n",
       "      <td>0</td>\n",
       "      <td>NaN</td>\n",
       "      <td>0</td>\n",
       "      <td>0</td>\n",
       "      <td>7.2250</td>\n",
       "      <td>1</td>\n",
       "    </tr>\n",
       "    <tr>\n",
       "      <th>26</th>\n",
       "      <td>0</td>\n",
       "      <td>2</td>\n",
       "      <td>1</td>\n",
       "      <td>NaN</td>\n",
       "      <td>0</td>\n",
       "      <td>0</td>\n",
       "      <td>7.2250</td>\n",
       "      <td>1</td>\n",
       "    </tr>\n",
       "    <tr>\n",
       "      <th>28</th>\n",
       "      <td>1</td>\n",
       "      <td>2</td>\n",
       "      <td>0</td>\n",
       "      <td>NaN</td>\n",
       "      <td>0</td>\n",
       "      <td>0</td>\n",
       "      <td>7.8792</td>\n",
       "      <td>2</td>\n",
       "    </tr>\n",
       "    <tr>\n",
       "      <th>31</th>\n",
       "      <td>1</td>\n",
       "      <td>0</td>\n",
       "      <td>0</td>\n",
       "      <td>NaN</td>\n",
       "      <td>1</td>\n",
       "      <td>0</td>\n",
       "      <td>146.5208</td>\n",
       "      <td>1</td>\n",
       "    </tr>\n",
       "    <tr>\n",
       "      <th>...</th>\n",
       "      <td>...</td>\n",
       "      <td>...</td>\n",
       "      <td>...</td>\n",
       "      <td>...</td>\n",
       "      <td>...</td>\n",
       "      <td>...</td>\n",
       "      <td>...</td>\n",
       "      <td>...</td>\n",
       "    </tr>\n",
       "    <tr>\n",
       "      <th>828</th>\n",
       "      <td>1</td>\n",
       "      <td>2</td>\n",
       "      <td>1</td>\n",
       "      <td>NaN</td>\n",
       "      <td>0</td>\n",
       "      <td>0</td>\n",
       "      <td>7.7500</td>\n",
       "      <td>2</td>\n",
       "    </tr>\n",
       "    <tr>\n",
       "      <th>832</th>\n",
       "      <td>0</td>\n",
       "      <td>2</td>\n",
       "      <td>1</td>\n",
       "      <td>NaN</td>\n",
       "      <td>0</td>\n",
       "      <td>0</td>\n",
       "      <td>7.2292</td>\n",
       "      <td>1</td>\n",
       "    </tr>\n",
       "    <tr>\n",
       "      <th>839</th>\n",
       "      <td>1</td>\n",
       "      <td>0</td>\n",
       "      <td>1</td>\n",
       "      <td>NaN</td>\n",
       "      <td>0</td>\n",
       "      <td>0</td>\n",
       "      <td>29.7000</td>\n",
       "      <td>1</td>\n",
       "    </tr>\n",
       "    <tr>\n",
       "      <th>849</th>\n",
       "      <td>1</td>\n",
       "      <td>0</td>\n",
       "      <td>0</td>\n",
       "      <td>NaN</td>\n",
       "      <td>1</td>\n",
       "      <td>0</td>\n",
       "      <td>89.1042</td>\n",
       "      <td>1</td>\n",
       "    </tr>\n",
       "    <tr>\n",
       "      <th>859</th>\n",
       "      <td>0</td>\n",
       "      <td>2</td>\n",
       "      <td>1</td>\n",
       "      <td>NaN</td>\n",
       "      <td>0</td>\n",
       "      <td>0</td>\n",
       "      <td>7.2292</td>\n",
       "      <td>1</td>\n",
       "    </tr>\n",
       "  </tbody>\n",
       "</table>\n",
       "<p>87 rows × 8 columns</p>\n",
       "</div>"
      ],
      "text/plain": [
       "     Survived  Pclass  Sex  Age  SibSp  Parch      Fare  Embarked\n",
       "5           0       2    1  NaN      0      0    8.4583         2\n",
       "19          1       2    0  NaN      0      0    7.2250         1\n",
       "26          0       2    1  NaN      0      0    7.2250         1\n",
       "28          1       2    0  NaN      0      0    7.8792         2\n",
       "31          1       0    0  NaN      1      0  146.5208         1\n",
       "..        ...     ...  ...  ...    ...    ...       ...       ...\n",
       "828         1       2    1  NaN      0      0    7.7500         2\n",
       "832         0       2    1  NaN      0      0    7.2292         1\n",
       "839         1       0    1  NaN      0      0   29.7000         1\n",
       "849         1       0    0  NaN      1      0   89.1042         1\n",
       "859         0       2    1  NaN      0      0    7.2292         1\n",
       "\n",
       "[87 rows x 8 columns]"
      ]
     },
     "execution_count": 150,
     "metadata": {},
     "output_type": "execute_result"
    }
   ],
   "source": [
    "df[df['Age'].isna()]"
   ]
  },
  {
   "cell_type": "code",
   "execution_count": 154,
   "id": "9db7edf4-cc31-42f0-aa95-543316ccfc97",
   "metadata": {},
   "outputs": [
    {
     "data": {
      "text/html": [
       "<div>\n",
       "<style scoped>\n",
       "    .dataframe tbody tr th:only-of-type {\n",
       "        vertical-align: middle;\n",
       "    }\n",
       "\n",
       "    .dataframe tbody tr th {\n",
       "        vertical-align: top;\n",
       "    }\n",
       "\n",
       "    .dataframe thead th {\n",
       "        text-align: right;\n",
       "    }\n",
       "</style>\n",
       "<table border=\"1\" class=\"dataframe\">\n",
       "  <thead>\n",
       "    <tr style=\"text-align: right;\">\n",
       "      <th></th>\n",
       "      <th>Survived</th>\n",
       "      <th>Pclass</th>\n",
       "      <th>Sex</th>\n",
       "      <th>Age</th>\n",
       "      <th>SibSp</th>\n",
       "      <th>Parch</th>\n",
       "      <th>Fare</th>\n",
       "      <th>Embarked</th>\n",
       "    </tr>\n",
       "  </thead>\n",
       "  <tbody>\n",
       "  </tbody>\n",
       "</table>\n",
       "</div>"
      ],
      "text/plain": [
       "Empty DataFrame\n",
       "Columns: [Survived, Pclass, Sex, Age, SibSp, Parch, Fare, Embarked]\n",
       "Index: []"
      ]
     },
     "execution_count": 154,
     "metadata": {},
     "output_type": "execute_result"
    }
   ],
   "source": [
    "df[df['Age']==pd.NA]"
   ]
  },
  {
   "cell_type": "code",
   "execution_count": 185,
   "id": "789512c1-4417-4405-baf0-c38d9bd60be0",
   "metadata": {},
   "outputs": [],
   "source": [
    "df = pd.concat([df,titanic['Age']],axis=1)"
   ]
  },
  {
   "cell_type": "code",
   "execution_count": 169,
   "id": "63f966e2-aeee-431d-ab1d-f53aad999dc2",
   "metadata": {},
   "outputs": [],
   "source": [
    "df['Initial']= df.Name.str.extract(\"([A-Za-z]+)\\.\")"
   ]
  },
  {
   "cell_type": "code",
   "execution_count": 170,
   "id": "928bb713-e3c0-4b42-a18b-ffd1c4515e0b",
   "metadata": {},
   "outputs": [
    {
     "data": {
      "text/plain": [
       "array(['Mr', 'Mrs', 'Miss', 'Master', 'Don', 'Rev', 'Dr', 'Mme', 'Ms',\n",
       "       'Major', 'Lady', 'Sir', 'Mlle', 'Col', 'Capt', 'Countess',\n",
       "       'Jonkheer'], dtype=object)"
      ]
     },
     "execution_count": 170,
     "metadata": {},
     "output_type": "execute_result"
    }
   ],
   "source": [
    "df['Initial'].unique()"
   ]
  },
  {
   "cell_type": "code",
   "execution_count": 175,
   "id": "64328131-7c77-4ebd-ae22-53ef9e059dfe",
   "metadata": {},
   "outputs": [],
   "source": [
    "be = ['Mlle', 'Mme',   'Ms', 'Dr', 'Major', 'Lady',  'Countess', 'Jonkheer',   'Col',  'Rev', 'Capt',  'Sir',   'Don']\n",
    "ae = ['Miss', 'Mrs', 'Miss', 'Mr',    'Mr',  'Mrs',      'Mrs' ,    'Other', 'Other','Other',   'Mr',   'Mr',    'Mr']"
   ]
  },
  {
   "cell_type": "code",
   "execution_count": 176,
   "id": "0feb589f-1c18-42bd-9d2a-b41d2c81f5c9",
   "metadata": {},
   "outputs": [
    {
     "name": "stdout",
     "output_type": "stream",
     "text": [
      "13 13\n"
     ]
    }
   ],
   "source": [
    "print(len(be),len(ae))"
   ]
  },
  {
   "cell_type": "code",
   "execution_count": 177,
   "id": "b22b7937-6f32-438c-b656-7a39311c4175",
   "metadata": {},
   "outputs": [
    {
     "data": {
      "text/plain": [
       "array(['Mr', 'Mrs', 'Miss', 'Master', 'Other'], dtype=object)"
      ]
     },
     "execution_count": 177,
     "metadata": {},
     "output_type": "execute_result"
    }
   ],
   "source": [
    "df['Initial'] = df['Initial'].replace(be,ae)\n",
    "df['Initial'].unique()"
   ]
  },
  {
   "cell_type": "code",
   "execution_count": 178,
   "id": "d6015e5a-01db-4bb9-a12b-676ef9c811e3",
   "metadata": {},
   "outputs": [],
   "source": [
    "# 호칭별 나이 평균"
   ]
  },
  {
   "cell_type": "code",
   "execution_count": 188,
   "id": "97f89441-991e-4542-8a66-ac0edb294e6c",
   "metadata": {},
   "outputs": [],
   "source": [
    "am = round(df.groupby('Initial')['Age'].mean())"
   ]
  },
  {
   "cell_type": "code",
   "execution_count": 190,
   "id": "7c93ba5a-b2a9-4075-bdfd-ae73d31e097c",
   "metadata": {},
   "outputs": [
    {
     "data": {
      "text/plain": [
       "Initial\n",
       "Master     5.0\n",
       "Miss      22.0\n",
       "Mr        33.0\n",
       "Mrs       36.0\n",
       "Other     46.0\n",
       "Name: Age, dtype: float64"
      ]
     },
     "execution_count": 190,
     "metadata": {},
     "output_type": "execute_result"
    }
   ],
   "source": [
    "am"
   ]
  },
  {
   "cell_type": "code",
   "execution_count": 194,
   "id": "be1a4768-15df-4c28-a2e5-e6e149835e4f",
   "metadata": {},
   "outputs": [],
   "source": [
    "inexs = am.index"
   ]
  },
  {
   "cell_type": "code",
   "execution_count": 202,
   "id": "f5fb0934-ac78-44e2-a58e-de2742ab42df",
   "metadata": {},
   "outputs": [],
   "source": [
    "#각 호칭별 Na값에 호칭별 평균값 할당하기\n",
    "index = df[df['Age'].isna()].index"
   ]
  },
  {
   "cell_type": "code",
   "execution_count": 205,
   "id": "f97c31f7-cbd4-4ea5-ae72-7f8f66f81db2",
   "metadata": {},
   "outputs": [
    {
     "data": {
      "text/plain": [
       "Int64Index([  5,  17,  19,  26,  28,  29,  31,  32,  36,  42,\n",
       "            ...\n",
       "            832, 837, 839, 846, 849, 859, 863, 868, 878, 888],\n",
       "           dtype='int64', length=177)"
      ]
     },
     "execution_count": 205,
     "metadata": {},
     "output_type": "execute_result"
    }
   ],
   "source": [
    "index"
   ]
  },
  {
   "cell_type": "code",
   "execution_count": 231,
   "id": "7ee7c808-fa22-4d96-b93f-95b38d91a358",
   "metadata": {},
   "outputs": [
    {
     "name": "stdout",
     "output_type": "stream",
     "text": [
      "33.0\n",
      "33.0\n",
      "36.0\n",
      "33.0\n",
      "22.0\n",
      "33.0\n",
      "36.0\n",
      "22.0\n",
      "33.0\n",
      "33.0\n",
      "33.0\n",
      "33.0\n",
      "22.0\n",
      "33.0\n",
      "33.0\n",
      "33.0\n",
      "5.0\n",
      "33.0\n",
      "33.0\n",
      "22.0\n",
      "33.0\n",
      "33.0\n",
      "33.0\n",
      "33.0\n",
      "22.0\n",
      "33.0\n",
      "33.0\n",
      "22.0\n",
      "36.0\n",
      "33.0\n",
      "33.0\n",
      "5.0\n",
      "36.0\n",
      "33.0\n",
      "5.0\n",
      "22.0\n",
      "33.0\n",
      "33.0\n",
      "36.0\n",
      "33.0\n",
      "22.0\n",
      "33.0\n",
      "33.0\n",
      "33.0\n",
      "22.0\n",
      "22.0\n",
      "22.0\n",
      "22.0\n",
      "33.0\n",
      "36.0\n",
      "33.0\n",
      "22.0\n",
      "33.0\n",
      "22.0\n",
      "33.0\n",
      "33.0\n",
      "33.0\n",
      "33.0\n",
      "22.0\n",
      "33.0\n",
      "22.0\n",
      "33.0\n",
      "22.0\n",
      "33.0\n",
      "22.0\n",
      "36.0\n",
      "33.0\n",
      "36.0\n",
      "33.0\n",
      "33.0\n",
      "22.0\n",
      "22.0\n",
      "33.0\n",
      "36.0\n",
      "22.0\n",
      "36.0\n",
      "33.0\n",
      "33.0\n",
      "22.0\n",
      "33.0\n",
      "33.0\n",
      "33.0\n",
      "36.0\n",
      "33.0\n",
      "33.0\n",
      "33.0\n",
      "36.0\n",
      "33.0\n",
      "33.0\n",
      "33.0\n",
      "36.0\n",
      "33.0\n",
      "33.0\n",
      "33.0\n",
      "33.0\n",
      "33.0\n",
      "33.0\n",
      "33.0\n",
      "22.0\n",
      "33.0\n",
      "33.0\n",
      "33.0\n",
      "22.0\n",
      "33.0\n",
      "33.0\n",
      "33.0\n",
      "33.0\n",
      "33.0\n",
      "33.0\n",
      "33.0\n",
      "36.0\n",
      "33.0\n",
      "33.0\n",
      "33.0\n",
      "33.0\n",
      "33.0\n",
      "33.0\n",
      "22.0\n",
      "33.0\n",
      "22.0\n",
      "36.0\n",
      "33.0\n",
      "33.0\n",
      "22.0\n",
      "22.0\n",
      "33.0\n",
      "33.0\n",
      "33.0\n",
      "33.0\n",
      "22.0\n",
      "33.0\n",
      "33.0\n",
      "33.0\n",
      "33.0\n",
      "33.0\n",
      "33.0\n",
      "33.0\n",
      "22.0\n",
      "33.0\n",
      "33.0\n",
      "36.0\n",
      "33.0\n",
      "22.0\n",
      "33.0\n",
      "22.0\n",
      "5.0\n",
      "33.0\n",
      "33.0\n",
      "22.0\n",
      "33.0\n",
      "33.0\n",
      "33.0\n",
      "33.0\n",
      "33.0\n",
      "33.0\n",
      "33.0\n",
      "33.0\n",
      "33.0\n",
      "33.0\n",
      "33.0\n",
      "33.0\n",
      "22.0\n",
      "33.0\n",
      "33.0\n",
      "33.0\n",
      "33.0\n",
      "33.0\n",
      "33.0\n",
      "33.0\n",
      "33.0\n",
      "33.0\n",
      "36.0\n",
      "33.0\n",
      "22.0\n",
      "33.0\n",
      "33.0\n",
      "22.0\n"
     ]
    }
   ],
   "source": [
    "for i in index:\n",
    "    df.loc[i,\"Age\"] = am[df.loc[i,\"Initial\"]]\n",
    "    print(am[df.loc[i,\"Initial\"]])"
   ]
  },
  {
   "cell_type": "code",
   "execution_count": 223,
   "id": "8ca5d1f4-19cd-418f-bade-27525f6ff638",
   "metadata": {},
   "outputs": [
    {
     "data": {
      "text/plain": [
       "Age        22.0\n",
       "Initial    Miss\n",
       "Name: 888, dtype: object"
      ]
     },
     "execution_count": 223,
     "metadata": {},
     "output_type": "execute_result"
    }
   ],
   "source": []
  },
  {
   "cell_type": "code",
   "execution_count": 225,
   "id": "a6b375e3-42d6-4e17-aa84-bf4ed9aac880",
   "metadata": {},
   "outputs": [
    {
     "data": {
      "text/plain": [
       "count    891.000000\n",
       "mean      29.841942\n",
       "std       13.281525\n",
       "min        0.420000\n",
       "25%       22.000000\n",
       "50%       30.000000\n",
       "75%       36.000000\n",
       "max       80.000000\n",
       "Name: Age, dtype: float64"
      ]
     },
     "execution_count": 225,
     "metadata": {},
     "output_type": "execute_result"
    }
   ],
   "source": [
    "df[\"Age\"].describe()"
   ]
  },
  {
   "cell_type": "code",
   "execution_count": 228,
   "id": "9b4b9db8-03e5-4050-8db8-fcaecfaeaa58",
   "metadata": {},
   "outputs": [],
   "source": [
    "dummmy = pd.get_dummies(df[\"Embarked\"],prefix=\"Embarked\")"
   ]
  },
  {
   "cell_type": "code",
   "execution_count": 230,
   "id": "9952941f-2382-4718-8bcd-f75b62f6558b",
   "metadata": {},
   "outputs": [
    {
     "data": {
      "text/html": [
       "<div>\n",
       "<style scoped>\n",
       "    .dataframe tbody tr th:only-of-type {\n",
       "        vertical-align: middle;\n",
       "    }\n",
       "\n",
       "    .dataframe tbody tr th {\n",
       "        vertical-align: top;\n",
       "    }\n",
       "\n",
       "    .dataframe thead th {\n",
       "        text-align: right;\n",
       "    }\n",
       "</style>\n",
       "<table border=\"1\" class=\"dataframe\">\n",
       "  <thead>\n",
       "    <tr style=\"text-align: right;\">\n",
       "      <th></th>\n",
       "      <th>Survived</th>\n",
       "      <th>Pclass</th>\n",
       "      <th>Sex</th>\n",
       "      <th>SibSp</th>\n",
       "      <th>Parch</th>\n",
       "      <th>Fare</th>\n",
       "      <th>Embarked</th>\n",
       "      <th>Name</th>\n",
       "      <th>Initial</th>\n",
       "      <th>Age</th>\n",
       "    </tr>\n",
       "  </thead>\n",
       "  <tbody>\n",
       "    <tr>\n",
       "      <th>0</th>\n",
       "      <td>0</td>\n",
       "      <td>0</td>\n",
       "      <td>0</td>\n",
       "      <td>0</td>\n",
       "      <td>0</td>\n",
       "      <td>0.0000</td>\n",
       "      <td>0</td>\n",
       "      <td>Braund, Mr. Owen Harris</td>\n",
       "      <td>Mr</td>\n",
       "      <td>22.0</td>\n",
       "    </tr>\n",
       "    <tr>\n",
       "      <th>1</th>\n",
       "      <td>1</td>\n",
       "      <td>0</td>\n",
       "      <td>0</td>\n",
       "      <td>1</td>\n",
       "      <td>0</td>\n",
       "      <td>71.2833</td>\n",
       "      <td>1</td>\n",
       "      <td>Cumings, Mrs. John Bradley (Florence Briggs Th...</td>\n",
       "      <td>Mrs</td>\n",
       "      <td>38.0</td>\n",
       "    </tr>\n",
       "    <tr>\n",
       "      <th>2</th>\n",
       "      <td>0</td>\n",
       "      <td>0</td>\n",
       "      <td>0</td>\n",
       "      <td>0</td>\n",
       "      <td>0</td>\n",
       "      <td>0.0000</td>\n",
       "      <td>0</td>\n",
       "      <td>Heikkinen, Miss. Laina</td>\n",
       "      <td>Miss</td>\n",
       "      <td>26.0</td>\n",
       "    </tr>\n",
       "    <tr>\n",
       "      <th>3</th>\n",
       "      <td>0</td>\n",
       "      <td>0</td>\n",
       "      <td>0</td>\n",
       "      <td>0</td>\n",
       "      <td>0</td>\n",
       "      <td>0.0000</td>\n",
       "      <td>0</td>\n",
       "      <td>Futrelle, Mrs. Jacques Heath (Lily May Peel)</td>\n",
       "      <td>Mrs</td>\n",
       "      <td>35.0</td>\n",
       "    </tr>\n",
       "    <tr>\n",
       "      <th>4</th>\n",
       "      <td>0</td>\n",
       "      <td>0</td>\n",
       "      <td>0</td>\n",
       "      <td>0</td>\n",
       "      <td>0</td>\n",
       "      <td>0.0000</td>\n",
       "      <td>0</td>\n",
       "      <td>Allen, Mr. William Henry</td>\n",
       "      <td>Mr</td>\n",
       "      <td>35.0</td>\n",
       "    </tr>\n",
       "    <tr>\n",
       "      <th>...</th>\n",
       "      <td>...</td>\n",
       "      <td>...</td>\n",
       "      <td>...</td>\n",
       "      <td>...</td>\n",
       "      <td>...</td>\n",
       "      <td>...</td>\n",
       "      <td>...</td>\n",
       "      <td>...</td>\n",
       "      <td>...</td>\n",
       "      <td>...</td>\n",
       "    </tr>\n",
       "    <tr>\n",
       "      <th>886</th>\n",
       "      <td>0</td>\n",
       "      <td>0</td>\n",
       "      <td>0</td>\n",
       "      <td>0</td>\n",
       "      <td>0</td>\n",
       "      <td>0.0000</td>\n",
       "      <td>0</td>\n",
       "      <td>Montvila, Rev. Juozas</td>\n",
       "      <td>Other</td>\n",
       "      <td>27.0</td>\n",
       "    </tr>\n",
       "    <tr>\n",
       "      <th>887</th>\n",
       "      <td>0</td>\n",
       "      <td>0</td>\n",
       "      <td>0</td>\n",
       "      <td>0</td>\n",
       "      <td>0</td>\n",
       "      <td>0.0000</td>\n",
       "      <td>0</td>\n",
       "      <td>Graham, Miss. Margaret Edith</td>\n",
       "      <td>Miss</td>\n",
       "      <td>19.0</td>\n",
       "    </tr>\n",
       "    <tr>\n",
       "      <th>888</th>\n",
       "      <td>0</td>\n",
       "      <td>0</td>\n",
       "      <td>0</td>\n",
       "      <td>0</td>\n",
       "      <td>0</td>\n",
       "      <td>0.0000</td>\n",
       "      <td>0</td>\n",
       "      <td>Johnston, Miss. Catherine Helen \"Carrie\"</td>\n",
       "      <td>Miss</td>\n",
       "      <td>22.0</td>\n",
       "    </tr>\n",
       "    <tr>\n",
       "      <th>889</th>\n",
       "      <td>1</td>\n",
       "      <td>0</td>\n",
       "      <td>1</td>\n",
       "      <td>0</td>\n",
       "      <td>0</td>\n",
       "      <td>30.0000</td>\n",
       "      <td>1</td>\n",
       "      <td>Behr, Mr. Karl Howell</td>\n",
       "      <td>Mr</td>\n",
       "      <td>26.0</td>\n",
       "    </tr>\n",
       "    <tr>\n",
       "      <th>890</th>\n",
       "      <td>0</td>\n",
       "      <td>2</td>\n",
       "      <td>1</td>\n",
       "      <td>0</td>\n",
       "      <td>0</td>\n",
       "      <td>7.7500</td>\n",
       "      <td>2</td>\n",
       "      <td>Dooley, Mr. Patrick</td>\n",
       "      <td>Mr</td>\n",
       "      <td>32.0</td>\n",
       "    </tr>\n",
       "  </tbody>\n",
       "</table>\n",
       "<p>891 rows × 10 columns</p>\n",
       "</div>"
      ],
      "text/plain": [
       "     Survived  Pclass  Sex  SibSp  Parch     Fare  Embarked  \\\n",
       "0           0       0    0      0      0   0.0000         0   \n",
       "1           1       0    0      1      0  71.2833         1   \n",
       "2           0       0    0      0      0   0.0000         0   \n",
       "3           0       0    0      0      0   0.0000         0   \n",
       "4           0       0    0      0      0   0.0000         0   \n",
       "..        ...     ...  ...    ...    ...      ...       ...   \n",
       "886         0       0    0      0      0   0.0000         0   \n",
       "887         0       0    0      0      0   0.0000         0   \n",
       "888         0       0    0      0      0   0.0000         0   \n",
       "889         1       0    1      0      0  30.0000         1   \n",
       "890         0       2    1      0      0   7.7500         2   \n",
       "\n",
       "                                                  Name Initial   Age  \n",
       "0                              Braund, Mr. Owen Harris      Mr  22.0  \n",
       "1    Cumings, Mrs. John Bradley (Florence Briggs Th...     Mrs  38.0  \n",
       "2                               Heikkinen, Miss. Laina    Miss  26.0  \n",
       "3         Futrelle, Mrs. Jacques Heath (Lily May Peel)     Mrs  35.0  \n",
       "4                             Allen, Mr. William Henry      Mr  35.0  \n",
       "..                                                 ...     ...   ...  \n",
       "886                              Montvila, Rev. Juozas   Other  27.0  \n",
       "887                       Graham, Miss. Margaret Edith    Miss  19.0  \n",
       "888           Johnston, Miss. Catherine Helen \"Carrie\"    Miss  22.0  \n",
       "889                              Behr, Mr. Karl Howell      Mr  26.0  \n",
       "890                                Dooley, Mr. Patrick      Mr  32.0  \n",
       "\n",
       "[891 rows x 10 columns]"
      ]
     },
     "execution_count": 230,
     "metadata": {},
     "output_type": "execute_result"
    }
   ],
   "source": [
    "df"
   ]
  },
  {
   "cell_type": "code",
   "execution_count": 234,
   "id": "c45d661d-500a-4ca6-91f7-757b956e4688",
   "metadata": {},
   "outputs": [],
   "source": [
    "df = pd.concat([df,dummmy],axis=1)"
   ]
  },
  {
   "cell_type": "code",
   "execution_count": 235,
   "id": "0852ac22-139d-4c2c-9389-5bf2c807b40c",
   "metadata": {},
   "outputs": [],
   "source": [
    "df = df.drop(['Embarked','Initial','Name'],axis=1)"
   ]
  },
  {
   "cell_type": "code",
   "execution_count": 237,
   "id": "14e19b03-b526-40b1-8013-d24614c0da98",
   "metadata": {},
   "outputs": [
    {
     "data": {
      "text/html": [
       "<div>\n",
       "<style scoped>\n",
       "    .dataframe tbody tr th:only-of-type {\n",
       "        vertical-align: middle;\n",
       "    }\n",
       "\n",
       "    .dataframe tbody tr th {\n",
       "        vertical-align: top;\n",
       "    }\n",
       "\n",
       "    .dataframe thead th {\n",
       "        text-align: right;\n",
       "    }\n",
       "</style>\n",
       "<table border=\"1\" class=\"dataframe\">\n",
       "  <thead>\n",
       "    <tr style=\"text-align: right;\">\n",
       "      <th></th>\n",
       "      <th>Survived</th>\n",
       "      <th>Pclass</th>\n",
       "      <th>Sex</th>\n",
       "      <th>SibSp</th>\n",
       "      <th>Parch</th>\n",
       "      <th>Fare</th>\n",
       "      <th>Age</th>\n",
       "      <th>Embarked_0</th>\n",
       "      <th>Embarked_1</th>\n",
       "      <th>Embarked_2</th>\n",
       "    </tr>\n",
       "  </thead>\n",
       "  <tbody>\n",
       "    <tr>\n",
       "      <th>0</th>\n",
       "      <td>0</td>\n",
       "      <td>0</td>\n",
       "      <td>0</td>\n",
       "      <td>0</td>\n",
       "      <td>0</td>\n",
       "      <td>0.0000</td>\n",
       "      <td>22.0</td>\n",
       "      <td>1</td>\n",
       "      <td>0</td>\n",
       "      <td>0</td>\n",
       "    </tr>\n",
       "    <tr>\n",
       "      <th>1</th>\n",
       "      <td>1</td>\n",
       "      <td>0</td>\n",
       "      <td>0</td>\n",
       "      <td>1</td>\n",
       "      <td>0</td>\n",
       "      <td>71.2833</td>\n",
       "      <td>38.0</td>\n",
       "      <td>0</td>\n",
       "      <td>1</td>\n",
       "      <td>0</td>\n",
       "    </tr>\n",
       "    <tr>\n",
       "      <th>2</th>\n",
       "      <td>0</td>\n",
       "      <td>0</td>\n",
       "      <td>0</td>\n",
       "      <td>0</td>\n",
       "      <td>0</td>\n",
       "      <td>0.0000</td>\n",
       "      <td>26.0</td>\n",
       "      <td>1</td>\n",
       "      <td>0</td>\n",
       "      <td>0</td>\n",
       "    </tr>\n",
       "    <tr>\n",
       "      <th>3</th>\n",
       "      <td>0</td>\n",
       "      <td>0</td>\n",
       "      <td>0</td>\n",
       "      <td>0</td>\n",
       "      <td>0</td>\n",
       "      <td>0.0000</td>\n",
       "      <td>35.0</td>\n",
       "      <td>1</td>\n",
       "      <td>0</td>\n",
       "      <td>0</td>\n",
       "    </tr>\n",
       "    <tr>\n",
       "      <th>4</th>\n",
       "      <td>0</td>\n",
       "      <td>0</td>\n",
       "      <td>0</td>\n",
       "      <td>0</td>\n",
       "      <td>0</td>\n",
       "      <td>0.0000</td>\n",
       "      <td>35.0</td>\n",
       "      <td>1</td>\n",
       "      <td>0</td>\n",
       "      <td>0</td>\n",
       "    </tr>\n",
       "    <tr>\n",
       "      <th>...</th>\n",
       "      <td>...</td>\n",
       "      <td>...</td>\n",
       "      <td>...</td>\n",
       "      <td>...</td>\n",
       "      <td>...</td>\n",
       "      <td>...</td>\n",
       "      <td>...</td>\n",
       "      <td>...</td>\n",
       "      <td>...</td>\n",
       "      <td>...</td>\n",
       "    </tr>\n",
       "    <tr>\n",
       "      <th>886</th>\n",
       "      <td>0</td>\n",
       "      <td>0</td>\n",
       "      <td>0</td>\n",
       "      <td>0</td>\n",
       "      <td>0</td>\n",
       "      <td>0.0000</td>\n",
       "      <td>27.0</td>\n",
       "      <td>1</td>\n",
       "      <td>0</td>\n",
       "      <td>0</td>\n",
       "    </tr>\n",
       "    <tr>\n",
       "      <th>887</th>\n",
       "      <td>0</td>\n",
       "      <td>0</td>\n",
       "      <td>0</td>\n",
       "      <td>0</td>\n",
       "      <td>0</td>\n",
       "      <td>0.0000</td>\n",
       "      <td>19.0</td>\n",
       "      <td>1</td>\n",
       "      <td>0</td>\n",
       "      <td>0</td>\n",
       "    </tr>\n",
       "    <tr>\n",
       "      <th>888</th>\n",
       "      <td>0</td>\n",
       "      <td>0</td>\n",
       "      <td>0</td>\n",
       "      <td>0</td>\n",
       "      <td>0</td>\n",
       "      <td>0.0000</td>\n",
       "      <td>22.0</td>\n",
       "      <td>1</td>\n",
       "      <td>0</td>\n",
       "      <td>0</td>\n",
       "    </tr>\n",
       "    <tr>\n",
       "      <th>889</th>\n",
       "      <td>1</td>\n",
       "      <td>0</td>\n",
       "      <td>1</td>\n",
       "      <td>0</td>\n",
       "      <td>0</td>\n",
       "      <td>30.0000</td>\n",
       "      <td>26.0</td>\n",
       "      <td>0</td>\n",
       "      <td>1</td>\n",
       "      <td>0</td>\n",
       "    </tr>\n",
       "    <tr>\n",
       "      <th>890</th>\n",
       "      <td>0</td>\n",
       "      <td>2</td>\n",
       "      <td>1</td>\n",
       "      <td>0</td>\n",
       "      <td>0</td>\n",
       "      <td>7.7500</td>\n",
       "      <td>32.0</td>\n",
       "      <td>0</td>\n",
       "      <td>0</td>\n",
       "      <td>1</td>\n",
       "    </tr>\n",
       "  </tbody>\n",
       "</table>\n",
       "<p>891 rows × 10 columns</p>\n",
       "</div>"
      ],
      "text/plain": [
       "     Survived  Pclass  Sex  SibSp  Parch     Fare   Age  Embarked_0  \\\n",
       "0           0       0    0      0      0   0.0000  22.0           1   \n",
       "1           1       0    0      1      0  71.2833  38.0           0   \n",
       "2           0       0    0      0      0   0.0000  26.0           1   \n",
       "3           0       0    0      0      0   0.0000  35.0           1   \n",
       "4           0       0    0      0      0   0.0000  35.0           1   \n",
       "..        ...     ...  ...    ...    ...      ...   ...         ...   \n",
       "886         0       0    0      0      0   0.0000  27.0           1   \n",
       "887         0       0    0      0      0   0.0000  19.0           1   \n",
       "888         0       0    0      0      0   0.0000  22.0           1   \n",
       "889         1       0    1      0      0  30.0000  26.0           0   \n",
       "890         0       2    1      0      0   7.7500  32.0           0   \n",
       "\n",
       "     Embarked_1  Embarked_2  \n",
       "0             0           0  \n",
       "1             1           0  \n",
       "2             0           0  \n",
       "3             0           0  \n",
       "4             0           0  \n",
       "..          ...         ...  \n",
       "886           0           0  \n",
       "887           0           0  \n",
       "888           0           0  \n",
       "889           1           0  \n",
       "890           0           1  \n",
       "\n",
       "[891 rows x 10 columns]"
      ]
     },
     "execution_count": 237,
     "metadata": {},
     "output_type": "execute_result"
    }
   ],
   "source": [
    "df"
   ]
  },
  {
   "cell_type": "code",
   "execution_count": 238,
   "id": "8fd420ed-4f4d-4474-b50f-3803ae6f8e50",
   "metadata": {},
   "outputs": [],
   "source": [
    "df.to_csv(\"temp.csv\")"
   ]
  },
  {
   "cell_type": "code",
   "execution_count": null,
   "id": "436d33f6-5d50-4aca-bc45-01cad4575414",
   "metadata": {},
   "outputs": [],
   "source": []
  }
 ],
 "metadata": {
  "kernelspec": {
   "display_name": "myml",
   "language": "python",
   "name": "myml"
  },
  "language_info": {
   "codemirror_mode": {
    "name": "ipython",
    "version": 3
   },
   "file_extension": ".py",
   "mimetype": "text/x-python",
   "name": "python",
   "nbconvert_exporter": "python",
   "pygments_lexer": "ipython3",
   "version": "3.8.0"
  }
 },
 "nbformat": 4,
 "nbformat_minor": 5
}
