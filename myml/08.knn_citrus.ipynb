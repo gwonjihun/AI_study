{
 "cells": [
  {
   "cell_type": "markdown",
   "id": "350eaf1c-05d4-4b9f-900c-6e220327e7aa",
   "metadata": {},
   "source": [
    "## 유클리드 거리\n",
    "> * d = sqt{(a1-a2)^2+(b1-b2)^2}\n",
    "\n",
    "## 맨하탄 거리 \n",
    "> * d = |a1-a2| + |b1-b2|"
   ]
  },
  {
   "cell_type": "code",
   "execution_count": 106,
   "id": "aaa584c7-5cf7-4653-ba4e-80014f97ba57",
   "metadata": {},
   "outputs": [],
   "source": [
    "import numpy as np\n",
    "import pandas as pd\n",
    "\n",
    "import matplotlib.pyplot as plt\n",
    "import seaborn as sns\n",
    "\n",
    "from sklearn.model_selection import train_test_split\n",
    "from sklearn.neighbors import KNeighborsClassifier\n",
    "from sklearn.preprocessing import StandardScaler,Normalizer,MinMaxScaler,LabelEncoder"
   ]
  },
  {
   "cell_type": "code",
   "execution_count": 107,
   "id": "74d13796-64e0-43f5-b8d4-ee728da2f54e",
   "metadata": {},
   "outputs": [],
   "source": [
    "citrus = pd.read_csv(\"datasets/citrus.csv\")"
   ]
  },
  {
   "cell_type": "code",
   "execution_count": 108,
   "id": "9b47ab81-c111-4849-a767-0bdb69d1816f",
   "metadata": {},
   "outputs": [
    {
     "data": {
      "text/plain": [
       "Index(['name', 'diameter', 'weight', 'red', 'green', 'blue'], dtype='object')"
      ]
     },
     "execution_count": 108,
     "metadata": {},
     "output_type": "execute_result"
    }
   ],
   "source": [
    "citrus.columns"
   ]
  },
  {
   "cell_type": "code",
   "execution_count": 109,
   "id": "09ff5bd6-b5ee-4ad1-a323-7e11a60776b8",
   "metadata": {},
   "outputs": [
    {
     "data": {
      "text/plain": [
       "orange        5000\n",
       "grapefruit    5000\n",
       "Name: name, dtype: int64"
      ]
     },
     "execution_count": 109,
     "metadata": {},
     "output_type": "execute_result"
    }
   ],
   "source": [
    "citrus.name.value_counts()"
   ]
  },
  {
   "cell_type": "code",
   "execution_count": 110,
   "id": "61c9d09e-7dc7-4bed-a056-17b3b81efaff",
   "metadata": {},
   "outputs": [
    {
     "data": {
      "text/plain": [
       "array(['orange', 'grapefruit'], dtype=object)"
      ]
     },
     "execution_count": 110,
     "metadata": {},
     "output_type": "execute_result"
    }
   ],
   "source": [
    "citrus.name.unique()"
   ]
  },
  {
   "cell_type": "code",
   "execution_count": 111,
   "id": "cbf5e345-c200-460c-b10d-6bd305e15b23",
   "metadata": {},
   "outputs": [
    {
     "data": {
      "text/plain": [
       "0"
      ]
     },
     "execution_count": 111,
     "metadata": {},
     "output_type": "execute_result"
    }
   ],
   "source": [
    "citrus.duplicated(keep=False).sum()"
   ]
  },
  {
   "cell_type": "code",
   "execution_count": 112,
   "id": "3c274b08-2d94-47e9-ae22-f15304adfa6c",
   "metadata": {},
   "outputs": [
    {
     "data": {
      "text/html": [
       "<div>\n",
       "<style scoped>\n",
       "    .dataframe tbody tr th:only-of-type {\n",
       "        vertical-align: middle;\n",
       "    }\n",
       "\n",
       "    .dataframe tbody tr th {\n",
       "        vertical-align: top;\n",
       "    }\n",
       "\n",
       "    .dataframe thead th {\n",
       "        text-align: right;\n",
       "    }\n",
       "</style>\n",
       "<table border=\"1\" class=\"dataframe\">\n",
       "  <thead>\n",
       "    <tr style=\"text-align: right;\">\n",
       "      <th></th>\n",
       "      <th>name</th>\n",
       "      <th>diameter</th>\n",
       "      <th>weight</th>\n",
       "      <th>red</th>\n",
       "      <th>green</th>\n",
       "      <th>blue</th>\n",
       "    </tr>\n",
       "  </thead>\n",
       "  <tbody>\n",
       "  </tbody>\n",
       "</table>\n",
       "</div>"
      ],
      "text/plain": [
       "Empty DataFrame\n",
       "Columns: [name, diameter, weight, red, green, blue]\n",
       "Index: []"
      ]
     },
     "execution_count": 112,
     "metadata": {},
     "output_type": "execute_result"
    }
   ],
   "source": [
    "citrus[citrus.duplicated(keep=False)]\n",
    "# 중복 데이터 존재 X"
   ]
  },
  {
   "cell_type": "code",
   "execution_count": 113,
   "id": "1e849b4f-a9c4-4486-b6a6-f64e93aebdd1",
   "metadata": {},
   "outputs": [
    {
     "data": {
      "text/plain": [
       "orange        5000\n",
       "grapefruit    5000\n",
       "Name: name, dtype: int64"
      ]
     },
     "execution_count": 113,
     "metadata": {},
     "output_type": "execute_result"
    }
   ],
   "source": [
    "citrus['name'].value_counts()\n",
    "# 데이터의 imblanced가 존재하지 않음을 확인할 수 있다"
   ]
  },
  {
   "cell_type": "code",
   "execution_count": 114,
   "id": "68934cbd-bb49-4150-b238-cc9371c389e0",
   "metadata": {},
   "outputs": [
    {
     "data": {
      "text/plain": [
       "<AxesSubplot:xlabel='diameter', ylabel='Count'>"
      ]
     },
     "execution_count": 114,
     "metadata": {},
     "output_type": "execute_result"
    },
    {
     "data": {
      "image/png": "[encoded data removed]",
      "text/plain": [
       "<Figure size 432x288 with 1 Axes>"
      ]
     },
     "metadata": {
      "needs_background": "light"
     },
     "output_type": "display_data"
    }
   ],
   "source": [
    "sns.histplot(data=citrus,x='diameter',hue='name', kde=True,cbar=False)"
   ]
  },
  {
   "cell_type": "code",
   "execution_count": 115,
   "id": "b317e134-c276-4d40-9e7f-68dcbcb9889c",
   "metadata": {},
   "outputs": [],
   "source": [
    "# 레이블 인코딩"
   ]
  },
  {
   "cell_type": "code",
   "execution_count": 116,
   "id": "45511308-f5f1-4827-a5eb-ea1c5abd0563",
   "metadata": {},
   "outputs": [],
   "source": [
    "df = citrus.copy()"
   ]
  },
  {
   "cell_type": "code",
   "execution_count": 117,
   "id": "e6d120d7-1479-4938-a72d-e02b51eb3f2f",
   "metadata": {},
   "outputs": [],
   "source": [
    "def label_encoding(x):\n",
    "    if x == \"orange\":\n",
    "        return 1\n",
    "    else:\n",
    "        return 0"
   ]
  },
  {
   "cell_type": "code",
   "execution_count": 118,
   "id": "867f8579-c486-4435-aa0d-7b9dd25d67b4",
   "metadata": {},
   "outputs": [
    {
     "data": {
      "text/plain": [
       "0       1\n",
       "1       1\n",
       "2       1\n",
       "3       1\n",
       "4       1\n",
       "       ..\n",
       "9995    0\n",
       "9996    0\n",
       "9997    0\n",
       "9998    0\n",
       "9999    0\n",
       "Name: name, Length: 10000, dtype: int64"
      ]
     },
     "execution_count": 118,
     "metadata": {},
     "output_type": "execute_result"
    }
   ],
   "source": [
    "# map 버전\n",
    "df['name'].map({'orange': 1, 'grapefruit':0 })"
   ]
  },
  {
   "cell_type": "code",
   "execution_count": 119,
   "id": "86105ea2-8789-4494-9b72-1c91560f69f4",
   "metadata": {},
   "outputs": [
    {
     "data": {
      "text/html": [
       "<div>\n",
       "<style scoped>\n",
       "    .dataframe tbody tr th:only-of-type {\n",
       "        vertical-align: middle;\n",
       "    }\n",
       "\n",
       "    .dataframe tbody tr th {\n",
       "        vertical-align: top;\n",
       "    }\n",
       "\n",
       "    .dataframe thead th {\n",
       "        text-align: right;\n",
       "    }\n",
       "</style>\n",
       "<table border=\"1\" class=\"dataframe\">\n",
       "  <thead>\n",
       "    <tr style=\"text-align: right;\">\n",
       "      <th></th>\n",
       "      <th>name</th>\n",
       "      <th>diameter</th>\n",
       "      <th>weight</th>\n",
       "      <th>red</th>\n",
       "      <th>green</th>\n",
       "      <th>blue</th>\n",
       "    </tr>\n",
       "  </thead>\n",
       "  <tbody>\n",
       "    <tr>\n",
       "      <th>0</th>\n",
       "      <td>orange</td>\n",
       "      <td>2.96</td>\n",
       "      <td>86.76</td>\n",
       "      <td>172</td>\n",
       "      <td>85</td>\n",
       "      <td>2</td>\n",
       "    </tr>\n",
       "    <tr>\n",
       "      <th>1</th>\n",
       "      <td>orange</td>\n",
       "      <td>3.91</td>\n",
       "      <td>88.05</td>\n",
       "      <td>166</td>\n",
       "      <td>78</td>\n",
       "      <td>3</td>\n",
       "    </tr>\n",
       "    <tr>\n",
       "      <th>2</th>\n",
       "      <td>orange</td>\n",
       "      <td>4.42</td>\n",
       "      <td>95.17</td>\n",
       "      <td>156</td>\n",
       "      <td>81</td>\n",
       "      <td>2</td>\n",
       "    </tr>\n",
       "    <tr>\n",
       "      <th>3</th>\n",
       "      <td>orange</td>\n",
       "      <td>4.47</td>\n",
       "      <td>95.60</td>\n",
       "      <td>163</td>\n",
       "      <td>81</td>\n",
       "      <td>4</td>\n",
       "    </tr>\n",
       "    <tr>\n",
       "      <th>4</th>\n",
       "      <td>orange</td>\n",
       "      <td>4.48</td>\n",
       "      <td>95.76</td>\n",
       "      <td>161</td>\n",
       "      <td>72</td>\n",
       "      <td>9</td>\n",
       "    </tr>\n",
       "    <tr>\n",
       "      <th>...</th>\n",
       "      <td>...</td>\n",
       "      <td>...</td>\n",
       "      <td>...</td>\n",
       "      <td>...</td>\n",
       "      <td>...</td>\n",
       "      <td>...</td>\n",
       "    </tr>\n",
       "    <tr>\n",
       "      <th>9995</th>\n",
       "      <td>grapefruit</td>\n",
       "      <td>15.35</td>\n",
       "      <td>253.89</td>\n",
       "      <td>149</td>\n",
       "      <td>77</td>\n",
       "      <td>20</td>\n",
       "    </tr>\n",
       "    <tr>\n",
       "      <th>9996</th>\n",
       "      <td>grapefruit</td>\n",
       "      <td>15.41</td>\n",
       "      <td>254.67</td>\n",
       "      <td>148</td>\n",
       "      <td>68</td>\n",
       "      <td>7</td>\n",
       "    </tr>\n",
       "    <tr>\n",
       "      <th>9997</th>\n",
       "      <td>grapefruit</td>\n",
       "      <td>15.59</td>\n",
       "      <td>256.50</td>\n",
       "      <td>168</td>\n",
       "      <td>82</td>\n",
       "      <td>20</td>\n",
       "    </tr>\n",
       "    <tr>\n",
       "      <th>9998</th>\n",
       "      <td>grapefruit</td>\n",
       "      <td>15.92</td>\n",
       "      <td>260.14</td>\n",
       "      <td>142</td>\n",
       "      <td>72</td>\n",
       "      <td>11</td>\n",
       "    </tr>\n",
       "    <tr>\n",
       "      <th>9999</th>\n",
       "      <td>grapefruit</td>\n",
       "      <td>16.45</td>\n",
       "      <td>261.51</td>\n",
       "      <td>152</td>\n",
       "      <td>74</td>\n",
       "      <td>2</td>\n",
       "    </tr>\n",
       "  </tbody>\n",
       "</table>\n",
       "<p>10000 rows × 6 columns</p>\n",
       "</div>"
      ],
      "text/plain": [
       "            name  diameter  weight  red  green  blue\n",
       "0         orange      2.96   86.76  172     85     2\n",
       "1         orange      3.91   88.05  166     78     3\n",
       "2         orange      4.42   95.17  156     81     2\n",
       "3         orange      4.47   95.60  163     81     4\n",
       "4         orange      4.48   95.76  161     72     9\n",
       "...          ...       ...     ...  ...    ...   ...\n",
       "9995  grapefruit     15.35  253.89  149     77    20\n",
       "9996  grapefruit     15.41  254.67  148     68     7\n",
       "9997  grapefruit     15.59  256.50  168     82    20\n",
       "9998  grapefruit     15.92  260.14  142     72    11\n",
       "9999  grapefruit     16.45  261.51  152     74     2\n",
       "\n",
       "[10000 rows x 6 columns]"
      ]
     },
     "execution_count": 119,
     "metadata": {},
     "output_type": "execute_result"
    }
   ],
   "source": [
    "df"
   ]
  },
  {
   "cell_type": "code",
   "execution_count": 120,
   "id": "939e0ea9-1c1b-4491-8e21-d19a4310f968",
   "metadata": {},
   "outputs": [],
   "source": [
    "#labelencoding sklearn functiong 활용 방식"
   ]
  },
  {
   "cell_type": "code",
   "execution_count": null,
   "id": "c8bc29b4-3fb7-4496-a2ba-f09f306bbfd5",
   "metadata": {},
   "outputs": [],
   "source": []
  },
  {
   "cell_type": "code",
   "execution_count": 121,
   "id": "3331dbe3-15ad-4219-a27a-4769644c6d59",
   "metadata": {},
   "outputs": [
    {
     "data": {
      "text/html": [
       "<style>#sk-container-id-5 {color: black;background-color: white;}#sk-container-id-5 pre{padding: 0;}#sk-container-id-5 div.sk-toggleable {background-color: white;}#sk-container-id-5 label.sk-toggleable__label {cursor: pointer;display: block;width: 100%;margin-bottom: 0;padding: 0.3em;box-sizing: border-box;text-align: center;}#sk-container-id-5 label.sk-toggleable__label-arrow:before {content: \"▸\";float: left;margin-right: 0.25em;color: #696969;}#sk-container-id-5 label.sk-toggleable__label-arrow:hover:before {color: black;}#sk-container-id-5 div.sk-estimator:hover label.sk-toggleable__label-arrow:before {color: black;}#sk-container-id-5 div.sk-toggleable__content {max-height: 0;max-width: 0;overflow: hidden;text-align: left;background-color: #f0f8ff;}#sk-container-id-5 div.sk-toggleable__content pre {margin: 0.2em;color: black;border-radius: 0.25em;background-color: #f0f8ff;}#sk-container-id-5 input.sk-toggleable__control:checked~div.sk-toggleable__content {max-height: 200px;max-width: 100%;overflow: auto;}#sk-container-id-5 input.sk-toggleable__control:checked~label.sk-toggleable__label-arrow:before {content: \"▾\";}#sk-container-id-5 div.sk-estimator input.sk-toggleable__control:checked~label.sk-toggleable__label {background-color: #d4ebff;}#sk-container-id-5 div.sk-label input.sk-toggleable__control:checked~label.sk-toggleable__label {background-color: #d4ebff;}#sk-container-id-5 input.sk-hidden--visually {border: 0;clip: rect(1px 1px 1px 1px);clip: rect(1px, 1px, 1px, 1px);height: 1px;margin: -1px;overflow: hidden;padding: 0;position: absolute;width: 1px;}#sk-container-id-5 div.sk-estimator {font-family: monospace;background-color: #f0f8ff;border: 1px dotted black;border-radius: 0.25em;box-sizing: border-box;margin-bottom: 0.5em;}#sk-container-id-5 div.sk-estimator:hover {background-color: #d4ebff;}#sk-container-id-5 div.sk-parallel-item::after {content: \"\";width: 100%;border-bottom: 1px solid gray;flex-grow: 1;}#sk-container-id-5 div.sk-label:hover label.sk-toggleable__label {background-color: #d4ebff;}#sk-container-id-5 div.sk-serial::before {content: \"\";position: absolute;border-left: 1px solid gray;box-sizing: border-box;top: 0;bottom: 0;left: 50%;z-index: 0;}#sk-container-id-5 div.sk-serial {display: flex;flex-direction: column;align-items: center;background-color: white;padding-right: 0.2em;padding-left: 0.2em;position: relative;}#sk-container-id-5 div.sk-item {position: relative;z-index: 1;}#sk-container-id-5 div.sk-parallel {display: flex;align-items: stretch;justify-content: center;background-color: white;position: relative;}#sk-container-id-5 div.sk-item::before, #sk-container-id-5 div.sk-parallel-item::before {content: \"\";position: absolute;border-left: 1px solid gray;box-sizing: border-box;top: 0;bottom: 0;left: 50%;z-index: -1;}#sk-container-id-5 div.sk-parallel-item {display: flex;flex-direction: column;z-index: 1;position: relative;background-color: white;}#sk-container-id-5 div.sk-parallel-item:first-child::after {align-self: flex-end;width: 50%;}#sk-container-id-5 div.sk-parallel-item:last-child::after {align-self: flex-start;width: 50%;}#sk-container-id-5 div.sk-parallel-item:only-child::after {width: 0;}#sk-container-id-5 div.sk-dashed-wrapped {border: 1px dashed gray;margin: 0 0.4em 0.5em 0.4em;box-sizing: border-box;padding-bottom: 0.4em;background-color: white;}#sk-container-id-5 div.sk-label label {font-family: monospace;font-weight: bold;display: inline-block;line-height: 1.2em;}#sk-container-id-5 div.sk-label-container {text-align: center;}#sk-container-id-5 div.sk-container {/* jupyter's `normalize.less` sets `[hidden] { display: none; }` but bootstrap.min.css set `[hidden] { display: none !important; }` so we also need the `!important` here to be able to override the default hidden behavior on the sphinx rendered scikit-learn.org. See: https://github.com/scikit-learn/scikit-learn/issues/21755 */display: inline-block !important;position: relative;}#sk-container-id-5 div.sk-text-repr-fallback {display: none;}</style><div id=\"sk-container-id-5\" class=\"sk-top-container\"><div class=\"sk-text-repr-fallback\"><pre>LabelEncoder()</pre><b>In a Jupyter environment, please rerun this cell to show the HTML representation or trust the notebook. <br />On GitHub, the HTML representation is unable to render, please try loading this page with nbviewer.org.</b></div><div class=\"sk-container\" hidden><div class=\"sk-item\"><div class=\"sk-estimator sk-toggleable\"><input class=\"sk-toggleable__control sk-hidden--visually\" id=\"sk-estimator-id-5\" type=\"checkbox\" checked><label for=\"sk-estimator-id-5\" class=\"sk-toggleable__label sk-toggleable__label-arrow\">LabelEncoder</label><div class=\"sk-toggleable__content\"><pre>LabelEncoder()</pre></div></div></div></div></div>"
      ],
      "text/plain": [
       "LabelEncoder()"
      ]
     },
     "execution_count": 121,
     "metadata": {},
     "output_type": "execute_result"
    }
   ],
   "source": [
    "lb_encoder = LabelEncoder()\n",
    "lb_encoder.fit(df['name'])"
   ]
  },
  {
   "cell_type": "code",
   "execution_count": 122,
   "id": "3dbc142e-24bb-436f-88aa-9c425749367d",
   "metadata": {},
   "outputs": [],
   "source": [
    "encoder_df = lb_encoder.transform(df['name'])"
   ]
  },
  {
   "cell_type": "code",
   "execution_count": 123,
   "id": "d10aa833-4686-44f5-afce-f9c200e53e67",
   "metadata": {},
   "outputs": [
    {
     "data": {
      "text/plain": [
       "array(['grapefruit', 'orange'], dtype=object)"
      ]
     },
     "execution_count": 123,
     "metadata": {},
     "output_type": "execute_result"
    }
   ],
   "source": [
    "lb_encoder.classes_\n",
    "#변환된 속성값을 출력해줌"
   ]
  },
  {
   "cell_type": "code",
   "execution_count": 124,
   "id": "5ccf9649-e201-4c0a-b63f-46f28b1d6828",
   "metadata": {},
   "outputs": [],
   "source": [
    "df['name'] = encoder_df"
   ]
  },
  {
   "cell_type": "code",
   "execution_count": 125,
   "id": "e7612567-0870-4efe-bdb9-82c754f061df",
   "metadata": {},
   "outputs": [
    {
     "data": {
      "text/html": [
       "<div>\n",
       "<style scoped>\n",
       "    .dataframe tbody tr th:only-of-type {\n",
       "        vertical-align: middle;\n",
       "    }\n",
       "\n",
       "    .dataframe tbody tr th {\n",
       "        vertical-align: top;\n",
       "    }\n",
       "\n",
       "    .dataframe thead th {\n",
       "        text-align: right;\n",
       "    }\n",
       "</style>\n",
       "<table border=\"1\" class=\"dataframe\">\n",
       "  <thead>\n",
       "    <tr style=\"text-align: right;\">\n",
       "      <th></th>\n",
       "      <th>name</th>\n",
       "      <th>diameter</th>\n",
       "      <th>weight</th>\n",
       "      <th>red</th>\n",
       "      <th>green</th>\n",
       "      <th>blue</th>\n",
       "    </tr>\n",
       "  </thead>\n",
       "  <tbody>\n",
       "    <tr>\n",
       "      <th>0</th>\n",
       "      <td>1</td>\n",
       "      <td>2.96</td>\n",
       "      <td>86.76</td>\n",
       "      <td>172</td>\n",
       "      <td>85</td>\n",
       "      <td>2</td>\n",
       "    </tr>\n",
       "    <tr>\n",
       "      <th>1</th>\n",
       "      <td>1</td>\n",
       "      <td>3.91</td>\n",
       "      <td>88.05</td>\n",
       "      <td>166</td>\n",
       "      <td>78</td>\n",
       "      <td>3</td>\n",
       "    </tr>\n",
       "    <tr>\n",
       "      <th>2</th>\n",
       "      <td>1</td>\n",
       "      <td>4.42</td>\n",
       "      <td>95.17</td>\n",
       "      <td>156</td>\n",
       "      <td>81</td>\n",
       "      <td>2</td>\n",
       "    </tr>\n",
       "    <tr>\n",
       "      <th>3</th>\n",
       "      <td>1</td>\n",
       "      <td>4.47</td>\n",
       "      <td>95.60</td>\n",
       "      <td>163</td>\n",
       "      <td>81</td>\n",
       "      <td>4</td>\n",
       "    </tr>\n",
       "    <tr>\n",
       "      <th>4</th>\n",
       "      <td>1</td>\n",
       "      <td>4.48</td>\n",
       "      <td>95.76</td>\n",
       "      <td>161</td>\n",
       "      <td>72</td>\n",
       "      <td>9</td>\n",
       "    </tr>\n",
       "    <tr>\n",
       "      <th>...</th>\n",
       "      <td>...</td>\n",
       "      <td>...</td>\n",
       "      <td>...</td>\n",
       "      <td>...</td>\n",
       "      <td>...</td>\n",
       "      <td>...</td>\n",
       "    </tr>\n",
       "    <tr>\n",
       "      <th>9995</th>\n",
       "      <td>0</td>\n",
       "      <td>15.35</td>\n",
       "      <td>253.89</td>\n",
       "      <td>149</td>\n",
       "      <td>77</td>\n",
       "      <td>20</td>\n",
       "    </tr>\n",
       "    <tr>\n",
       "      <th>9996</th>\n",
       "      <td>0</td>\n",
       "      <td>15.41</td>\n",
       "      <td>254.67</td>\n",
       "      <td>148</td>\n",
       "      <td>68</td>\n",
       "      <td>7</td>\n",
       "    </tr>\n",
       "    <tr>\n",
       "      <th>9997</th>\n",
       "      <td>0</td>\n",
       "      <td>15.59</td>\n",
       "      <td>256.50</td>\n",
       "      <td>168</td>\n",
       "      <td>82</td>\n",
       "      <td>20</td>\n",
       "    </tr>\n",
       "    <tr>\n",
       "      <th>9998</th>\n",
       "      <td>0</td>\n",
       "      <td>15.92</td>\n",
       "      <td>260.14</td>\n",
       "      <td>142</td>\n",
       "      <td>72</td>\n",
       "      <td>11</td>\n",
       "    </tr>\n",
       "    <tr>\n",
       "      <th>9999</th>\n",
       "      <td>0</td>\n",
       "      <td>16.45</td>\n",
       "      <td>261.51</td>\n",
       "      <td>152</td>\n",
       "      <td>74</td>\n",
       "      <td>2</td>\n",
       "    </tr>\n",
       "  </tbody>\n",
       "</table>\n",
       "<p>10000 rows × 6 columns</p>\n",
       "</div>"
      ],
      "text/plain": [
       "      name  diameter  weight  red  green  blue\n",
       "0        1      2.96   86.76  172     85     2\n",
       "1        1      3.91   88.05  166     78     3\n",
       "2        1      4.42   95.17  156     81     2\n",
       "3        1      4.47   95.60  163     81     4\n",
       "4        1      4.48   95.76  161     72     9\n",
       "...    ...       ...     ...  ...    ...   ...\n",
       "9995     0     15.35  253.89  149     77    20\n",
       "9996     0     15.41  254.67  148     68     7\n",
       "9997     0     15.59  256.50  168     82    20\n",
       "9998     0     15.92  260.14  142     72    11\n",
       "9999     0     16.45  261.51  152     74     2\n",
       "\n",
       "[10000 rows x 6 columns]"
      ]
     },
     "execution_count": 125,
     "metadata": {},
     "output_type": "execute_result"
    }
   ],
   "source": [
    "df"
   ]
  },
  {
   "cell_type": "code",
   "execution_count": 126,
   "id": "5041d37c-56ae-4060-bce5-4ed674a59c26",
   "metadata": {},
   "outputs": [],
   "source": [
    "# 데이터 정규화"
   ]
  },
  {
   "cell_type": "code",
   "execution_count": 127,
   "id": "b85ece5f-2e92-4dbc-b75e-fd9a11d53a2e",
   "metadata": {},
   "outputs": [],
   "source": [
    "# 데이터 학습/검증 데이터 분리"
   ]
  },
  {
   "cell_type": "code",
   "execution_count": 128,
   "id": "f7b3a3f4-7c60-487c-ab52-ec3e2b9c2bd5",
   "metadata": {},
   "outputs": [],
   "source": [
    "X = df.iloc[:,1:]"
   ]
  },
  {
   "cell_type": "code",
   "execution_count": 129,
   "id": "c539dcdf-0583-4202-8f27-03e7859a49a6",
   "metadata": {},
   "outputs": [],
   "source": [
    "y = df.iloc[:,0:1]"
   ]
  },
  {
   "cell_type": "code",
   "execution_count": 130,
   "id": "26870e0c-c00e-4bbc-a59d-da9a536cf36f",
   "metadata": {},
   "outputs": [],
   "source": [
    "X_train, X_test, y_train, y_test = train_test_split(X,y, test_size =0.2 , shuffle =True, random_state =2022, stratify=y)\n",
    "# startify: test,train 사이의 label들의 균형을 균일하게 뽑히도록 조정해준다."
   ]
  },
  {
   "cell_type": "code",
   "execution_count": 131,
   "id": "4a846689-8a2a-47e6-8db6-b1b8c71484d3",
   "metadata": {},
   "outputs": [
    {
     "data": {
      "text/html": [
       "<div>\n",
       "<style scoped>\n",
       "    .dataframe tbody tr th:only-of-type {\n",
       "        vertical-align: middle;\n",
       "    }\n",
       "\n",
       "    .dataframe tbody tr th {\n",
       "        vertical-align: top;\n",
       "    }\n",
       "\n",
       "    .dataframe thead th {\n",
       "        text-align: right;\n",
       "    }\n",
       "</style>\n",
       "<table border=\"1\" class=\"dataframe\">\n",
       "  <thead>\n",
       "    <tr style=\"text-align: right;\">\n",
       "      <th></th>\n",
       "      <th>diameter</th>\n",
       "      <th>weight</th>\n",
       "      <th>red</th>\n",
       "      <th>green</th>\n",
       "      <th>blue</th>\n",
       "    </tr>\n",
       "  </thead>\n",
       "  <tbody>\n",
       "    <tr>\n",
       "      <th>465</th>\n",
       "      <td>6.82</td>\n",
       "      <td>128.08</td>\n",
       "      <td>159</td>\n",
       "      <td>93</td>\n",
       "      <td>3</td>\n",
       "    </tr>\n",
       "    <tr>\n",
       "      <th>5055</th>\n",
       "      <td>8.81</td>\n",
       "      <td>153.11</td>\n",
       "      <td>139</td>\n",
       "      <td>64</td>\n",
       "      <td>4</td>\n",
       "    </tr>\n",
       "    <tr>\n",
       "      <th>978</th>\n",
       "      <td>7.42</td>\n",
       "      <td>136.61</td>\n",
       "      <td>154</td>\n",
       "      <td>76</td>\n",
       "      <td>15</td>\n",
       "    </tr>\n",
       "    <tr>\n",
       "      <th>4787</th>\n",
       "      <td>10.67</td>\n",
       "      <td>184.66</td>\n",
       "      <td>166</td>\n",
       "      <td>88</td>\n",
       "      <td>19</td>\n",
       "    </tr>\n",
       "    <tr>\n",
       "      <th>105</th>\n",
       "      <td>5.84</td>\n",
       "      <td>114.96</td>\n",
       "      <td>152</td>\n",
       "      <td>84</td>\n",
       "      <td>17</td>\n",
       "    </tr>\n",
       "    <tr>\n",
       "      <th>...</th>\n",
       "      <td>...</td>\n",
       "      <td>...</td>\n",
       "      <td>...</td>\n",
       "      <td>...</td>\n",
       "      <td>...</td>\n",
       "    </tr>\n",
       "    <tr>\n",
       "      <th>1750</th>\n",
       "      <td>8.00</td>\n",
       "      <td>145.63</td>\n",
       "      <td>150</td>\n",
       "      <td>88</td>\n",
       "      <td>2</td>\n",
       "    </tr>\n",
       "    <tr>\n",
       "      <th>4633</th>\n",
       "      <td>10.30</td>\n",
       "      <td>179.88</td>\n",
       "      <td>157</td>\n",
       "      <td>71</td>\n",
       "      <td>2</td>\n",
       "    </tr>\n",
       "    <tr>\n",
       "      <th>7023</th>\n",
       "      <td>11.16</td>\n",
       "      <td>192.65</td>\n",
       "      <td>143</td>\n",
       "      <td>75</td>\n",
       "      <td>5</td>\n",
       "    </tr>\n",
       "    <tr>\n",
       "      <th>8443</th>\n",
       "      <td>12.09</td>\n",
       "      <td>206.94</td>\n",
       "      <td>154</td>\n",
       "      <td>53</td>\n",
       "      <td>2</td>\n",
       "    </tr>\n",
       "    <tr>\n",
       "      <th>7788</th>\n",
       "      <td>11.64</td>\n",
       "      <td>200.23</td>\n",
       "      <td>138</td>\n",
       "      <td>75</td>\n",
       "      <td>3</td>\n",
       "    </tr>\n",
       "  </tbody>\n",
       "</table>\n",
       "<p>8000 rows × 5 columns</p>\n",
       "</div>"
      ],
      "text/plain": [
       "      diameter  weight  red  green  blue\n",
       "465       6.82  128.08  159     93     3\n",
       "5055      8.81  153.11  139     64     4\n",
       "978       7.42  136.61  154     76    15\n",
       "4787     10.67  184.66  166     88    19\n",
       "105       5.84  114.96  152     84    17\n",
       "...        ...     ...  ...    ...   ...\n",
       "1750      8.00  145.63  150     88     2\n",
       "4633     10.30  179.88  157     71     2\n",
       "7023     11.16  192.65  143     75     5\n",
       "8443     12.09  206.94  154     53     2\n",
       "7788     11.64  200.23  138     75     3\n",
       "\n",
       "[8000 rows x 5 columns]"
      ]
     },
     "execution_count": 131,
     "metadata": {},
     "output_type": "execute_result"
    }
   ],
   "source": [
    "X_train"
   ]
  },
  {
   "cell_type": "markdown",
   "id": "89ce0885-bdb6-4f22-8715-d20fc9b53635",
   "metadata": {},
   "source": [
    "# 정규화는 데이터를 분리 후 진행한다 \n",
    "> * 왜냐하면 통합 데이터를 정규화를 진행하게된다면 결국 테스트 데이터가 학습과정에 어느정도 참여하게 되기때문이다.\n",
    "> * 표준 정규분포 : Z-score scaller or standard scaler라고 부른다"
   ]
  },
  {
   "cell_type": "code",
   "execution_count": 132,
   "id": "da7a10a8-1833-4c3b-873f-f583b0e954cd",
   "metadata": {},
   "outputs": [],
   "source": [
    "st = StandardScaler()"
   ]
  },
  {
   "cell_type": "code",
   "execution_count": 133,
   "id": "e5ab8cf4-c923-40a6-be80-5ede46f25aa2",
   "metadata": {},
   "outputs": [],
   "source": [
    "st.fit(X_train)\n",
    "X_std_train = st.transform(X_train)"
   ]
  },
  {
   "cell_type": "code",
   "execution_count": 134,
   "id": "d7be66b9-3f3a-4edc-ac71-30d1037610b3",
   "metadata": {},
   "outputs": [
    {
     "data": {
      "text/plain": [
       "array([[-1.61852607, -1.60693378,  0.48456216,  1.45730586, -0.92140149],\n",
       "       [-0.59932084, -0.75195291, -1.42739703, -1.02134167, -0.81169288],\n",
       "       [-1.31122801, -1.31556395,  0.00657236,  0.00430558,  0.39510185],\n",
       "       ...,\n",
       "       [ 0.60426322,  0.59866411, -1.04500519, -0.08116502, -0.70198426],\n",
       "       [ 1.08057521,  1.08678543,  0.00657236, -1.96151832, -1.0311101 ],\n",
       "       [ 0.85010167,  0.85758361, -1.52299499, -0.08116502, -0.92140149]])"
      ]
     },
     "execution_count": 134,
     "metadata": {},
     "output_type": "execute_result"
    }
   ],
   "source": [
    "X_std_train"
   ]
  },
  {
   "cell_type": "code",
   "execution_count": 135,
   "id": "173b57cc-01ac-43c7-bad1-6056a2edb390",
   "metadata": {},
   "outputs": [],
   "source": [
    "y_std_train = y_train.to_numpy()"
   ]
  },
  {
   "cell_type": "code",
   "execution_count": 149,
   "id": "b94b30cd-1be3-4fb0-bf4f-002536a13b7b",
   "metadata": {},
   "outputs": [],
   "source": [
    "y_std_train=y_std_train.reshape([-1])"
   ]
  },
  {
   "cell_type": "code",
   "execution_count": 224,
   "id": "8bad4075-ebad-4803-8964-e4f183b2fbdc",
   "metadata": {},
   "outputs": [],
   "source": [
    "knn = KNeighborsClassifier(n_neighbors=15)"
   ]
  },
  {
   "cell_type": "code",
   "execution_count": 225,
   "id": "c33c660a-0582-41e0-abb4-e5a10e4e6975",
   "metadata": {},
   "outputs": [
    {
     "data": {
      "text/html": [
       "<style>#sk-container-id-11 {color: black;background-color: white;}#sk-container-id-11 pre{padding: 0;}#sk-container-id-11 div.sk-toggleable {background-color: white;}#sk-container-id-11 label.sk-toggleable__label {cursor: pointer;display: block;width: 100%;margin-bottom: 0;padding: 0.3em;box-sizing: border-box;text-align: center;}#sk-container-id-11 label.sk-toggleable__label-arrow:before {content: \"▸\";float: left;margin-right: 0.25em;color: #696969;}#sk-container-id-11 label.sk-toggleable__label-arrow:hover:before {color: black;}#sk-container-id-11 div.sk-estimator:hover label.sk-toggleable__label-arrow:before {color: black;}#sk-container-id-11 div.sk-toggleable__content {max-height: 0;max-width: 0;overflow: hidden;text-align: left;background-color: #f0f8ff;}#sk-container-id-11 div.sk-toggleable__content pre {margin: 0.2em;color: black;border-radius: 0.25em;background-color: #f0f8ff;}#sk-container-id-11 input.sk-toggleable__control:checked~div.sk-toggleable__content {max-height: 200px;max-width: 100%;overflow: auto;}#sk-container-id-11 input.sk-toggleable__control:checked~label.sk-toggleable__label-arrow:before {content: \"▾\";}#sk-container-id-11 div.sk-estimator input.sk-toggleable__control:checked~label.sk-toggleable__label {background-color: #d4ebff;}#sk-container-id-11 div.sk-label input.sk-toggleable__control:checked~label.sk-toggleable__label {background-color: #d4ebff;}#sk-container-id-11 input.sk-hidden--visually {border: 0;clip: rect(1px 1px 1px 1px);clip: rect(1px, 1px, 1px, 1px);height: 1px;margin: -1px;overflow: hidden;padding: 0;position: absolute;width: 1px;}#sk-container-id-11 div.sk-estimator {font-family: monospace;background-color: #f0f8ff;border: 1px dotted black;border-radius: 0.25em;box-sizing: border-box;margin-bottom: 0.5em;}#sk-container-id-11 div.sk-estimator:hover {background-color: #d4ebff;}#sk-container-id-11 div.sk-parallel-item::after {content: \"\";width: 100%;border-bottom: 1px solid gray;flex-grow: 1;}#sk-container-id-11 div.sk-label:hover label.sk-toggleable__label {background-color: #d4ebff;}#sk-container-id-11 div.sk-serial::before {content: \"\";position: absolute;border-left: 1px solid gray;box-sizing: border-box;top: 0;bottom: 0;left: 50%;z-index: 0;}#sk-container-id-11 div.sk-serial {display: flex;flex-direction: column;align-items: center;background-color: white;padding-right: 0.2em;padding-left: 0.2em;position: relative;}#sk-container-id-11 div.sk-item {position: relative;z-index: 1;}#sk-container-id-11 div.sk-parallel {display: flex;align-items: stretch;justify-content: center;background-color: white;position: relative;}#sk-container-id-11 div.sk-item::before, #sk-container-id-11 div.sk-parallel-item::before {content: \"\";position: absolute;border-left: 1px solid gray;box-sizing: border-box;top: 0;bottom: 0;left: 50%;z-index: -1;}#sk-container-id-11 div.sk-parallel-item {display: flex;flex-direction: column;z-index: 1;position: relative;background-color: white;}#sk-container-id-11 div.sk-parallel-item:first-child::after {align-self: flex-end;width: 50%;}#sk-container-id-11 div.sk-parallel-item:last-child::after {align-self: flex-start;width: 50%;}#sk-container-id-11 div.sk-parallel-item:only-child::after {width: 0;}#sk-container-id-11 div.sk-dashed-wrapped {border: 1px dashed gray;margin: 0 0.4em 0.5em 0.4em;box-sizing: border-box;padding-bottom: 0.4em;background-color: white;}#sk-container-id-11 div.sk-label label {font-family: monospace;font-weight: bold;display: inline-block;line-height: 1.2em;}#sk-container-id-11 div.sk-label-container {text-align: center;}#sk-container-id-11 div.sk-container {/* jupyter's `normalize.less` sets `[hidden] { display: none; }` but bootstrap.min.css set `[hidden] { display: none !important; }` so we also need the `!important` here to be able to override the default hidden behavior on the sphinx rendered scikit-learn.org. See: https://github.com/scikit-learn/scikit-learn/issues/21755 */display: inline-block !important;position: relative;}#sk-container-id-11 div.sk-text-repr-fallback {display: none;}</style><div id=\"sk-container-id-11\" class=\"sk-top-container\"><div class=\"sk-text-repr-fallback\"><pre>KNeighborsClassifier(n_neighbors=15)</pre><b>In a Jupyter environment, please rerun this cell to show the HTML representation or trust the notebook. <br />On GitHub, the HTML representation is unable to render, please try loading this page with nbviewer.org.</b></div><div class=\"sk-container\" hidden><div class=\"sk-item\"><div class=\"sk-estimator sk-toggleable\"><input class=\"sk-toggleable__control sk-hidden--visually\" id=\"sk-estimator-id-11\" type=\"checkbox\" checked><label for=\"sk-estimator-id-11\" class=\"sk-toggleable__label sk-toggleable__label-arrow\">KNeighborsClassifier</label><div class=\"sk-toggleable__content\"><pre>KNeighborsClassifier(n_neighbors=15)</pre></div></div></div></div></div>"
      ],
      "text/plain": [
       "KNeighborsClassifier(n_neighbors=15)"
      ]
     },
     "execution_count": 225,
     "metadata": {},
     "output_type": "execute_result"
    }
   ],
   "source": [
    "knn.fit(X_std_train,y_std_train)"
   ]
  },
  {
   "cell_type": "markdown",
   "id": "9b54d5c0-dd9d-49c3-930b-bb45103e33ae",
   "metadata": {},
   "source": [
    "## 테스트"
   ]
  },
  {
   "cell_type": "code",
   "execution_count": 226,
   "id": "a01a97d2-c447-4880-b374-6e6020f20664",
   "metadata": {},
   "outputs": [],
   "source": [
    "X_std_test = st.transform(X_test)"
   ]
  },
  {
   "cell_type": "code",
   "execution_count": 227,
   "id": "37bd0761-04e5-47d8-8151-62742f8e2023",
   "metadata": {},
   "outputs": [],
   "source": [
    "y_std_test = y_test.to_numpy()"
   ]
  },
  {
   "cell_type": "code",
   "execution_count": 228,
   "id": "347f5757-a3b8-4b3a-958a-eb783bb5c016",
   "metadata": {},
   "outputs": [],
   "source": [
    "y_pred = knn.predict(X_std_test)"
   ]
  },
  {
   "cell_type": "code",
   "execution_count": 229,
   "id": "7d179edc-a468-4610-97da-f76a36feb88b",
   "metadata": {},
   "outputs": [
    {
     "data": {
      "text/plain": [
       "array([1, 1, 0, 0, 1, 1, 1, 1, 1, 1])"
      ]
     },
     "execution_count": 229,
     "metadata": {},
     "output_type": "execute_result"
    }
   ],
   "source": [
    "y_pred[:10]"
   ]
  },
  {
   "cell_type": "code",
   "execution_count": 230,
   "id": "257798f8-1132-4970-b2f2-ea590af6e14b",
   "metadata": {},
   "outputs": [
    {
     "data": {
      "text/plain": [
       "array([[1],\n",
       "       [0],\n",
       "       [0],\n",
       "       [0],\n",
       "       [1],\n",
       "       [1],\n",
       "       [1],\n",
       "       [1],\n",
       "       [0],\n",
       "       [1]])"
      ]
     },
     "execution_count": 230,
     "metadata": {},
     "output_type": "execute_result"
    }
   ],
   "source": [
    "y_std_test[:10]"
   ]
  },
  {
   "cell_type": "code",
   "execution_count": 242,
   "id": "dc7b4024-f251-4f48-85c3-60ea9b92e77c",
   "metadata": {},
   "outputs": [],
   "source": [
    "y_std_test =y_std_test.reshape([-1])"
   ]
  },
  {
   "cell_type": "markdown",
   "id": "ed474e3b-4f2e-4483-8134-5f6027b03641",
   "metadata": {},
   "source": [
    "* test, pred의 타입과 차원이 동일해야 정확한 성능평가 지표가 나온다."
   ]
  },
  {
   "cell_type": "code",
   "execution_count": 243,
   "id": "c227af8a-b444-4a1c-9970-0fbf359b59f3",
   "metadata": {},
   "outputs": [
    {
     "data": {
      "text/plain": [
       "0.9225"
      ]
     },
     "execution_count": 243,
     "metadata": {},
     "output_type": "execute_result"
    }
   ],
   "source": [
    "(y_std_test==y_pred).sum()/X_std_test.shape[0]"
   ]
  },
  {
   "cell_type": "code",
   "execution_count": 244,
   "id": "a18e9853-3dfc-4b1e-b05f-05b17e96bc87",
   "metadata": {},
   "outputs": [
    {
     "data": {
      "text/plain": [
       "(2000,)"
      ]
     },
     "execution_count": 244,
     "metadata": {},
     "output_type": "execute_result"
    }
   ],
   "source": [
    "y_pred.shape"
   ]
  },
  {
   "cell_type": "code",
   "execution_count": 245,
   "id": "598b664f-fb2e-46e7-a2c2-fe262ef84f86",
   "metadata": {},
   "outputs": [],
   "source": [
    "from sklearn.metrics import confusion_matrix"
   ]
  },
  {
   "cell_type": "code",
   "execution_count": 246,
   "id": "cfa5f673-b499-4a0f-80ae-8fcdcd925838",
   "metadata": {},
   "outputs": [],
   "source": [
    "cm = confusion_matrix(y_std_test,y_pred)"
   ]
  },
  {
   "attachments": {
    "cf4c2d2c-3077-4a47-a5ab-d96c46f98b4b.png": {
     "image/png": "[encoded data removed]"
    }
   },
   "cell_type": "markdown",
   "id": "902c9890-198b-4dd7-9897-d0a4baa6fde0",
   "metadata": {},
   "source": [
    "![image.png](attachment:cf4c2d2c-3077-4a47-a5ab-d96c46f98b4b.png)"
   ]
  },
  {
   "cell_type": "code",
   "execution_count": 247,
   "id": "6b1d2db5-58ab-4834-9660-40baecd7f7c2",
   "metadata": {},
   "outputs": [
    {
     "data": {
      "image/png": "[encoded data removed]",
      "text/plain": [
       "<Figure size 432x288 with 1 Axes>"
      ]
     },
     "metadata": {
      "needs_background": "light"
     },
     "output_type": "display_data"
    }
   ],
   "source": [
    "plt.figure(figsize=(6,4))\n",
    "sns.heatmap(cm,annot=True, fmt='g',cbar=False,cmap=\"Blues\")\n",
    "plt.ylabel(\"active label\")\n",
    "plt.xlabel(\"predicted label\")\n",
    "plt.show()"
   ]
  },
  {
   "cell_type": "code",
   "execution_count": 248,
   "id": "0f32a68f-405b-46eb-b350-1c3451e8afb6",
   "metadata": {},
   "outputs": [],
   "source": [
    "from sklearn.metrics import accuracy_score, precision_score, recall_score\n",
    "def print_score(y_test,y_pred):\n",
    "    print(f'정확도 : {accuracy_score(y_test,y_pred)}')\n",
    "    print(f'정밀도 : {precision_score(y_test,y_pred)}')\n",
    "    print(f'재현율 : {recall_score(y_test,y_pred)}')"
   ]
  },
  {
   "cell_type": "code",
   "execution_count": 249,
   "id": "b8d04dc3-96d5-4f0f-bfd6-ac58d846979c",
   "metadata": {},
   "outputs": [
    {
     "name": "stdout",
     "output_type": "stream",
     "text": [
      "정확도 : 0.9225\n",
      "정밀도 : 0.9113924050632911\n",
      "재현율 : 0.936\n"
     ]
    }
   ],
   "source": [
    "print_score(y_test,y_pred)"
   ]
  },
  {
   "cell_type": "code",
   "execution_count": 269,
   "id": "9b2f8330-f6ee-4d0b-8c76-dfda32e24e46",
   "metadata": {},
   "outputs": [],
   "source": [
    "dicts = []\n",
    "hist = []\n",
    "for k in range(3,51):\n",
    "    # 새로운 모델 k 값을 \n",
    "    # 학습\n",
    "    # 예측 정확도\n",
    "    #\n",
    "    knn = KNeighborsClassifier(n_neighbors=k)\n",
    "    knn.fit(X_std_train,y_std_train)\n",
    "    y_pred = knn.predict(X_std_test)\n",
    "    hist.append([k,accuracy_score(y_test,y_pred)])"
   ]
  },
  {
   "cell_type": "code",
   "execution_count": 288,
   "id": "11bce860-7294-4897-a6ed-f3ab50c6f03f",
   "metadata": {},
   "outputs": [
    {
     "data": {
      "image/png": "[encoded data removed]",
      "text/plain": [
       "<Figure size 432x288 with 1 Axes>"
      ]
     },
     "metadata": {
      "needs_background": "light"
     },
     "output_type": "display_data"
    }
   ],
   "source": [
    "plt.figure(figsize=(6,4))\n",
    "plt.plot(hist)\n",
    "plt.ylim(0.92,0.933)\n",
    "plt.xlim(0, 50)\n",
    "\n",
    "plt.show()"
   ]
  },
  {
   "cell_type": "markdown",
   "id": "349e3b19-48e5-47c1-8b88-64fb3e7c7825",
   "metadata": {},
   "source": [
    "# K-fold\n",
    "> 기본적으로 모든 모델에서 활용해보는것이 좋음"
   ]
  },
  {
   "cell_type": "code",
   "execution_count": 301,
   "id": "39d08539-ede9-4831-97c4-a6e7c0d3a362",
   "metadata": {},
   "outputs": [
    {
     "data": {
      "text/plain": [
       "(2000, 5)"
      ]
     },
     "execution_count": 301,
     "metadata": {},
     "output_type": "execute_result"
    }
   ],
   "source": [
    "X_std_test.shape"
   ]
  },
  {
   "cell_type": "code",
   "execution_count": 321,
   "id": "a9fd84a8-6188-41cf-b966-050193e7822d",
   "metadata": {},
   "outputs": [
    {
     "name": "stdout",
     "output_type": "stream",
     "text": [
      "정확도 : 0.9193749999999999\n"
     ]
    }
   ],
   "source": [
    "from sklearn.model_selection import KFold\n",
    "\n",
    "kf = KFold(n_splits=5, shuffle=True, random_state=2022)\n",
    "acc_scores =[]\n",
    "for train_idx, val_indx in kf.split(X_std_train):\n",
    "    #train_idx-> 인덱스 번호 리스트를 가지고 와준다.\n",
    "    train_x,val_x = X_std_train[train_idx],X_std_train[val_indx]\n",
    "    train_y,val_y = y_std_train[train_idx],y_std_train[val_indx]\n",
    "    \n",
    "    model = KNeighborsClassifier(n_neighbors=5)\n",
    "    model.fit(train_x,train_y)\n",
    "    y_pred = model.predict(val_x)\n",
    "    acc_scores.append(accuracy_score(val_y,y_pred))\n",
    "\n",
    "print(f\"정확도 : {np.array(acc_scores).mean()}\")"
   ]
  },
  {
   "cell_type": "code",
   "execution_count": 319,
   "id": "3fcd0ff5-e93a-4a4f-aa8b-059a89e9d1cc",
   "metadata": {},
   "outputs": [
    {
     "name": "stdout",
     "output_type": "stream",
     "text": [
      "0.9193749999999999\n"
     ]
    }
   ],
   "source": [
    "print(np.array(acc_scores).mean())\n"
   ]
  },
  {
   "cell_type": "code",
   "execution_count": 328,
   "id": "639474ca-e4b9-493a-b4ca-467d24463348",
   "metadata": {},
   "outputs": [
    {
     "name": "stdout",
     "output_type": "stream",
     "text": [
      "--------------------------------------------\n",
      "[0.90375, 0.89875, 0.9325, 0.91625, 0.91125]\n",
      "3번째 정확도 : 0.9125\n",
      "--------------------------------------------\n",
      "[0.90375, 0.90375, 0.924375, 0.913125, 0.911875]\n",
      "4번째 정확도 : 0.9113749999999999\n",
      "--------------------------------------------\n",
      "[0.914375, 0.91125, 0.934375, 0.92125, 0.915625]\n",
      "5번째 정확도 : 0.9193749999999999\n",
      "--------------------------------------------\n",
      "[0.908125, 0.905625, 0.93375, 0.925625, 0.9175]\n",
      "6번째 정확도 : 0.9181250000000001\n",
      "--------------------------------------------\n",
      "[0.91125, 0.9075, 0.935625, 0.924375, 0.91875]\n",
      "7번째 정확도 : 0.9195\n",
      "--------------------------------------------\n",
      "[0.913125, 0.9075, 0.936875, 0.924375, 0.915625]\n",
      "8번째 정확도 : 0.9195\n",
      "--------------------------------------------\n",
      "[0.910625, 0.908125, 0.936875, 0.92875, 0.915625]\n",
      "9번째 정확도 : 0.9200000000000002\n",
      "--------------------------------------------\n",
      "[0.911875, 0.909375, 0.93625, 0.928125, 0.9175]\n",
      "10번째 정확도 : 0.920625\n",
      "--------------------------------------------\n",
      "[0.9125, 0.9125, 0.93875, 0.92875, 0.92125]\n",
      "11번째 정확도 : 0.92275\n",
      "--------------------------------------------\n",
      "[0.910625, 0.913125, 0.939375, 0.93125, 0.921875]\n",
      "12번째 정확도 : 0.92325\n",
      "--------------------------------------------\n",
      "[0.910625, 0.913125, 0.94, 0.930625, 0.9225]\n",
      "13번째 정확도 : 0.9233750000000001\n",
      "--------------------------------------------\n",
      "[0.91125, 0.913125, 0.938125, 0.93125, 0.9225]\n",
      "14번째 정확도 : 0.92325\n",
      "--------------------------------------------\n",
      "[0.91125, 0.914375, 0.94, 0.93125, 0.924375]\n",
      "15번째 정확도 : 0.92425\n",
      "--------------------------------------------\n",
      "[0.91, 0.913125, 0.938125, 0.93375, 0.925]\n",
      "16번째 정확도 : 0.924\n",
      "--------------------------------------------\n",
      "[0.9125, 0.915, 0.9375, 0.93125, 0.925625]\n",
      "17번째 정확도 : 0.9243750000000001\n",
      "--------------------------------------------\n",
      "[0.914375, 0.91375, 0.9375, 0.934375, 0.92375]\n",
      "18번째 정확도 : 0.9247500000000001\n",
      "--------------------------------------------\n",
      "[0.914375, 0.91875, 0.938125, 0.93125, 0.92375]\n",
      "19번째 정확도 : 0.9252499999999999\n",
      "--------------------------------------------\n",
      "[0.915, 0.918125, 0.93875, 0.93375, 0.923125]\n",
      "20번째 정확도 : 0.9257499999999999\n",
      "--------------------------------------------\n",
      "[0.915, 0.91875, 0.93875, 0.9325, 0.9225]\n",
      "21번째 정확도 : 0.9255000000000001\n",
      "--------------------------------------------\n",
      "[0.91625, 0.91625, 0.939375, 0.93125, 0.923125]\n",
      "22번째 정확도 : 0.9252499999999999\n",
      "--------------------------------------------\n",
      "[0.91625, 0.915625, 0.94, 0.93125, 0.923125]\n",
      "23번째 정확도 : 0.9252499999999999\n",
      "--------------------------------------------\n",
      "[0.915625, 0.91625, 0.940625, 0.930625, 0.923125]\n",
      "24번째 정확도 : 0.9252499999999999\n",
      "--------------------------------------------\n",
      "[0.916875, 0.915, 0.93875, 0.929375, 0.92125]\n",
      "25번째 정확도 : 0.92425\n",
      "--------------------------------------------\n",
      "[0.915625, 0.915625, 0.939375, 0.93, 0.92375]\n",
      "26번째 정확도 : 0.9248749999999999\n",
      "--------------------------------------------\n",
      "[0.916875, 0.91625, 0.94, 0.929375, 0.92375]\n",
      "27번째 정확도 : 0.9252499999999999\n",
      "--------------------------------------------\n",
      "[0.915, 0.916875, 0.93875, 0.93125, 0.924375]\n",
      "28번째 정확도 : 0.9252499999999999\n",
      "--------------------------------------------\n",
      "[0.916875, 0.91625, 0.93875, 0.929375, 0.924375]\n",
      "29번째 정확도 : 0.9251249999999999\n",
      "--------------------------------------------\n",
      "[0.916875, 0.918125, 0.938125, 0.9325, 0.92625]\n",
      "30번째 정확도 : 0.926375\n",
      "--------------------------------------------\n",
      "[0.91625, 0.91875, 0.94, 0.93, 0.925625]\n",
      "31번째 정확도 : 0.9261250000000001\n",
      "--------------------------------------------\n",
      "[0.9175, 0.9175, 0.939375, 0.930625, 0.92625]\n",
      "32번째 정확도 : 0.9262499999999999\n",
      "--------------------------------------------\n",
      "[0.9175, 0.918125, 0.939375, 0.93, 0.925625]\n",
      "33번째 정확도 : 0.9261250000000001\n",
      "--------------------------------------------\n",
      "[0.9175, 0.916875, 0.93875, 0.931875, 0.924375]\n",
      "34번째 정확도 : 0.9258749999999999\n",
      "--------------------------------------------\n",
      "[0.91875, 0.918125, 0.939375, 0.93125, 0.924375]\n",
      "35번째 정확도 : 0.926375\n",
      "--------------------------------------------\n",
      "[0.9175, 0.91625, 0.939375, 0.934375, 0.925625]\n",
      "36번째 정확도 : 0.9266249999999999\n",
      "--------------------------------------------\n",
      "[0.919375, 0.916875, 0.939375, 0.930625, 0.923125]\n",
      "37번째 정확도 : 0.9258750000000001\n",
      "--------------------------------------------\n",
      "[0.916875, 0.91625, 0.938125, 0.93125, 0.925]\n",
      "38번째 정확도 : 0.9254999999999999\n",
      "--------------------------------------------\n",
      "[0.916875, 0.916875, 0.93875, 0.93, 0.923125]\n",
      "39번째 정확도 : 0.9251250000000001\n",
      "--------------------------------------------\n",
      "[0.915625, 0.91625, 0.9375, 0.930625, 0.92375]\n",
      "40번째 정확도 : 0.9247500000000001\n",
      "--------------------------------------------\n",
      "[0.91625, 0.9175, 0.938125, 0.931875, 0.9225]\n",
      "41번째 정확도 : 0.9252500000000001\n",
      "--------------------------------------------\n",
      "[0.915, 0.916875, 0.9375, 0.931875, 0.924375]\n",
      "42번째 정확도 : 0.9251249999999999\n",
      "--------------------------------------------\n",
      "[0.914375, 0.9175, 0.94, 0.930625, 0.92375]\n",
      "43번째 정확도 : 0.9252499999999999\n",
      "--------------------------------------------\n",
      "[0.91625, 0.91875, 0.938125, 0.930625, 0.925]\n",
      "44번째 정확도 : 0.9257500000000001\n",
      "--------------------------------------------\n",
      "[0.915625, 0.918125, 0.939375, 0.93125, 0.925625]\n",
      "45번째 정확도 : 0.9259999999999999\n",
      "--------------------------------------------\n",
      "[0.914375, 0.919375, 0.939375, 0.93, 0.924375]\n",
      "46번째 정확도 : 0.9255000000000001\n",
      "--------------------------------------------\n",
      "[0.91625, 0.91875, 0.939375, 0.931875, 0.925]\n",
      "47번째 정확도 : 0.9262499999999999\n",
      "--------------------------------------------\n",
      "[0.915, 0.92, 0.93875, 0.930625, 0.925]\n",
      "48번째 정확도 : 0.9258749999999999\n",
      "--------------------------------------------\n",
      "[0.916875, 0.91875, 0.94, 0.930625, 0.924375]\n",
      "49번째 정확도 : 0.9261250000000001\n"
     ]
    }
   ],
   "source": [
    "avg = {}\n",
    "for k in range(3,50):\n",
    "    acc_scores =[]\n",
    "    for train_idx, val_indx in kf.split(X_std_train):\n",
    "        #train_idx-> 인덱스 번호 리스트를 가지고 와준다.\n",
    "        train_x,val_x = X_std_train[train_idx],X_std_train[val_indx]\n",
    "        train_y,val_y = y_std_train[train_idx],y_std_train[val_indx]\n",
    "        model = KNeighborsClassifier(n_neighbors=k)\n",
    "        model.fit(train_x,train_y)\n",
    "        y_pred = model.predict(val_x)\n",
    "        acc_scores.append(accuracy_score(val_y,y_pred))\n",
    "    print(\"--------------------------------------------\")\n",
    "    print(acc_scores)\n",
    "    print(f\"{k}번째 정확도 : {np.array(acc_scores).mean()}\")\n",
    "    avg[k] = np.array(acc_scores).mean()"
   ]
  },
  {
   "cell_type": "code",
   "execution_count": 348,
   "id": "3b0f54f9-b1eb-4592-9bcb-d42f3ec84740",
   "metadata": {},
   "outputs": [
    {
     "name": "stdout",
     "output_type": "stream",
     "text": [
      "Collecting tqdm\n",
      "  Downloading tqdm-4.64.0-py2.py3-none-any.whl (78 kB)\n",
      "     ---------------------------------------- 78.4/78.4 kB 4.3 MB/s eta 0:00:00\n",
      "Requirement already satisfied: colorama in c:\\users\\027\\anaconda3\\envs\\myml\\lib\\site-packages (from tqdm) (0.4.5)\n",
      "Installing collected packages: tqdm\n",
      "Successfully installed tqdm-4.64.0\n"
     ]
    }
   ],
   "source": [
    "!pip install tqdm"
   ]
  },
  {
   "cell_type": "code",
   "execution_count": 349,
   "id": "a648d726-e343-4ddc-8b58-3ee33991fd73",
   "metadata": {},
   "outputs": [
    {
     "name": "stderr",
     "output_type": "stream",
     "text": [
      "100%|██████████████████████████████████████████████████████████████████████████████████| 48/48 [00:15<00:00,  3.04it/s]\n"
     ]
    }
   ],
   "source": [
    "from tqdm import tqdm\n",
    "from sklearn.model_selection import cross_val_score\n",
    "\n",
    "hist = []\n",
    "\n",
    "for k in tqdm(range(3,51)):\n",
    "    model = KNeighborsClassifier(n_neighbors=k)\n",
    "    scores = cross_val_score(model, X_std_train, y_std_train, cv=5, scoring=\"accuracy\")\n",
    "    \n",
    "    hist.append(scores.mean())"
   ]
  },
  {
   "cell_type": "code",
   "execution_count": 345,
   "id": "76583b2f-077a-4e41-96fc-5ba07de5e43c",
   "metadata": {},
   "outputs": [],
   "source": [
    "dicts ={}\n",
    "for a,k in enumerate(hist):\n",
    "    dicts[a] = k"
   ]
  },
  {
   "cell_type": "code",
   "execution_count": 346,
   "id": "983e892a-bfe8-4b2b-b22a-540121870e13",
   "metadata": {},
   "outputs": [
    {
     "data": {
      "text/plain": [
       "{0: 0.909,\n",
       " 1: 0.9112500000000001,\n",
       " 2: 0.915,\n",
       " 3: 0.9164999999999999,\n",
       " 4: 0.9176249999999999,\n",
       " 5: 0.9190000000000002,\n",
       " 6: 0.91975,\n",
       " 7: 0.9200000000000002,\n",
       " 8: 0.9212499999999999,\n",
       " 9: 0.9205,\n",
       " 10: 0.91975,\n",
       " 11: 0.9203749999999999,\n",
       " 12: 0.9217500000000001,\n",
       " 13: 0.9215,\n",
       " 14: 0.9233750000000001,\n",
       " 15: 0.92325,\n",
       " 16: 0.9231250000000001,\n",
       " 17: 0.924,\n",
       " 18: 0.924,\n",
       " 19: 0.92425,\n",
       " 20: 0.9243749999999998,\n",
       " 21: 0.9247500000000001,\n",
       " 22: 0.9253750000000001,\n",
       " 23: 0.925,\n",
       " 24: 0.9256249999999999,\n",
       " 25: 0.9250000000000002,\n",
       " 26: 0.9248750000000001,\n",
       " 27: 0.9257499999999999,\n",
       " 28: 0.926375,\n",
       " 29: 0.9251249999999999,\n",
       " 30: 0.9255000000000001,\n",
       " 31: 0.9245000000000001,\n",
       " 32: 0.9257500000000001,\n",
       " 33: 0.926375,\n",
       " 34: 0.926375,\n",
       " 35: 0.9261250000000001,\n",
       " 36: 0.9259999999999999,\n",
       " 37: 0.9253750000000001,\n",
       " 38: 0.9262500000000001,\n",
       " 39: 0.92675,\n",
       " 40: 0.9259999999999999,\n",
       " 41: 0.9265000000000001,\n",
       " 42: 0.9265000000000001,\n",
       " 43: 0.925,\n",
       " 44: 0.9253750000000001,\n",
       " 45: 0.9255000000000001,\n",
       " 46: 0.9259999999999999,\n",
       " 47: 0.9261250000000001}"
      ]
     },
     "execution_count": 346,
     "metadata": {},
     "output_type": "execute_result"
    }
   ],
   "source": [
    "dicts"
   ]
  },
  {
   "cell_type": "code",
   "execution_count": 337,
   "id": "945adf11-d352-4f39-90e1-3cab868ae1ca",
   "metadata": {},
   "outputs": [
    {
     "data": {
      "image/png": "[encoded data removed]",
      "text/plain": [
       "<Figure size 432x288 with 1 Axes>"
      ]
     },
     "metadata": {
      "needs_background": "light"
     },
     "output_type": "display_data"
    }
   ],
   "source": [
    "plt.figure(figsize=(6,4))\n",
    "plt.plot(avg.keys(),avg.values())\n",
    "plt.ylim(0.90,0.933)\n",
    "plt.xlim(2, 51)\n",
    "\n",
    "plt.show()"
   ]
  },
  {
   "cell_type": "code",
   "execution_count": null,
   "id": "bce6aabf-7134-4062-9da6-ff6477e51218",
   "metadata": {},
   "outputs": [],
   "source": []
  }
 ],
 "metadata": {
  "kernelspec": {
   "display_name": "myml",
   "language": "python",
   "name": "myml"
  },
  "language_info": {
   "codemirror_mode": {
    "name": "ipython",
    "version": 3
   },
   "file_extension": ".py",
   "mimetype": "text/x-python",
   "name": "python",
   "nbconvert_exporter": "python",
   "pygments_lexer": "ipython3",
   "version": "3.8.0"
  }
 },
 "nbformat": 4,
 "nbformat_minor": 5
}
