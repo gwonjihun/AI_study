{
 "cells": [
  {
   "cell_type": "markdown",
   "id": "b17a4f71-94d0-44f5-9343-d40a56dc4f73",
   "metadata": {},
   "source": [
    "# 인공지능 개론\n",
    "--------------------------\n",
    "## 머신러닝의 정의\n",
    "> 과거 현상의 입력과 출력을 통해서 함수를 찾아가는 과정\n",
    ">> 사용할 수 있는 경우\n",
    ">> * 데이터를 구할 수 있어야 한다.\n",
    ">> * 데이터에 우리가 관심을 가지는 규칙이 있다고 판단될 때\n",
    ">>* 기존의 명시적인 프로그래밍 방법으로는 해결 방법이 없는 복잡한 문제\n",
    "\n"
   ]
  },
  {
   "cell_type": "markdown",
   "id": "a126ff96-19a0-4d67-ac5e-b418f7718c94",
   "metadata": {},
   "source": [
    "## 데이터 형식\n",
    "> * 정형 데이터 : 표 형식으로 저장된 파일들 ex) DB, CSV등\n",
    "> * 반정형 데이터 : XML, HTML 등\n",
    "> * 비정형 데이터 : 이미지, 동영상, 음성, 텍스트(SNS 등)"
   ]
  },
  {
   "cell_type": "markdown",
   "id": "9a4ae204-ee40-4fd6-a86e-220b2ab09479",
   "metadata": {},
   "source": [
    "## 학습의 종류\n",
    "> * 지도 학습\n",
    ">    * 학습 알고리즘에 주입되는 훈련 데이터에 타깃값(레이블)이라는 원하는 답이 포함되어 있는경우\n",
    ">    * 데이터 라벨링의 소요 시간이 많이 소모된다\n",
    ">    * 지도학습의 대표적인 경우 : 분류, 회귀\n",
    "        * Y변수가 연속일 때 : 회귀\n",
    "        * Y변수가 범주형 일때 : 분류\n",
    "> * 비지도 학습\n",
    ">    * 훈련 데이터에 타깃값이 없는 학습 방법\n",
    ">    * 사례 기반 학습 : 인스턴스 값을 기준으로 예측하는 방식 ( EX: KNN Clustering기법)\n",
    ">    * 모델 기반 학습 : 기존 데이터들의 모델을 만들어서 예측한다. \n",
    "\n",
    "## 좋은 모델이란?\n",
    "> - 현재의 데이터를 잘 예측할 때. (학습 과정에서)\n",
    "> - 새로운 데이터가 들어왔을 때에도 잘 예측 -> 일반화"
   ]
  },
  {
   "cell_type": "markdown",
   "id": "60d08d44-22bf-4f23-bc30-f071bacee759",
   "metadata": {},
   "source": [
    "## 교차검증 (Cross-Validation)\n",
    "> * 가장 적합한 모델을 선택하기 위한 방법으로 사용한다.\n",
    "> * 학습 세트를 여러 서브셋으로 나누고, 모델을 각 서브셋의 조합으로 훈련시키고, 검증한다.\n",
    "> * 학습이 끝나면 선택된 모델을 전체 학습 세트로 학습시킨다.\n",
    "> ![img](https://cdn-images-1.medium.com/max/1600/1*rgba1BIOUys7wQcXcL4U5A.png)\n",
    "> * validate Data : 학습중인 모델의 성능평가  < - > Test Data : 학습된 모델의 성능 평가 "
   ]
  },
  {
   "cell_type": "markdown",
   "id": "7b1b340d-653f-4813-8ada-e8b6c876eae4",
   "metadata": {},
   "source": [
    "## 특성 스케일링 기법\n",
    "> * \n",
    "> * \n",
    "> * "
   ]
  },
  {
   "cell_type": "markdown",
   "id": "8d03ec2c-52c8-4e49-bcd3-09073f7adaac",
   "metadata": {},
   "source": []
  },
  {
   "cell_type": "markdown",
   "id": "51672537-2798-4220-bfd4-7b58c682afe9",
   "metadata": {},
   "source": []
  },
  {
   "cell_type": "markdown",
   "id": "e920a809-85e5-478c-aebb-8a285333d6f7",
   "metadata": {},
   "source": []
  },
  {
   "cell_type": "markdown",
   "id": "1e200f25-5110-4263-b8da-c8398a62dc88",
   "metadata": {},
   "source": []
  },
  {
   "cell_type": "markdown",
   "id": "d90acd31-e71e-4be7-825a-364c746517b9",
   "metadata": {},
   "source": []
  },
  {
   "cell_type": "markdown",
   "id": "cd1f139a-cad7-4f7f-b2a0-50d0b58a40ba",
   "metadata": {},
   "source": []
  },
  {
   "cell_type": "markdown",
   "id": "443e7f1d-8bc2-431b-80cd-ed2a4fe8d5db",
   "metadata": {},
   "source": []
  },
  {
   "cell_type": "markdown",
   "id": "1559f89c-83b8-4a4e-a8ab-6b8cceab2a72",
   "metadata": {},
   "source": []
  },
  {
   "cell_type": "code",
   "execution_count": null,
   "id": "3a266d21-40df-4d9c-934c-51857ab36040",
   "metadata": {},
   "outputs": [],
   "source": []
  }
 ],
 "metadata": {
  "kernelspec": {
   "display_name": "myml",
   "language": "python",
   "name": "myml"
  },
  "language_info": {
   "codemirror_mode": {
    "name": "ipython",
    "version": 3
   },
   "file_extension": ".py",
   "mimetype": "text/x-python",
   "name": "python",
   "nbconvert_exporter": "python",
   "pygments_lexer": "ipython3",
   "version": "3.8.0"
  }
 },
 "nbformat": 4,
 "nbformat_minor": 5
}
