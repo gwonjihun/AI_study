{
 "cells": [
  {
   "cell_type": "code",
   "execution_count": 1,
   "id": "fb8b0178-c7ac-413f-a702-2f7a1222624a",
   "metadata": {},
   "outputs": [
    {
     "name": "stdout",
     "output_type": "stream",
     "text": [
      "500000000500000000\n",
      "소요 시간은  106.1602783203125 초입니다\n"
     ]
    }
   ],
   "source": [
    "import time\n",
    "\n",
    "start=time.time()\n",
    "sum=0\n",
    "for i in range(1,1000000001):\n",
    "    sum=sum+i\n",
    "    \n",
    "end=time.time()\n",
    "\n",
    "print(sum)\n",
    "print('소요 시간은 ',end-start,'초입니다')"
   ]
  },
  {
   "cell_type": "code",
   "execution_count": 5,
   "id": "8475b3b3-44c4-4214-bc01-d4034ce5de6f",
   "metadata": {},
   "outputs": [
    {
     "name": "stdin",
     "output_type": "stream",
     "text": [
      "경기 열린 곳은?  1\n",
      "경기가 열린 시간은?  2\n",
      "상대 팀은?  3\n",
      "손흥민이 몇 골을 넣었나요?  4\n",
      "도움은 몇 개인가요?  5\n",
      "손흥민 팀이 넣은 골 수는?  6\n",
      "상대 팀이 넣은 골 수는?  7\n"
     ]
    },
    {
     "name": "stdout",
     "output_type": "stream",
     "text": [
      "[프리미어 리그 속보(2022-07-20 10:46:02.007366)]\n",
      "손흥민 선수는 1에서2에 열린 경기에 출전하였습니다.상대 팀은 3입니다.손흥민 선수의 팀이6골을 넣어7골을 넣은 상대 팀을 졌습니다.손흥민 선수는 4골에 도움5개로 승리를 크게 이끌었습니다.\n"
     ]
    }
   ],
   "source": [
    "from datetime import datetime\n",
    "\n",
    "place=input(\"경기 열린 곳은? \")\n",
    "time=input(\"경기가 열린 시간은? \")\n",
    "opponent=input(\"상대 팀은? \")\n",
    "goals=input(\"손흥민이 몇 골을 넣었나요? \")\n",
    "aids=input(\"도움은 몇 개인가요? \")\n",
    "score_me=input(\"손흥민 팀이 넣은 골 수는? \")\n",
    "score_you=input(\"상대 팀이 넣은 골 수는? \")\n",
    "\n",
    "news=\"[프리미어 리그 속보(\"+str(datetime.now())+\")]\\n\"\n",
    "news = news +\"손흥민 선수는 \"+place +\"에서\"+time+\"에 열린 경기에 출전하였습니다.\"\n",
    "news = news+\"상대 팀은 \" + opponent+\"입니다.\"\n",
    "\n",
    "if score_me>score_you:\n",
    "    news=news+\"손흥민 선수의 팀이\"+score_me+\"골을 넣어\"+score_you+\"골을 넣은 상대 팀을 이겼습니다.\"\n",
    "elif score_me<score_you:\n",
    "    news=news+\"손흥민 선수의 팀이\"+score_me+\"골을 넣어\"+score_you+\"골을 넣은 상대 팀을 졌습니다.\"\n",
    "else:\n",
    "    news=news+\"손흥민 선수의 팀이\"+score_me+\"골을 넣어\"+score_you+\"골을 넣은 상대 팀을 졌습니다.\"\n",
    "    \n",
    "if int(goals)>0 and int(aids)>0:\n",
    "    news = news+\"손흥민 선수는 \"+ goals+\"골에 도움\"+aids+\"개로 승리를 크게 이끌었습니다.\"\n",
    "elif int(goals)>0 and int(aids)==0:\n",
    "    news = news+\"손흥민 선수는 \"+ goals+\"골로 승리를 크게 이끌었습니다.\"\n",
    "elif int(goals)==0 and int(aids)>0:\n",
    "    news=news+\"손흥민 선수는 골은 없지만 도움 \" +aids+\"개로 승리하는 데 공헌하였습니다. \"\n",
    "else:\n",
    "    news= news+\"아쉽게도 이번 경기에서 손흥민의 발끝은 침묵을 지켰습니다.\"\n",
    "\n",
    "print(news)"
   ]
  },
  {
   "cell_type": "code",
   "execution_count": 6,
   "id": "6d990fa7-cd8d-4005-8a4b-5557758eaae5",
   "metadata": {},
   "outputs": [
    {
     "name": "stdout",
     "output_type": "stream",
     "text": [
      "Collecting gtts\n",
      "  Downloading gTTS-2.2.4-py3-none-any.whl (26 kB)\n",
      "Collecting playsound\n",
      "  Downloading playsound-1.3.0.tar.gz (7.7 kB)\n",
      "  Preparing metadata (setup.py): started\n",
      "  Preparing metadata (setup.py): finished with status 'done'\n",
      "Collecting requests\n",
      "  Using cached requests-2.28.1-py3-none-any.whl (62 kB)\n",
      "Collecting click\n",
      "  Using cached click-8.1.3-py3-none-any.whl (96 kB)\n",
      "Requirement already satisfied: six in c:\\users\\027\\anaconda3\\envs\\myml\\lib\\site-packages (from gtts) (1.16.0)\n",
      "Requirement already satisfied: colorama in c:\\users\\027\\anaconda3\\envs\\myml\\lib\\site-packages (from click->gtts) (0.4.5)\n",
      "Collecting idna<4,>=2.5\n",
      "  Using cached idna-3.3-py3-none-any.whl (61 kB)\n",
      "Collecting urllib3<1.27,>=1.21.1\n",
      "  Using cached urllib3-1.26.10-py2.py3-none-any.whl (139 kB)\n",
      "Requirement already satisfied: certifi>=2017.4.17 in c:\\users\\027\\anaconda3\\envs\\myml\\lib\\site-packages (from requests->gtts) (2022.6.15)\n",
      "Collecting charset-normalizer<3,>=2\n",
      "  Using cached charset_normalizer-2.1.0-py3-none-any.whl (39 kB)\n",
      "Building wheels for collected packages: playsound\n",
      "  Building wheel for playsound (setup.py): started\n",
      "  Building wheel for playsound (setup.py): finished with status 'done'\n",
      "  Created wheel for playsound: filename=playsound-1.3.0-py3-none-any.whl size=7035 sha256=cc9a191c91807f78791afb060a2af194bede93edb8b45a903a45445488ecd0d7\n",
      "  Stored in directory: c:\\users\\027\\appdata\\local\\pip\\cache\\wheels\\73\\cd\\cf\\9750b618d54bd81c20e4c34fb24a423a5b095920367cdb3f71\n",
      "Successfully built playsound\n",
      "Installing collected packages: playsound, urllib3, idna, click, charset-normalizer, requests, gtts\n",
      "Successfully installed charset-normalizer-2.1.0 click-8.1.3 gtts-2.2.4 idna-3.3 playsound-1.3.0 requests-2.28.1 urllib3-1.26.10\n"
     ]
    }
   ],
   "source": [
    "!pip install gtts playsound"
   ]
  },
  {
   "cell_type": "code",
   "execution_count": 7,
   "id": "abee9dc6-dddb-4acb-bc81-58b2b262ea59",
   "metadata": {},
   "outputs": [],
   "source": [
    "from gtts import gTTS\n",
    "import playsound"
   ]
  },
  {
   "cell_type": "code",
   "execution_count": 9,
   "id": "d4ae4f4a-761b-4001-80a4-01ec26838f67",
   "metadata": {},
   "outputs": [
    {
     "name": "stderr",
     "output_type": "stream",
     "text": [
      "\n",
      "KeyboardInterrupt\n",
      "\n"
     ]
    }
   ],
   "source": [
    "tts=gTTS(text=news,lang='ko')\n",
    "tts.save(\"news_Son.mp3\")\n",
    "playsound.playsound(\"news_Son.mp3\",True)"
   ]
  },
  {
   "cell_type": "code",
   "execution_count": 10,
   "id": "7e70b753-3107-4943-b66a-0bd74b7c764a",
   "metadata": {},
   "outputs": [
    {
     "name": "stdout",
     "output_type": "stream",
     "text": [
      "Collecting tensorflow-gpu\n",
      "  Downloading tensorflow_gpu-2.9.1-cp38-cp38-win_amd64.whl (444.1 MB)\n",
      "     -------------------------------------- 444.1/444.1 MB 5.5 MB/s eta 0:00:00\n",
      "Collecting termcolor>=1.1.0\n",
      "  Using cached termcolor-1.1.0.tar.gz (3.9 kB)\n",
      "  Preparing metadata (setup.py): started\n",
      "  Preparing metadata (setup.py): finished with status 'done'\n",
      "Collecting grpcio<2.0,>=1.24.3\n",
      "  Downloading grpcio-1.47.0-cp38-cp38-win_amd64.whl (3.6 MB)\n",
      "     ---------------------------------------- 3.6/3.6 MB 19.0 MB/s eta 0:00:00\n",
      "Collecting absl-py>=1.0.0\n",
      "  Downloading absl_py-1.2.0-py3-none-any.whl (123 kB)\n",
      "     -------------------------------------- 123.4/123.4 kB 7.5 MB/s eta 0:00:00\n",
      "Collecting gast<=0.4.0,>=0.2.1\n",
      "  Using cached gast-0.4.0-py3-none-any.whl (9.8 kB)\n",
      "Collecting h5py>=2.9.0\n",
      "  Downloading h5py-3.7.0-cp38-cp38-win_amd64.whl (2.6 MB)\n",
      "     ---------------------------------------- 2.6/2.6 MB 18.8 MB/s eta 0:00:00\n",
      "Collecting astunparse>=1.6.0\n",
      "  Using cached astunparse-1.6.3-py2.py3-none-any.whl (12 kB)\n",
      "Collecting keras<2.10.0,>=2.9.0rc0\n",
      "  Using cached keras-2.9.0-py2.py3-none-any.whl (1.6 MB)\n",
      "Collecting tensorboard<2.10,>=2.9\n",
      "  Using cached tensorboard-2.9.1-py3-none-any.whl (5.8 MB)\n",
      "Requirement already satisfied: setuptools in c:\\users\\027\\anaconda3\\envs\\myml\\lib\\site-packages (from tensorflow-gpu) (61.2.0)\n",
      "Collecting flatbuffers<2,>=1.12\n",
      "  Using cached flatbuffers-1.12-py2.py3-none-any.whl (15 kB)\n",
      "Collecting tensorflow-estimator<2.10.0,>=2.9.0rc0\n",
      "  Using cached tensorflow_estimator-2.9.0-py2.py3-none-any.whl (438 kB)\n",
      "Collecting tensorflow-io-gcs-filesystem>=0.23.1\n",
      "  Downloading tensorflow_io_gcs_filesystem-0.26.0-cp38-cp38-win_amd64.whl (1.5 MB)\n",
      "     ---------------------------------------- 1.5/1.5 MB 18.4 MB/s eta 0:00:00\n",
      "Collecting libclang>=13.0.0\n",
      "  Using cached libclang-14.0.1-py2.py3-none-win_amd64.whl (14.2 MB)\n",
      "Collecting typing-extensions>=3.6.6\n",
      "  Using cached typing_extensions-4.3.0-py3-none-any.whl (25 kB)\n",
      "Collecting keras-preprocessing>=1.1.1\n",
      "  Using cached Keras_Preprocessing-1.1.2-py2.py3-none-any.whl (42 kB)\n",
      "Collecting opt-einsum>=2.3.2\n",
      "  Using cached opt_einsum-3.3.0-py3-none-any.whl (65 kB)\n",
      "Requirement already satisfied: numpy>=1.20 in c:\\users\\027\\anaconda3\\envs\\myml\\lib\\site-packages (from tensorflow-gpu) (1.23.1)\n",
      "Requirement already satisfied: six>=1.12.0 in c:\\users\\027\\anaconda3\\envs\\myml\\lib\\site-packages (from tensorflow-gpu) (1.16.0)\n",
      "Collecting wrapt>=1.11.0\n",
      "  Downloading wrapt-1.14.1-cp38-cp38-win_amd64.whl (35 kB)\n",
      "Collecting google-pasta>=0.1.1\n",
      "  Using cached google_pasta-0.2.0-py3-none-any.whl (57 kB)\n",
      "Requirement already satisfied: packaging in c:\\users\\027\\anaconda3\\envs\\myml\\lib\\site-packages (from tensorflow-gpu) (21.3)\n",
      "Collecting protobuf<3.20,>=3.9.2\n",
      "  Downloading protobuf-3.19.4-cp38-cp38-win_amd64.whl (895 kB)\n",
      "     ------------------------------------- 895.9/895.9 kB 18.8 MB/s eta 0:00:00\n",
      "Requirement already satisfied: wheel<1.0,>=0.23.0 in c:\\users\\027\\anaconda3\\envs\\myml\\lib\\site-packages (from astunparse>=1.6.0->tensorflow-gpu) (0.37.1)\n",
      "Collecting google-auth-oauthlib<0.5,>=0.4.1\n",
      "  Using cached google_auth_oauthlib-0.4.6-py2.py3-none-any.whl (18 kB)\n",
      "Collecting markdown>=2.6.8\n",
      "  Downloading Markdown-3.4.1-py3-none-any.whl (93 kB)\n",
      "     ---------------------------------------- 93.3/93.3 kB 5.2 MB/s eta 0:00:00\n",
      "Collecting google-auth<3,>=1.6.3\n",
      "  Downloading google_auth-2.9.1-py2.py3-none-any.whl (167 kB)\n",
      "     ------------------------------------- 167.8/167.8 kB 10.5 MB/s eta 0:00:00\n",
      "Collecting werkzeug>=1.0.1\n",
      "  Using cached Werkzeug-2.1.2-py3-none-any.whl (224 kB)\n",
      "Requirement already satisfied: requests<3,>=2.21.0 in c:\\users\\027\\anaconda3\\envs\\myml\\lib\\site-packages (from tensorboard<2.10,>=2.9->tensorflow-gpu) (2.28.1)\n",
      "Collecting tensorboard-plugin-wit>=1.6.0\n",
      "  Using cached tensorboard_plugin_wit-1.8.1-py3-none-any.whl (781 kB)\n",
      "Collecting tensorboard-data-server<0.7.0,>=0.6.0\n",
      "  Using cached tensorboard_data_server-0.6.1-py3-none-any.whl (2.4 kB)\n",
      "Requirement already satisfied: pyparsing!=3.0.5,>=2.0.2 in c:\\users\\027\\anaconda3\\envs\\myml\\lib\\site-packages (from packaging->tensorflow-gpu) (3.0.9)\n",
      "Collecting pyasn1-modules>=0.2.1\n",
      "  Using cached pyasn1_modules-0.2.8-py2.py3-none-any.whl (155 kB)\n",
      "Collecting cachetools<6.0,>=2.0.0\n",
      "  Using cached cachetools-5.2.0-py3-none-any.whl (9.3 kB)\n",
      "Collecting rsa<5,>=3.1.4\n",
      "  Using cached rsa-4.8-py3-none-any.whl (39 kB)\n",
      "Collecting requests-oauthlib>=0.7.0\n",
      "  Using cached requests_oauthlib-1.3.1-py2.py3-none-any.whl (23 kB)\n",
      "Collecting importlib-metadata>=4.4\n",
      "  Using cached importlib_metadata-4.12.0-py3-none-any.whl (21 kB)\n",
      "Requirement already satisfied: urllib3<1.27,>=1.21.1 in c:\\users\\027\\anaconda3\\envs\\myml\\lib\\site-packages (from requests<3,>=2.21.0->tensorboard<2.10,>=2.9->tensorflow-gpu) (1.26.10)\n",
      "Requirement already satisfied: idna<4,>=2.5 in c:\\users\\027\\anaconda3\\envs\\myml\\lib\\site-packages (from requests<3,>=2.21.0->tensorboard<2.10,>=2.9->tensorflow-gpu) (3.3)\n",
      "Requirement already satisfied: certifi>=2017.4.17 in c:\\users\\027\\anaconda3\\envs\\myml\\lib\\site-packages (from requests<3,>=2.21.0->tensorboard<2.10,>=2.9->tensorflow-gpu) (2022.6.15)\n",
      "Requirement already satisfied: charset-normalizer<3,>=2 in c:\\users\\027\\anaconda3\\envs\\myml\\lib\\site-packages (from requests<3,>=2.21.0->tensorboard<2.10,>=2.9->tensorflow-gpu) (2.1.0)\n",
      "Requirement already satisfied: zipp>=0.5 in c:\\users\\027\\anaconda3\\envs\\myml\\lib\\site-packages (from importlib-metadata>=4.4->markdown>=2.6.8->tensorboard<2.10,>=2.9->tensorflow-gpu) (3.8.1)\n",
      "Collecting pyasn1<0.5.0,>=0.4.6\n",
      "  Using cached pyasn1-0.4.8-py2.py3-none-any.whl (77 kB)\n",
      "Collecting oauthlib>=3.0.0\n",
      "  Using cached oauthlib-3.2.0-py3-none-any.whl (151 kB)\n",
      "Building wheels for collected packages: termcolor\n",
      "  Building wheel for termcolor (setup.py): started\n",
      "  Building wheel for termcolor (setup.py): finished with status 'done'\n",
      "  Created wheel for termcolor: filename=termcolor-1.1.0-py3-none-any.whl size=4848 sha256=7226dd496bd912fdfa1cdea683c1d727ae3c49b5250065e4c6ee9a96aa45d58c\n",
      "  Stored in directory: c:\\users\\027\\appdata\\local\\pip\\cache\\wheels\\a0\\16\\9c\\5473df82468f958445479c59e784896fa24f4a5fc024b0f501\n",
      "Successfully built termcolor\n",
      "Installing collected packages: termcolor, tensorboard-plugin-wit, pyasn1, libclang, keras, flatbuffers, wrapt, werkzeug, typing-extensions, tensorflow-io-gcs-filesystem, tensorflow-estimator, tensorboard-data-server, rsa, pyasn1-modules, protobuf, opt-einsum, oauthlib, keras-preprocessing, importlib-metadata, h5py, grpcio, google-pasta, gast, cachetools, astunparse, absl-py, requests-oauthlib, markdown, google-auth, google-auth-oauthlib, tensorboard, tensorflow-gpu\n",
      "Successfully installed absl-py-1.2.0 astunparse-1.6.3 cachetools-5.2.0 flatbuffers-1.12 gast-0.4.0 google-auth-2.9.1 google-auth-oauthlib-0.4.6 google-pasta-0.2.0 grpcio-1.47.0 h5py-3.7.0 importlib-metadata-4.12.0 keras-2.9.0 keras-preprocessing-1.1.2 libclang-14.0.1 markdown-3.4.1 oauthlib-3.2.0 opt-einsum-3.3.0 protobuf-3.19.4 pyasn1-0.4.8 pyasn1-modules-0.2.8 requests-oauthlib-1.3.1 rsa-4.8 tensorboard-2.9.1 tensorboard-data-server-0.6.1 tensorboard-plugin-wit-1.8.1 tensorflow-estimator-2.9.0 tensorflow-gpu-2.9.1 tensorflow-io-gcs-filesystem-0.26.0 termcolor-1.1.0 typing-extensions-4.3.0 werkzeug-2.1.2 wrapt-1.14.1\n"
     ]
    }
   ],
   "source": [
    "!pip install tensorflow-gpu"
   ]
  },
  {
   "cell_type": "code",
   "execution_count": 1,
   "id": "93996a31-f3f8-42d3-835e-b53b52bf6bbd",
   "metadata": {},
   "outputs": [
    {
     "name": "stdout",
     "output_type": "stream",
     "text": [
      "[name: \"/device:CPU:0\"\n",
      "device_type: \"CPU\"\n",
      "memory_limit: 268435456\n",
      "locality {\n",
      "}\n",
      "incarnation: 16482210375881858374\n",
      "xla_global_id: -1\n",
      ", name: \"/device:GPU:0\"\n",
      "device_type: \"GPU\"\n",
      "memory_limit: 2251712103\n",
      "locality {\n",
      "  bus_id: 1\n",
      "  links {\n",
      "  }\n",
      "}\n",
      "incarnation: 14532072379000172217\n",
      "physical_device_desc: \"device: 0, name: NVIDIA GeForce GTX 1650 Ti, pci bus id: 0000:01:00.0, compute capability: 7.5\"\n",
      "xla_global_id: 416903419\n",
      "]\n"
     ]
    }
   ],
   "source": [
    "from tensorflow.python.client import device_lib\n",
    "\n",
    "print(device_lib.list_local_devices())"
   ]
  },
  {
   "cell_type": "code",
   "execution_count": 2,
   "id": "558faf34-6f94-4e52-8d66-2e573999ff64",
   "metadata": {},
   "outputs": [],
   "source": [
    "from datetime import datetime\n"
   ]
  },
  {
   "cell_type": "code",
   "execution_count": 4,
   "id": "9bea3824-3615-4535-9f91-a46272ed871a",
   "metadata": {},
   "outputs": [],
   "source": [
    "\n",
    "a =datetime.now()"
   ]
  },
  {
   "cell_type": "code",
   "execution_count": 5,
   "id": "41c6ed5c-c6ca-4882-8eba-d9a057ffaf5c",
   "metadata": {},
   "outputs": [
    {
     "data": {
      "text/plain": [
       "datetime.datetime(2022, 7, 20, 11, 40, 10, 380061)"
      ]
     },
     "execution_count": 5,
     "metadata": {},
     "output_type": "execute_result"
    }
   ],
   "source": [
    "a"
   ]
  },
  {
   "cell_type": "code",
   "execution_count": 16,
   "id": "656b2bd2-f7b0-453d-bb26-93484e0707df",
   "metadata": {},
   "outputs": [
    {
     "name": "stdout",
     "output_type": "stream",
     "text": [
      "2022-07-20 11:45:02.481565\n",
      "2022-7-20\n"
     ]
    }
   ],
   "source": [
    "from datetime import datetime\n",
    "\n",
    "a = datetime.now()\n",
    "print(datetime.today())\n",
    "print(f'{a.year}-{a.month}-{a.day}')"
   ]
  },
  {
   "cell_type": "code",
   "execution_count": 17,
   "id": "7db217b6-77b7-4bae-a644-efe204aaf950",
   "metadata": {},
   "outputs": [
    {
     "name": "stdout",
     "output_type": "stream",
     "text": [
      "2022-07-20\n"
     ]
    }
   ],
   "source": [
    "from datetime import datetime\n",
    "print(str(a)[:10])"
   ]
  },
  {
   "cell_type": "code",
   "execution_count": 19,
   "id": "ca9ffc76-1fd3-42f6-8b9c-4aee10b17c1f",
   "metadata": {},
   "outputs": [],
   "source": [
    "import matplotlib.pyplot as plt"
   ]
  },
  {
   "cell_type": "code",
   "execution_count": 21,
   "id": "da6b7263-668a-4147-9d76-8620c4a62f4b",
   "metadata": {},
   "outputs": [
    {
     "data": {
      "image/png": "[encoded data removed]",
      "text/plain": [
       "<Figure size 432x288 with 1 Axes>"
      ]
     },
     "metadata": {
      "needs_background": "light"
     },
     "output_type": "display_data"
    },
    {
     "data": {
      "text/plain": [
       "<Figure size 432x288 with 0 Axes>"
      ]
     },
     "metadata": {},
     "output_type": "display_data"
    }
   ],
   "source": [
    "x = range(0,4)\n",
    "y =range(0,4)\n",
    "\n",
    "plt.plot(x,y)\n",
    "plt.title(\"My Plot\")\n",
    "plt.xlabel(\"X\")\n",
    "plt.ylabel(\"Y\")\n",
    "plt.show()\n",
    "plt.savefig('test.png')"
   ]
  },
  {
   "cell_type": "code",
   "execution_count": 22,
   "id": "e3a23cef-47ec-4a74-b704-a050e572d93d",
   "metadata": {},
   "outputs": [],
   "source": [
    "import numpy as np"
   ]
  },
  {
   "cell_type": "code",
   "execution_count": null,
   "id": "d1836993-1898-4d16-9d35-1f6320c23881",
   "metadata": {},
   "outputs": [],
   "source": [
    "x = np.linspace(0,np.pi*10, 900)\n"
   ]
  },
  {
   "cell_type": "code",
   "execution_count": 38,
   "id": "1629f7f2-a289-40ec-af42-c3e9ff0a97dc",
   "metadata": {},
   "outputs": [
    {
     "data": {
      "image/png": "[encoded data removed]",
      "text/plain": [
       "<Figure size 432x288 with 2 Axes>"
      ]
     },
     "metadata": {
      "needs_background": "light"
     },
     "output_type": "display_data"
    }
   ],
   "source": [
    "fig, axes = plt.subplots(2,1)\n",
    "axes[0].plot(x, y1)\n",
    "axes[1].plot(x, y2)\n",
    "plt.show()"
   ]
  },
  {
   "cell_type": "code",
   "execution_count": 40,
   "id": "f8892f01-c2b0-4cdd-b73a-86319ff58c4a",
   "metadata": {},
   "outputs": [
    {
     "data": {
      "text/plain": [
       "<function matplotlib.pyplot.show(close=None, block=None)>"
      ]
     },
     "execution_count": 40,
     "metadata": {},
     "output_type": "execute_result"
    },
    {
     "data": {
      "image/png": "[encoded data removed]",
      "text/plain": [
       "<Figure size 432x288 with 1 Axes>"
      ]
     },
     "metadata": {
      "needs_background": "light"
     },
     "output_type": "display_data"
    }
   ],
   "source": [
    "x = np.arange(-9,10)\n",
    "y1 = x**2\n",
    "y2 = -x\n",
    "\n",
    "plt.plot(x,y1,linestyle='-',marker='*', color = 'r' ,label = \"y=x**2\")\n",
    "plt.plot(x,y2,linestyle=':',marker='o', color = 'b' ,label = \"y=x**2\")\n",
    "plt.xlabel(\"x\")\n",
    "plt.ylabel(\"Y\")\n",
    "plt.legend(shadow=True, borderpad=1),\n",
    "plt.show"
   ]
  },
  {
   "cell_type": "code",
   "execution_count": 41,
   "id": "07247622-2a2d-4018-b7f3-6e3a7a944353",
   "metadata": {},
   "outputs": [
    {
     "data": {
      "image/png": "[encoded data removed]",
      "text/plain": [
       "<Figure size 432x288 with 1 Axes>"
      ]
     },
     "metadata": {
      "needs_background": "light"
     },
     "output_type": "display_data"
    }
   ],
   "source": [
    "plt.bar(x,x**2)\n",
    "plt.show()"
   ]
  },
  {
   "cell_type": "code",
   "execution_count": 47,
   "id": "bb0ec76f-32b7-4d23-96d4-021f495e38a4",
   "metadata": {},
   "outputs": [
    {
     "name": "stdout",
     "output_type": "stream",
     "text": [
      "[0 1 2 3 4 5 6 7 8 9]\n",
      "[array([0.7441351 , 0.49048668, 0.78330912, 0.51387443, 0.68143027,\n",
      "       0.50093611, 0.56820679, 0.98162129, 0.1273434 , 0.74633166]), array([0.79160075, 0.90458835, 0.79259873, 0.3734884 , 0.05453694,\n",
      "       0.47450795, 0.90867142, 0.97846691, 0.26620085, 0.01239373]), array([0.10379353, 0.70692172, 0.34233976, 0.69086775, 0.86071676,\n",
      "       0.40072986, 0.21072258, 0.98822202, 0.63040222, 0.93028629])]\n"
     ]
    },
    {
     "data": {
      "image/png": "[encoded data removed]",
      "text/plain": [
       "<Figure size 432x288 with 1 Axes>"
      ]
     },
     "metadata": {
      "needs_background": "light"
     },
     "output_type": "display_data"
    }
   ],
   "source": [
    "x = np.random.rand(10)\n",
    "y = np.random.rand(10)\n",
    "z = np.random.rand(10)\n",
    "\n",
    "data = [x,y,z]\n",
    "x_array = np.arange(10)\n",
    "print(x_array)\n",
    "print(data)\n",
    "for i in range(0,3):\n",
    "    plt.bar(\n",
    "        x_array,\n",
    "        data[i],\n",
    "        bottom=np.sum(data[:i], axis=0),label= i)\n",
    "plt.legend()\n",
    "plt.show()"
   ]
  },
  {
   "cell_type": "code",
   "execution_count": 58,
   "id": "61abbc2e-cc81-4604-85d8-1f3fc6493ca6",
   "metadata": {},
   "outputs": [],
   "source": [
    "arr = np.ones([5,5])"
   ]
  },
  {
   "cell_type": "code",
   "execution_count": 59,
   "id": "9b8bcd63-1ff1-4d1d-b55a-a4dbe1ffb7a2",
   "metadata": {},
   "outputs": [
    {
     "data": {
      "text/plain": [
       "array([[1., 1., 1., 1., 1.],\n",
       "       [1., 1., 1., 1., 1.],\n",
       "       [1., 1., 1., 1., 1.],\n",
       "       [1., 1., 1., 1., 1.],\n",
       "       [1., 1., 1., 1., 1.]])"
      ]
     },
     "execution_count": 59,
     "metadata": {},
     "output_type": "execute_result"
    }
   ],
   "source": [
    "arr"
   ]
  },
  {
   "cell_type": "code",
   "execution_count": 60,
   "id": "1b4a0dad-c2bf-4a33-9445-063bc3399ad6",
   "metadata": {},
   "outputs": [
    {
     "data": {
      "text/plain": [
       "(5, 5)"
      ]
     },
     "execution_count": 60,
     "metadata": {},
     "output_type": "execute_result"
    }
   ],
   "source": [
    "arr.shape"
   ]
  },
  {
   "cell_type": "code",
   "execution_count": 61,
   "id": "06f17d15-0378-4598-b22a-726999289eef",
   "metadata": {},
   "outputs": [],
   "source": [
    "for i in range(1,4):\n",
    "    for j in range(1,4):\n",
    "        arr[i][j]=0"
   ]
  },
  {
   "cell_type": "code",
   "execution_count": 62,
   "id": "466ce417-fdc1-47be-b194-ff3b8fc851e8",
   "metadata": {},
   "outputs": [
    {
     "data": {
      "text/plain": [
       "array([[1., 1., 1., 1., 1.],\n",
       "       [1., 0., 0., 0., 1.],\n",
       "       [1., 0., 0., 0., 1.],\n",
       "       [1., 0., 0., 0., 1.],\n",
       "       [1., 1., 1., 1., 1.]])"
      ]
     },
     "execution_count": 62,
     "metadata": {},
     "output_type": "execute_result"
    }
   ],
   "source": [
    "arr"
   ]
  },
  {
   "cell_type": "code",
   "execution_count": 65,
   "id": "47dc33bc-63f9-4a35-9793-5f45ce81db91",
   "metadata": {},
   "outputs": [],
   "source": [
    "arr = np.array([3,6,5,9,3,0,2,5,7,5])"
   ]
  },
  {
   "cell_type": "code",
   "execution_count": 67,
   "id": "928c4e7e-0430-4bc9-9db9-6ba716167b52",
   "metadata": {},
   "outputs": [
    {
     "data": {
      "text/plain": [
       "(10,)"
      ]
     },
     "execution_count": 67,
     "metadata": {},
     "output_type": "execute_result"
    }
   ],
   "source": [
    "arr.shape"
   ]
  },
  {
   "cell_type": "code",
   "execution_count": 69,
   "id": "df514b2e-b801-438b-b96a-0afd6d88e3fb",
   "metadata": {},
   "outputs": [
    {
     "name": "stdin",
     "output_type": "stream",
     "text": [
      " 0\n"
     ]
    },
    {
     "data": {
      "text/plain": [
       "5"
      ]
     },
     "execution_count": 69,
     "metadata": {},
     "output_type": "execute_result"
    }
   ],
   "source": [
    "arr.argmin(int(input()))"
   ]
  },
  {
   "cell_type": "code",
   "execution_count": null,
   "id": "3178f91e-0bde-4ac0-98fc-b176628ee4af",
   "metadata": {},
   "outputs": [],
   "source": []
  }
 ],
 "metadata": {
  "kernelspec": {
   "display_name": "myml",
   "language": "python",
   "name": "myml"
  },
  "language_info": {
   "codemirror_mode": {
    "name": "ipython",
    "version": 3
   },
   "file_extension": ".py",
   "mimetype": "text/x-python",
   "name": "python",
   "nbconvert_exporter": "python",
   "pygments_lexer": "ipython3",
   "version": "3.8.0"
  }
 },
 "nbformat": 4,
 "nbformat_minor": 5
}
