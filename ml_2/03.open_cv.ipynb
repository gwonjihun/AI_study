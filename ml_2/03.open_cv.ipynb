{
 "cells": [
  {
   "cell_type": "code",
   "execution_count": 1,
   "id": "34da5325-8b7a-49bb-9fb3-a5b9af6cb6f8",
   "metadata": {},
   "outputs": [],
   "source": [
    "from sklearn.datasets import load_iris"
   ]
  },
  {
   "cell_type": "code",
   "execution_count": 2,
   "id": "b3dd7e60-fa52-40d2-af33-708fb6312cfa",
   "metadata": {},
   "outputs": [],
   "source": [
    "data = load_iris()"
   ]
  },
  {
   "cell_type": "code",
   "execution_count": 5,
   "id": "06ed2642-5986-4172-b4da-76f31f054c5d",
   "metadata": {},
   "outputs": [
    {
     "name": "stdout",
     "output_type": "stream",
     "text": [
      ".. _iris_dataset:\n",
      "\n",
      "Iris plants dataset\n",
      "--------------------\n",
      "\n",
      "**Data Set Characteristics:**\n",
      "\n",
      "    :Number of Instances: 150 (50 in each of three classes)\n",
      "    :Number of Attributes: 4 numeric, predictive attributes and the class\n",
      "    :Attribute Information:\n",
      "        - sepal length in cm\n",
      "        - sepal width in cm\n",
      "        - petal length in cm\n",
      "        - petal width in cm\n",
      "        - class:\n",
      "                - Iris-Setosa\n",
      "                - Iris-Versicolour\n",
      "                - Iris-Virginica\n",
      "                \n",
      "    :Summary Statistics:\n",
      "\n",
      "    ============== ==== ==== ======= ===== ====================\n",
      "                    Min  Max   Mean    SD   Class Correlation\n",
      "    ============== ==== ==== ======= ===== ====================\n",
      "    sepal length:   4.3  7.9   5.84   0.83    0.7826\n",
      "    sepal width:    2.0  4.4   3.05   0.43   -0.4194\n",
      "    petal length:   1.0  6.9   3.76   1.76    0.9490  (high!)\n",
      "    petal width:    0.1  2.5   1.20   0.76    0.9565  (high!)\n",
      "    ============== ==== ==== ======= ===== ====================\n",
      "\n",
      "    :Missing Attribute Values: None\n",
      "    :Class Distribution: 33.3% for each of 3 classes.\n",
      "    :Creator: R.A. Fisher\n",
      "    :Donor: Michael Marshall (MARSHALL%PLU@io.arc.nasa.gov)\n",
      "    :Date: July, 1988\n",
      "\n",
      "The famous Iris database, first used by Sir R.A. Fisher. The dataset is taken\n",
      "from Fisher's paper. Note that it's the same as in R, but not as in the UCI\n",
      "Machine Learning Repository, which has two wrong data points.\n",
      "\n",
      "This is perhaps the best known database to be found in the\n",
      "pattern recognition literature.  Fisher's paper is a classic in the field and\n",
      "is referenced frequently to this day.  (See Duda & Hart, for example.)  The\n",
      "data set contains 3 classes of 50 instances each, where each class refers to a\n",
      "type of iris plant.  One class is linearly separable from the other 2; the\n",
      "latter are NOT linearly separable from each other.\n",
      "\n",
      ".. topic:: References\n",
      "\n",
      "   - Fisher, R.A. \"The use of multiple measurements in taxonomic problems\"\n",
      "     Annual Eugenics, 7, Part II, 179-188 (1936); also in \"Contributions to\n",
      "     Mathematical Statistics\" (John Wiley, NY, 1950).\n",
      "   - Duda, R.O., & Hart, P.E. (1973) Pattern Classification and Scene Analysis.\n",
      "     (Q327.D83) John Wiley & Sons.  ISBN 0-471-22361-1.  See page 218.\n",
      "   - Dasarathy, B.V. (1980) \"Nosing Around the Neighborhood: A New System\n",
      "     Structure and Classification Rule for Recognition in Partially Exposed\n",
      "     Environments\".  IEEE Transactions on Pattern Analysis and Machine\n",
      "     Intelligence, Vol. PAMI-2, No. 1, 67-71.\n",
      "   - Gates, G.W. (1972) \"The Reduced Nearest Neighbor Rule\".  IEEE Transactions\n",
      "     on Information Theory, May 1972, 431-433.\n",
      "   - See also: 1988 MLC Proceedings, 54-64.  Cheeseman et al\"s AUTOCLASS II\n",
      "     conceptual clustering system finds 3 classes in the data.\n",
      "   - Many, many more ...\n"
     ]
    }
   ],
   "source": [
    "print(data.DESCR)"
   ]
  },
  {
   "cell_type": "code",
   "execution_count": 7,
   "id": "f75d3b68-6767-474f-8811-09b2091e34b1",
   "metadata": {},
   "outputs": [],
   "source": [
    "import cv2\n"
   ]
  },
  {
   "cell_type": "code",
   "execution_count": 8,
   "id": "77fcf4f4-b303-4d70-98f5-97e2c16fd243",
   "metadata": {},
   "outputs": [
    {
     "data": {
      "text/plain": [
       "'C:\\\\workspace\\\\ml_2'"
      ]
     },
     "execution_count": 8,
     "metadata": {},
     "output_type": "execute_result"
    }
   ],
   "source": [
    "import os\n",
    "os.getcwd()"
   ]
  },
  {
   "cell_type": "code",
   "execution_count": 9,
   "id": "819e1c60-e79c-47d5-b90b-f16bec3dcd8a",
   "metadata": {},
   "outputs": [],
   "source": [
    "image = cv2.imread('test.png',cv2.IMREAD_ANYCOLOR)\n",
    "cv2.imshow(\"test\",image)\n",
    "cv2.waitKey()\n",
    "cv2.destroyAllWindows()"
   ]
  },
  {
   "cell_type": "code",
   "execution_count": 11,
   "id": "0e7c7a07-aa02-4cbc-826e-f7108fed5eb1",
   "metadata": {},
   "outputs": [
    {
     "name": "stdout",
     "output_type": "stream",
     "text": [
      "(50, 100, 20, 20)\n",
      "(5000, 400)\n",
      "(5000, 1)\n"
     ]
    }
   ],
   "source": [
    "import cv2\n",
    "import numpy as np\n",
    "import matplotlib.pyplot as plt\n",
    "import glob\n",
    "img = cv2.imread('digits.png')\n",
    "gray = cv2.cvtColor(img, cv2.COLOR_BGR2GRAY)\n",
    "# 세로로 50줄, 가로로 100줄로 사진을 나눕니다.\n",
    "cells = [np.hsplit(row, 100) for row in np.vsplit(gray, 50)]\n",
    "x = np.array(cells)\n",
    "print(x.shape)\n",
    "# 각 (20 X 20) 크기의 사진을 한 줄(1 X 400)으로 바꿉니다.\n",
    "train = x[:, :].reshape(-1, 400).astype(np.float32)\n",
    "print(train.shape)\n",
    "# 0이 500개, 1이 500개, ... 로 총 5,000개가 들어가는 (1 x 5000) 배열을 만듭니다.\n",
    "k = np.arange(10)\n",
    "train_labels = np.repeat(k, 500)[:, np.newaxis]\n",
    "print(train_labels.shape)\n",
    "np.savez(\"trained.npz\", train=train, train_labels=train_labels)"
   ]
  },
  {
   "cell_type": "code",
   "execution_count": 12,
   "id": "5930f2fe-6d5e-4d7e-a1b3-b8de6af743ce",
   "metadata": {},
   "outputs": [],
   "source": [
    "FILE_NAME = 'trained.npz'\n",
    "# 파일로부터 학습 데이터를 불러옵니다.\n",
    "def load_train_data(file_name):\n",
    "    with np.load(file_name) as data:\n",
    "        train = data['train']\n",
    "        train_labels = data['train_labels']\n",
    "        return train, train_labels\n",
    "# 손 글씨 이미지를 (20 x 20) 크기로 Scaling합니다.\n",
    "def resize20(image):\n",
    "    img = cv2.imread(image)\n",
    "    gray = cv2.cvtColor(img, cv2.COLOR_BGR2GRAY)\n",
    "    gray_resize = cv2.resize(gray, (20, 20))\n",
    "    plt.imshow(cv2.cvtColor(gray_resize, cv2.COLOR_GRAY2RGB))\n",
    "    plt.show()\n",
    "    # 최종적으로는 (1 x 400) 크기로 반환합니다.\n",
    "    return gray_resize.reshape(-1, 400).astype(np.float32)\n",
    "def check(test, train, train_labels):\n",
    "    knn = cv2.ml.KNearest_create()\n",
    "    knn.train(train, cv2.ml.ROW_SAMPLE, train_labels)\n",
    "    # 가장 가까운 5개의 글자를 찾아, 어떤 숫자에 해당하는지 찾습니다.\n",
    "    ret, result, neighbours, dist = knn.findNearest(test, k=5)\n",
    "    return result\n",
    "train, train_labels = load_train_data(FILE_NAME)\n",
    "for file_name in glob.glob('./test_*.png'):\n",
    "    test = resize20(file_name)\n",
    "    result = check(test, train, train_labels)\n",
    "    print(result)"
   ]
  },
  {
   "cell_type": "code",
   "execution_count": 20,
   "id": "b26a9319-dc89-432c-94f8-f447340b7a0d",
   "metadata": {},
   "outputs": [
    {
     "data": {
      "image/png": "[encoded data removed]",
      "text/plain": [
       "<Figure size 432x288 with 1 Axes>"
      ]
     },
     "metadata": {
      "needs_background": "light"
     },
     "output_type": "display_data"
    },
    {
     "name": "stdout",
     "output_type": "stream",
     "text": [
      "결과 : [[1.]]\n",
      "Image saved\n",
      "Clear.\n"
     ]
    },
    {
     "data": {
      "image/png": "[encoded data removed]",
      "text/plain": [
       "<Figure size 432x288 with 1 Axes>"
      ]
     },
     "metadata": {
      "needs_background": "light"
     },
     "output_type": "display_data"
    },
    {
     "name": "stdout",
     "output_type": "stream",
     "text": [
      "결과 : [[1.]]\n",
      "Image saved\n",
      "Clear.\n"
     ]
    },
    {
     "data": {
      "image/png": "[encoded data removed]",
      "text/plain": [
       "<Figure size 432x288 with 1 Axes>"
      ]
     },
     "metadata": {
      "needs_background": "light"
     },
     "output_type": "display_data"
    },
    {
     "name": "stdout",
     "output_type": "stream",
     "text": [
      "결과 : [[8.]]\n",
      "Image saved\n",
      "Clear.\n"
     ]
    },
    {
     "data": {
      "image/png": "[encoded data removed]",
      "text/plain": [
       "<Figure size 432x288 with 1 Axes>"
      ]
     },
     "metadata": {
      "needs_background": "light"
     },
     "output_type": "display_data"
    },
    {
     "name": "stdout",
     "output_type": "stream",
     "text": [
      "결과 : [[8.]]\n",
      "Image saved\n",
      "Clear.\n"
     ]
    },
    {
     "data": {
      "image/png": "[encoded data removed]",
      "text/plain": [
       "<Figure size 432x288 with 1 Axes>"
      ]
     },
     "metadata": {
      "needs_background": "light"
     },
     "output_type": "display_data"
    },
    {
     "name": "stdout",
     "output_type": "stream",
     "text": [
      "결과 : [[6.]]\n",
      "Image saved\n",
      "Clear.\n"
     ]
    },
    {
     "data": {
      "image/png": "[encoded data removed]",
      "text/plain": [
       "<Figure size 432x288 with 1 Axes>"
      ]
     },
     "metadata": {
      "needs_background": "light"
     },
     "output_type": "display_data"
    },
    {
     "name": "stdout",
     "output_type": "stream",
     "text": [
      "결과 : [[5.]]\n",
      "Image saved\n",
      "Good bye\n"
     ]
    }
   ],
   "source": [
    "import cv2, os\n",
    "import numpy as np\n",
    "\n",
    "img_save_path = \"./img/\"\n",
    "if not os.path.exists(img_save_path):\n",
    "  os.mkdir(img_save_path)\n",
    "\n",
    "onDown = False\n",
    "xprev, yprev = None, None\n",
    "def onmouse(event, x, y, flags, params):\n",
    "    global onDown, img, xprev, yprev\n",
    "    if event == cv2.EVENT_LBUTTONDOWN:\n",
    "        #print(\"DOWN : {0}, {1}\".format(x,y))\n",
    "        onDown = True\n",
    "    elif event == cv2.EVENT_MOUSEMOVE:\n",
    "        if onDown == True:\n",
    "            # print(\"MOVE : {0}, {1}\".format(x,y))\n",
    "            cv2.line(img, (xprev,yprev), (x,y), (255,255,255), 20)\n",
    "    elif event == cv2.EVENT_LBUTTONUP:\n",
    "        #print(\"UP : {0}, {1}\".format(x,y))\n",
    "        onDown = False\n",
    "    xprev, yprev = x,y\n",
    "\n",
    "cv2.namedWindow(\"image\")\n",
    "cv2.setMouseCallback(\"image\", onmouse)\n",
    "width, height = 280, 280\n",
    "img = np.zeros((280,280,3), np.uint8)\n",
    "figNum = 1\n",
    "while True:\n",
    "    cv2.imshow(\"image\", img)\n",
    "    key = cv2.waitKey(1)\n",
    "    if key == ord('r'):\n",
    "        img = np.zeros((280,280,3), np.uint8)\n",
    "        print(\"Clear.\")\n",
    "    if key == ord('s'):\n",
    "        img_save = cv2.resize(img, dsize=(28,28), interpolation=cv2.INTER_AREA)\n",
    "        cv2.imwrite(\"{0}image{1}.jpg\".format(img_save_path, str(figNum).zfill(2)), img_save)\n",
    "        \n",
    "        test = resize20(\"{0}image{1}.jpg\".format(img_save_path, str(figNum).zfill(2)))\n",
    "        figNum = figNum + 1\n",
    "        result = check(test, train, train_labels)\n",
    "        print(\"결과 :\",result)\n",
    "        print(\"Image saved\")\n",
    "    if key == ord('q'):\n",
    "        print(\"Good bye\")\n",
    "        break\n",
    "\n",
    "cv2.destroyAllWindows()"
   ]
  },
  {
   "cell_type": "code",
   "execution_count": null,
   "id": "6daa754a-65e4-4f2a-ad7b-7e650bef99ac",
   "metadata": {},
   "outputs": [],
   "source": []
  }
 ],
 "metadata": {
  "kernelspec": {
   "display_name": "myml",
   "language": "python",
   "name": "myml"
  },
  "language_info": {
   "codemirror_mode": {
    "name": "ipython",
    "version": 3
   },
   "file_extension": ".py",
   "mimetype": "text/x-python",
   "name": "python",
   "nbconvert_exporter": "python",
   "pygments_lexer": "ipython3",
   "version": "3.8.0"
  }
 },
 "nbformat": 4,
 "nbformat_minor": 5
}
