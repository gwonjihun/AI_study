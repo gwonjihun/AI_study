{
 "cells": [
  {
   "cell_type": "code",
   "execution_count": 1,
   "id": "08ee2542-6725-4635-a847-99eb0041b459",
   "metadata": {},
   "outputs": [],
   "source": [
    "from sklearn.datasets import load_digits\n",
    "from sklearn.neural_network import MLPClassifier\n",
    "from sklearn.model_selection import train_test_split, validation_curve\n",
    "\n",
    "import matplotlib.pyplot as plt\n",
    "import time\n",
    "import numpy as np"
   ]
  },
  {
   "cell_type": "code",
   "execution_count": 2,
   "id": "bf347e7a-43e0-4b18-9017-16a2a8f228e8",
   "metadata": {},
   "outputs": [],
   "source": [
    "digit = load_digits()\n",
    "X_train, X_test, y_train, y_test = train_test_split(digit.data,digit.target, test_size= 0.2)\n"
   ]
  },
  {
   "cell_type": "code",
   "execution_count": 3,
   "id": "9b411836-7506-46b2-a602-d29d1f9c0cff",
   "metadata": {},
   "outputs": [],
   "source": [
    "mlp = MLPClassifier(hidden_layer_sizes=(100),learning_rate_init=0.001,batch_size=32,max_iter= 320, solver='sgd',verbose=True)"
   ]
  },
  {
   "cell_type": "code",
   "execution_count": 4,
   "id": "d96dbdc6-b84a-4f7a-bdfd-a746fdead142",
   "metadata": {},
   "outputs": [
    {
     "name": "stdout",
     "output_type": "stream",
     "text": [
      "Iteration 1, loss = 1.99668660\n",
      "Iteration 2, loss = 0.29594439\n",
      "Iteration 3, loss = 0.20137598\n",
      "Iteration 4, loss = 0.15520047\n",
      "Iteration 5, loss = 0.13245999\n",
      "Iteration 6, loss = 0.11650535\n",
      "Iteration 7, loss = 0.09971836\n",
      "Iteration 8, loss = 0.09148087\n",
      "Iteration 9, loss = 0.08026524\n",
      "Iteration 10, loss = 0.07432576\n",
      "Iteration 11, loss = 0.06691958\n",
      "Iteration 12, loss = 0.06278253\n",
      "Iteration 13, loss = 0.05526750\n",
      "Iteration 14, loss = 0.05250443\n",
      "Iteration 15, loss = 0.04739503\n",
      "Iteration 16, loss = 0.04400475\n",
      "Iteration 17, loss = 0.04207753\n",
      "Iteration 18, loss = 0.03993901\n",
      "Iteration 19, loss = 0.03637034\n",
      "Iteration 20, loss = 0.03579373\n",
      "Iteration 21, loss = 0.03278485\n",
      "Iteration 22, loss = 0.03127673\n",
      "Iteration 23, loss = 0.02932382\n",
      "Iteration 24, loss = 0.02841512\n",
      "Iteration 25, loss = 0.02622073\n",
      "Iteration 26, loss = 0.02556251\n",
      "Iteration 27, loss = 0.02462329\n",
      "Iteration 28, loss = 0.02354528\n",
      "Iteration 29, loss = 0.02260804\n",
      "Iteration 30, loss = 0.02107154\n",
      "Iteration 31, loss = 0.02058846\n",
      "Iteration 32, loss = 0.01955167\n",
      "Iteration 33, loss = 0.01866505\n",
      "Iteration 34, loss = 0.01800279\n",
      "Iteration 35, loss = 0.01741918\n",
      "Iteration 36, loss = 0.01645266\n",
      "Iteration 37, loss = 0.01658167\n",
      "Iteration 38, loss = 0.01551681\n",
      "Iteration 39, loss = 0.01527474\n",
      "Iteration 40, loss = 0.01462205\n",
      "Iteration 41, loss = 0.01407354\n",
      "Iteration 42, loss = 0.01387714\n",
      "Iteration 43, loss = 0.01358349\n",
      "Iteration 44, loss = 0.01315905\n",
      "Iteration 45, loss = 0.01268283\n",
      "Iteration 46, loss = 0.01220114\n",
      "Iteration 47, loss = 0.01207974\n",
      "Iteration 48, loss = 0.01191247\n",
      "Iteration 49, loss = 0.01121518\n",
      "Iteration 50, loss = 0.01108267\n",
      "Iteration 51, loss = 0.01090173\n",
      "Iteration 52, loss = 0.01039951\n",
      "Iteration 53, loss = 0.01025644\n",
      "Iteration 54, loss = 0.00995381\n",
      "Iteration 55, loss = 0.00969578\n",
      "Iteration 56, loss = 0.00978428\n",
      "Iteration 57, loss = 0.00937570\n",
      "Iteration 58, loss = 0.00906826\n",
      "Iteration 59, loss = 0.00909482\n",
      "Iteration 60, loss = 0.00868031\n",
      "Iteration 61, loss = 0.00863155\n",
      "Iteration 62, loss = 0.00839038\n",
      "Iteration 63, loss = 0.00827227\n",
      "Iteration 64, loss = 0.00806562\n",
      "Iteration 65, loss = 0.00809757\n",
      "Iteration 66, loss = 0.00782435\n",
      "Iteration 67, loss = 0.00760448\n",
      "Iteration 68, loss = 0.00754328\n",
      "Iteration 69, loss = 0.00730709\n",
      "Iteration 70, loss = 0.00736340\n",
      "Iteration 71, loss = 0.00715998\n",
      "Iteration 72, loss = 0.00706962\n",
      "Iteration 73, loss = 0.00693375\n",
      "Iteration 74, loss = 0.00680404\n",
      "Iteration 75, loss = 0.00667928\n",
      "Iteration 76, loss = 0.00668887\n",
      "Iteration 77, loss = 0.00655041\n",
      "Iteration 78, loss = 0.00640045\n",
      "Iteration 79, loss = 0.00623657\n",
      "Iteration 80, loss = 0.00617460\n",
      "Iteration 81, loss = 0.00614070\n",
      "Iteration 82, loss = 0.00610014\n",
      "Iteration 83, loss = 0.00594700\n",
      "Iteration 84, loss = 0.00584958\n",
      "Iteration 85, loss = 0.00580553\n",
      "Iteration 86, loss = 0.00575256\n",
      "Iteration 87, loss = 0.00564615\n",
      "Iteration 88, loss = 0.00558835\n",
      "Iteration 89, loss = 0.00546112\n",
      "Iteration 90, loss = 0.00540223\n",
      "Iteration 91, loss = 0.00529019\n",
      "Iteration 92, loss = 0.00527460\n",
      "Iteration 93, loss = 0.00517898\n",
      "Iteration 94, loss = 0.00516507\n",
      "Iteration 95, loss = 0.00508106\n",
      "Iteration 96, loss = 0.00496031\n",
      "Iteration 97, loss = 0.00496385\n",
      "Iteration 98, loss = 0.00489351\n",
      "Iteration 99, loss = 0.00479073\n",
      "Iteration 100, loss = 0.00478211\n",
      "Iteration 101, loss = 0.00476996\n",
      "Iteration 102, loss = 0.00469089\n",
      "Iteration 103, loss = 0.00460586\n",
      "Iteration 104, loss = 0.00460920\n",
      "Iteration 105, loss = 0.00453493\n",
      "Iteration 106, loss = 0.00450435\n",
      "Iteration 107, loss = 0.00440821\n",
      "Iteration 108, loss = 0.00438883\n",
      "Iteration 109, loss = 0.00433801\n",
      "Iteration 110, loss = 0.00429955\n",
      "Training loss did not improve more than tol=0.000100 for 10 consecutive epochs. Stopping.\n"
     ]
    },
    {
     "data": {
      "text/html": [
       "<style>#sk-container-id-1 {color: black;background-color: white;}#sk-container-id-1 pre{padding: 0;}#sk-container-id-1 div.sk-toggleable {background-color: white;}#sk-container-id-1 label.sk-toggleable__label {cursor: pointer;display: block;width: 100%;margin-bottom: 0;padding: 0.3em;box-sizing: border-box;text-align: center;}#sk-container-id-1 label.sk-toggleable__label-arrow:before {content: \"▸\";float: left;margin-right: 0.25em;color: #696969;}#sk-container-id-1 label.sk-toggleable__label-arrow:hover:before {color: black;}#sk-container-id-1 div.sk-estimator:hover label.sk-toggleable__label-arrow:before {color: black;}#sk-container-id-1 div.sk-toggleable__content {max-height: 0;max-width: 0;overflow: hidden;text-align: left;background-color: #f0f8ff;}#sk-container-id-1 div.sk-toggleable__content pre {margin: 0.2em;color: black;border-radius: 0.25em;background-color: #f0f8ff;}#sk-container-id-1 input.sk-toggleable__control:checked~div.sk-toggleable__content {max-height: 200px;max-width: 100%;overflow: auto;}#sk-container-id-1 input.sk-toggleable__control:checked~label.sk-toggleable__label-arrow:before {content: \"▾\";}#sk-container-id-1 div.sk-estimator input.sk-toggleable__control:checked~label.sk-toggleable__label {background-color: #d4ebff;}#sk-container-id-1 div.sk-label input.sk-toggleable__control:checked~label.sk-toggleable__label {background-color: #d4ebff;}#sk-container-id-1 input.sk-hidden--visually {border: 0;clip: rect(1px 1px 1px 1px);clip: rect(1px, 1px, 1px, 1px);height: 1px;margin: -1px;overflow: hidden;padding: 0;position: absolute;width: 1px;}#sk-container-id-1 div.sk-estimator {font-family: monospace;background-color: #f0f8ff;border: 1px dotted black;border-radius: 0.25em;box-sizing: border-box;margin-bottom: 0.5em;}#sk-container-id-1 div.sk-estimator:hover {background-color: #d4ebff;}#sk-container-id-1 div.sk-parallel-item::after {content: \"\";width: 100%;border-bottom: 1px solid gray;flex-grow: 1;}#sk-container-id-1 div.sk-label:hover label.sk-toggleable__label {background-color: #d4ebff;}#sk-container-id-1 div.sk-serial::before {content: \"\";position: absolute;border-left: 1px solid gray;box-sizing: border-box;top: 0;bottom: 0;left: 50%;z-index: 0;}#sk-container-id-1 div.sk-serial {display: flex;flex-direction: column;align-items: center;background-color: white;padding-right: 0.2em;padding-left: 0.2em;position: relative;}#sk-container-id-1 div.sk-item {position: relative;z-index: 1;}#sk-container-id-1 div.sk-parallel {display: flex;align-items: stretch;justify-content: center;background-color: white;position: relative;}#sk-container-id-1 div.sk-item::before, #sk-container-id-1 div.sk-parallel-item::before {content: \"\";position: absolute;border-left: 1px solid gray;box-sizing: border-box;top: 0;bottom: 0;left: 50%;z-index: -1;}#sk-container-id-1 div.sk-parallel-item {display: flex;flex-direction: column;z-index: 1;position: relative;background-color: white;}#sk-container-id-1 div.sk-parallel-item:first-child::after {align-self: flex-end;width: 50%;}#sk-container-id-1 div.sk-parallel-item:last-child::after {align-self: flex-start;width: 50%;}#sk-container-id-1 div.sk-parallel-item:only-child::after {width: 0;}#sk-container-id-1 div.sk-dashed-wrapped {border: 1px dashed gray;margin: 0 0.4em 0.5em 0.4em;box-sizing: border-box;padding-bottom: 0.4em;background-color: white;}#sk-container-id-1 div.sk-label label {font-family: monospace;font-weight: bold;display: inline-block;line-height: 1.2em;}#sk-container-id-1 div.sk-label-container {text-align: center;}#sk-container-id-1 div.sk-container {/* jupyter's `normalize.less` sets `[hidden] { display: none; }` but bootstrap.min.css set `[hidden] { display: none !important; }` so we also need the `!important` here to be able to override the default hidden behavior on the sphinx rendered scikit-learn.org. See: https://github.com/scikit-learn/scikit-learn/issues/21755 */display: inline-block !important;position: relative;}#sk-container-id-1 div.sk-text-repr-fallback {display: none;}</style><div id=\"sk-container-id-1\" class=\"sk-top-container\"><div class=\"sk-text-repr-fallback\"><pre>MLPClassifier(batch_size=32, hidden_layer_sizes=100, max_iter=320, solver=&#x27;sgd&#x27;,\n",
       "              verbose=True)</pre><b>In a Jupyter environment, please rerun this cell to show the HTML representation or trust the notebook. <br />On GitHub, the HTML representation is unable to render, please try loading this page with nbviewer.org.</b></div><div class=\"sk-container\" hidden><div class=\"sk-item\"><div class=\"sk-estimator sk-toggleable\"><input class=\"sk-toggleable__control sk-hidden--visually\" id=\"sk-estimator-id-1\" type=\"checkbox\" checked><label for=\"sk-estimator-id-1\" class=\"sk-toggleable__label sk-toggleable__label-arrow\">MLPClassifier</label><div class=\"sk-toggleable__content\"><pre>MLPClassifier(batch_size=32, hidden_layer_sizes=100, max_iter=320, solver=&#x27;sgd&#x27;,\n",
       "              verbose=True)</pre></div></div></div></div></div>"
      ],
      "text/plain": [
       "MLPClassifier(batch_size=32, hidden_layer_sizes=100, max_iter=320, solver='sgd',\n",
       "              verbose=True)"
      ]
     },
     "execution_count": 4,
     "metadata": {},
     "output_type": "execute_result"
    }
   ],
   "source": [
    "mlp.fit(X_train,y_train)"
   ]
  },
  {
   "cell_type": "code",
   "execution_count": 5,
   "id": "c9341a16-5f12-4289-8d9d-3e5ba367832d",
   "metadata": {},
   "outputs": [],
   "source": [
    "res=mlp.predict(X_test)"
   ]
  },
  {
   "cell_type": "code",
   "execution_count": 6,
   "id": "86c0107c-6000-4d10-982a-b4cb82a297ef",
   "metadata": {},
   "outputs": [],
   "source": [
    "conf = np.zeros((10,10))"
   ]
  },
  {
   "cell_type": "code",
   "execution_count": 7,
   "id": "1abe39fd-172d-4942-94d6-b6cc08e4bcf4",
   "metadata": {},
   "outputs": [
    {
     "name": "stdout",
     "output_type": "stream",
     "text": [
      "[[34.  0.  0.  0.  0.  0.  0.  0.  0.  0.]\n",
      " [ 0. 40.  0.  0.  0.  0.  0.  0.  1.  0.]\n",
      " [ 1.  0. 37.  0.  0.  1.  0.  0.  1.  0.]\n",
      " [ 0.  0.  0. 41.  0.  0.  0.  0.  0.  0.]\n",
      " [ 0.  0.  0.  0. 31.  0.  0.  0.  0.  0.]\n",
      " [ 0.  0.  0.  0.  0. 37.  0.  0.  2.  0.]\n",
      " [ 0.  1.  0.  0.  0.  0. 28.  0.  0.  0.]\n",
      " [ 0.  0.  0.  1.  0.  0.  0. 37.  0.  0.]\n",
      " [ 0.  0.  0.  0.  0.  0.  0.  0. 36.  0.]\n",
      " [ 0.  0.  0.  0.  1.  0.  0.  0.  0. 30.]]\n",
      "97.5 %입니당\n"
     ]
    }
   ],
   "source": [
    "conf = np.zeros((10,10))\n",
    "for i in range(len(res)):\n",
    "    conf[res[i]][y_test[i]]+=1\n",
    "print(conf)\n",
    "\n",
    "no_correct=0\n",
    "for i in range(10):\n",
    "    no_correct+=conf[i][i]\n",
    "\n",
    "    accuracy=no_correct/len(y_test)\n",
    "print(accuracy*100,\"%입니당\")"
   ]
  },
  {
   "cell_type": "code",
   "execution_count": 8,
   "id": "2d1b728a-6e8c-4647-aa6b-8c35c1450e35",
   "metadata": {},
   "outputs": [
    {
     "data": {
      "text/plain": [
       "array([[ 0.,  0.,  5., ...,  0.,  0.,  0.],\n",
       "       [ 0.,  0.,  0., ..., 10.,  0.,  0.],\n",
       "       [ 0.,  0.,  0., ..., 16.,  9.,  0.],\n",
       "       ...,\n",
       "       [ 0.,  0.,  1., ...,  6.,  0.,  0.],\n",
       "       [ 0.,  0.,  2., ..., 12.,  0.,  0.],\n",
       "       [ 0.,  0., 10., ..., 12.,  1.,  0.]])"
      ]
     },
     "execution_count": 8,
     "metadata": {},
     "output_type": "execute_result"
    }
   ],
   "source": [
    "digit.data"
   ]
  },
  {
   "cell_type": "code",
   "execution_count": 14,
   "id": "7f4885a6-9cc3-43b7-8845-3140d7fd8a5d",
   "metadata": {},
   "outputs": [
    {
     "data": {
      "text/plain": [
       "array([[ 0.,  0.,  1., ..., 11.,  1.,  0.],\n",
       "       [ 0.,  0.,  7., ...,  7.,  3.,  0.],\n",
       "       [ 0.,  0.,  0., ...,  3.,  0.,  0.],\n",
       "       ...,\n",
       "       [ 0.,  2., 15., ...,  4.,  1.,  0.],\n",
       "       [ 0.,  0.,  4., ...,  0.,  0.,  0.],\n",
       "       [ 0.,  0.,  3., ...,  5.,  0.,  0.]])"
      ]
     },
     "execution_count": 14,
     "metadata": {},
     "output_type": "execute_result"
    }
   ],
   "source": [
    "digits = load_digits()\n",
    "\n",
    "X_train, X_test, y_train, y_test = train_test_split(digits.data,digits.target, test_size= 0.4)\n",
    "X_train"
   ]
  },
  {
   "cell_type": "code",
   "execution_count": 15,
   "id": "e6c07883-61a7-4c17-b222-192a190c6f27",
   "metadata": {},
   "outputs": [
    {
     "name": "stdout",
     "output_type": "stream",
     "text": [
      "[[nan nan nan nan nan nan nan nan nan nan]\n",
      " [nan nan nan nan nan nan nan nan nan nan]\n",
      " [nan nan nan nan nan nan nan nan nan nan]\n",
      " [nan nan nan nan nan nan nan nan nan nan]\n",
      " [nan nan nan nan nan nan nan nan nan nan]\n",
      " [nan nan nan nan nan nan nan nan nan nan]\n",
      " [nan nan nan nan nan nan nan nan nan nan]\n",
      " [nan nan nan nan nan nan nan nan nan nan]\n",
      " [nan nan nan nan nan nan nan nan nan nan]\n",
      " [nan nan nan nan nan nan nan nan nan nan]\n",
      " [nan nan nan nan nan nan nan nan nan nan]\n",
      " [nan nan nan nan nan nan nan nan nan nan]\n",
      " [nan nan nan nan nan nan nan nan nan nan]\n",
      " [nan nan nan nan nan nan nan nan nan nan]\n",
      " [nan nan nan nan nan nan nan nan nan nan]\n",
      " [nan nan nan nan nan nan nan nan nan nan]\n",
      " [nan nan nan nan nan nan nan nan nan nan]\n",
      " [nan nan nan nan nan nan nan nan nan nan]\n",
      " [nan nan nan nan nan nan nan nan nan nan]\n",
      " [nan nan nan nan nan nan nan nan nan nan]]\n",
      "[[nan nan nan nan nan nan nan nan nan nan]\n",
      " [nan nan nan nan nan nan nan nan nan nan]\n",
      " [nan nan nan nan nan nan nan nan nan nan]\n",
      " [nan nan nan nan nan nan nan nan nan nan]\n",
      " [nan nan nan nan nan nan nan nan nan nan]\n",
      " [nan nan nan nan nan nan nan nan nan nan]\n",
      " [nan nan nan nan nan nan nan nan nan nan]\n",
      " [nan nan nan nan nan nan nan nan nan nan]\n",
      " [nan nan nan nan nan nan nan nan nan nan]\n",
      " [nan nan nan nan nan nan nan nan nan nan]\n",
      " [nan nan nan nan nan nan nan nan nan nan]\n",
      " [nan nan nan nan nan nan nan nan nan nan]\n",
      " [nan nan nan nan nan nan nan nan nan nan]\n",
      " [nan nan nan nan nan nan nan nan nan nan]\n",
      " [nan nan nan nan nan nan nan nan nan nan]\n",
      " [nan nan nan nan nan nan nan nan nan nan]\n",
      " [nan nan nan nan nan nan nan nan nan nan]\n",
      " [nan nan nan nan nan nan nan nan nan nan]\n",
      " [nan nan nan nan nan nan nan nan nan nan]\n",
      " [nan nan nan nan nan nan nan nan nan nan]]\n",
      "0.08713984489440918 초입니당!\n",
      "[nan nan nan nan nan nan nan nan nan nan nan nan nan nan nan nan nan nan\n",
      " nan nan]\n"
     ]
    },
    {
     "data": {
      "image/png": "[encoded data removed]",
      "text/plain": [
       "<Figure size 432x288 with 1 Axes>"
      ]
     },
     "metadata": {
      "needs_background": "light"
     },
     "output_type": "display_data"
    }
   ],
   "source": [
    "start = time.time()\n",
    "mlp = MLPClassifier(learning_rate=0.001,batch_size=32,max_iter=300,solver=\"sgd\")\n",
    "prange= range(50,1001,50)\n",
    "train_score,test_score=validation_curve(mlp,X_train,y_train,param_name=\"hidden_layer_sizes\",param_range=prange,cv=10,scoring=\"accuracy\")\n",
    "end=time.time()\n",
    "print(train_score)\n",
    "print(test_score)\n",
    "print(end-start,\"초입니당!\")\n",
    "\n",
    "train_mean = np.mean(train_score,axis=1)\n",
    "train_std = np.std(train_score,axis=1)\n",
    "test_mean = np.mean(test_score,axis=1)\n",
    "test_std = np.std(test_score,axis=1)\n",
    "print(train_mean)\n",
    "\n",
    "plt.plot(prange,train_mean,label=\"Tr Score\",color=\"r\")\n",
    "plt.plot(prange,test_mean,label=\"Test Score\",color=\"b\")\n",
    "plt.fill_between(prange,train_mean-train_std,train_mean+train_std,alpha=0.2,color='r')\n",
    "plt.fill_between(prange,test_mean-test_std,test_mean+test_std,alpha=0.2,color='b')\n",
    "plt.legend(loc=\"best\")\n",
    "plt.grid(axis='both')\n",
    "plt.ylim(0.9,1.01)\n",
    "plt.show()"
   ]
  },
  {
   "cell_type": "code",
   "execution_count": null,
   "id": "88f334a5-00ca-43a6-98e2-bca951b2f685",
   "metadata": {},
   "outputs": [],
   "source": []
  },
  {
   "cell_type": "code",
   "execution_count": 12,
   "id": "38295a17-ec7a-491c-850b-81cf7e62eed1",
   "metadata": {},
   "outputs": [
    {
     "data": {
      "image/png": "[encoded data removed]",
      "text/plain": [
       "<Figure size 432x288 with 1 Axes>"
      ]
     },
     "metadata": {
      "needs_background": "light"
     },
     "output_type": "display_data"
    }
   ],
   "source": []
  },
  {
   "cell_type": "code",
   "execution_count": null,
   "id": "8dd3b197-0ba8-403e-9078-091588b86ff5",
   "metadata": {},
   "outputs": [],
   "source": []
  }
 ],
 "metadata": {
  "kernelspec": {
   "display_name": "myml",
   "language": "python",
   "name": "myml"
  },
  "language_info": {
   "codemirror_mode": {
    "name": "ipython",
    "version": 3
   },
   "file_extension": ".py",
   "mimetype": "text/x-python",
   "name": "python",
   "nbconvert_exporter": "python",
   "pygments_lexer": "ipython3",
   "version": "3.8.0"
  }
 },
 "nbformat": 4,
 "nbformat_minor": 5
}
